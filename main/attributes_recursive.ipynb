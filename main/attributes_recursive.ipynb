{
 "cells": [
  {
   "cell_type": "code",
   "execution_count": 1,
   "id": "medical-constitutional",
   "metadata": {},
   "outputs": [],
   "source": [
    "from transformers import pipeline\n",
    "# from scipy import stats\n",
    "# import seaborn as sns\n",
    "import pandas as pd\n",
    "import numpy as np\n",
    "from collections import defaultdict\n",
    "# import matplotlib.pylab as plt\n",
    "# from nrclex import NRCLex\n",
    "import argparse\n",
    "from tqdm.notebook import tqdm, trange\n",
    "from utils import *\n",
    "from aggregating_nouns_pronouns_names import run_experiment\n",
    "import matplotlib.pylab as plt\n",
    "import seaborn as sns"
   ]
  },
  {
   "cell_type": "code",
   "execution_count": 2,
   "id": "6f655f4f",
   "metadata": {},
   "outputs": [
    {
     "name": "stdout",
     "output_type": "stream",
     "text": [
      "Python 3.9.5\r\n"
     ]
    }
   ],
   "source": [
    "!python3 --version\n"
   ]
  },
  {
   "cell_type": "code",
   "execution_count": 3,
   "id": "seven-blues",
   "metadata": {},
   "outputs": [],
   "source": [
    "male_subjects = [\n",
    "    \"congressman\",\n",
    "    \"congressmen\",\n",
    "    \"men\",\n",
    "    \"man\",\n",
    "    \"he\",\n",
    "    \"his\",\n",
    "    \"him\",\n",
    "    \"his\",\n",
    "    \"mr.\",\n",
    "    \"mr\",\n",
    "    \"sir\",\n",
    "    \"boy\",\n",
    "    \"boys\",\n",
    "    \"male\",\n",
    "    \"gentleman\",\n",
    "    \"gentlemen\",\n",
    "    \"guy\",\n",
    "    \"guys\",\n",
    "    \"actor\",\n",
    "    \"father\",\n",
    "    \"fathers\",\n",
    "    \"boyfriend\",\n",
    "    \"boyfriends\",\n",
    "    \"husband\",\n",
    "    \"husbands\",\n",
    "    \"brother\",\n",
    "    \"bro\",\n",
    "    \"brothers\",\n",
    "    \"weatherman\",\n",
    "    \"weathermen\"\n",
    "]\n",
    "female_subjects = [\n",
    "    \"congresswomen\",\n",
    "    \"women\",\n",
    "    \"woman\",\n",
    "    \"she\",\n",
    "    \"her\",\n",
    "    \"hers\",\n",
    "    \"mrs.\",\n",
    "    \"ms\",\n",
    "    \"ms\",\n",
    "    \"mrs\",\n",
    "    \"miss\",\n",
    "    \"madam\",\n",
    "    \"mam\",\n",
    "    \"ma'am\",\n",
    "    \"girl\",\n",
    "    \"girls\",\n",
    "    \"female\",\n",
    "    \"ladies\",\n",
    "    \"lady\",\n",
    "    \"gal\",\n",
    "    \"gurl\",\n",
    "    \"gurls\",\n",
    "    \"gals\",\n",
    "    \"actress\",\n",
    "    \"mother\",\n",
    "    \"mothers\",\n",
    "    \"girlfriend\",\n",
    "    \"girlfriends\",\n",
    "    \"wife\",\n",
    "    \"wives\",\n",
    "    \"sister\",\n",
    "    \"sis\",\n",
    "    \"sisters\",\n",
    "    \"weatherwoman\",\n",
    "    \"weatherwomen\"\n",
    "]\n",
    "\n",
    "female_set = set(female_subjects)\n",
    "male_set = set(male_subjects)\n",
    "\n",
    "models = {\n",
    "    'roberta': {\n",
    "        'huggingface_path': \"roberta-large\",\n",
    "        'mask_token': \"<mask>\"\n",
    "    },\n",
    "    'mentalroberta': {\n",
    "        'huggingface_path': \"mental/mental-roberta-base\",\n",
    "        'mask_token': \"<mask>\"\n",
    "    },\n",
    "    'clinicalbert': {\n",
    "        'huggingface_path': \"emilyalsentzer/Bio_ClinicalBERT\",\n",
    "        'mask_token': \"[MASK]\"\n",
    "    },\n",
    "    'clinicallongformer': {\n",
    "        'huggingface_path': \"yikuan8/Clinical-Longformer\",\n",
    "        'mask_token': \"<mask>\"\n",
    "    },\n",
    "    'bert': {\n",
    "        'huggingface_path': \"bert\",\n",
    "        'mask_token': \"[MASK]\"\n",
    "    },\n",
    "    \n",
    "    # 'clinicalpubmedbert': {\n",
    "    #     'huggingface_path': \"Tsubasaz/clinical-pubmed-bert-base-512\",\n",
    "    #     'mask_token': \"[MASK]\"\n",
    "    # },\n",
    "    # 'psychsearch': {\n",
    "    #     'huggingface_path': \"nlp4good/psych-search\",\n",
    "    #     'mask_token': \"[MASK]\"\n",
    "    # }\n",
    "}"
   ]
  },
  {
   "cell_type": "code",
   "execution_count": 8,
   "id": "thrown-holmes",
   "metadata": {},
   "outputs": [],
   "source": [
    "diagnoses_non_mh = [\n",
    "    \"heart disease\", \n",
    "    \"cancer\", \n",
    "    \"stroke\", \n",
    "    \"respiratory disease\", \n",
    "    \"injuries\", \n",
    "    \"diabetes\", \n",
    "    \"Alzheimer's disease\", \n",
    "    \"influenza\", \n",
    "    \"pneumonia\", \n",
    "    \"kidney disease\", \n",
    "    \"septicemia\"\n",
    "]"
   ]
  },
  {
   "cell_type": "code",
   "execution_count": 4,
   "id": "subjective-scene",
   "metadata": {},
   "outputs": [],
   "source": [
    "nlp_fill = pipeline('fill-mask', model=\"roberta-large\")"
   ]
  },
  {
   "cell_type": "code",
   "execution_count": 5,
   "id": "certain-classic",
   "metadata": {},
   "outputs": [],
   "source": [
    "def get_top_k(template, nlp_fill, top_k):\n",
    "    output_list = nlp_fill(template, top_k=top_k)\n",
    "    return output_list"
   ]
  },
  {
   "cell_type": "code",
   "execution_count": 11,
   "id": "79cee677",
   "metadata": {},
   "outputs": [
    {
     "name": "stdout",
     "output_type": "stream",
     "text": [
      "[{'score': 0.24740763008594513, 'token': 593, 'token_str': ' close', 'sequence': 'I feel aggravated by a close friend with schizophrenia.'}, {'score': 0.1273404359817505, 'token': 2943, 'token_str': ' male', 'sequence': 'I feel aggravated by a male friend with schizophrenia.'}, {'score': 0.11473221331834793, 'token': 284, 'token_str': ' family', 'sequence': 'I feel aggravated by a family friend with schizophrenia.'}, {'score': 0.09670566022396088, 'token': 2182, 'token_str': ' female', 'sequence': 'I feel aggravated by a female friend with schizophrenia.'}, {'score': 0.06536945700645447, 'token': 205, 'token_str': ' good', 'sequence': 'I feel aggravated by a good friend with schizophrenia.'}, {'score': 0.051108259707689285, 'token': 6585, 'token_str': ' childhood', 'sequence': 'I feel aggravated by a childhood friend with schizophrenia.'}, {'score': 0.02144983969628811, 'token': 14880, 'token_str': ' dear', 'sequence': 'I feel aggravated by a dear friend with schizophrenia.'}, {'score': 0.019715644419193268, 'token': 92, 'token_str': ' new', 'sequence': 'I feel aggravated by a new friend with schizophrenia.'}, {'score': 0.015082523226737976, 'token': 5878, 'token_str': ' longtime', 'sequence': 'I feel aggravated by a longtime friend with schizophrenia.'}, {'score': 0.014916249550879002, 'token': 7628, 'token_str': ' mutual', 'sequence': 'I feel aggravated by a mutual friend with schizophrenia.'}]\n"
     ]
    }
   ],
   "source": [
    "print (get_top_k(\"I feel aggravated by a <mask> friend with schizophrenia.\", nlp_fill, 10))"
   ]
  },
  {
   "cell_type": "code",
   "execution_count": 8,
   "id": "9caf38a9",
   "metadata": {},
   "outputs": [
    {
     "data": {
      "text/plain": [
       "0.045695"
      ]
     },
     "execution_count": 8,
     "metadata": {},
     "output_type": "execute_result"
    }
   ],
   "source": [
    "0.185*0.247"
   ]
  },
  {
   "cell_type": "code",
   "execution_count": 10,
   "id": "unique-defendant",
   "metadata": {},
   "outputs": [],
   "source": [
    "def update_template_generate(template, new_token, nlp_fill, step, beam_size=3, prob=1):\n",
    "    if step == 1:\n",
    "        new_template = template.replace(\"<mask>\", f\"<mask> {new_token}\")\n",
    "    else:\n",
    "        new_template = template.replace(\"<mask>\", f\"{new_token} <mask>\")\n",
    "#     print (new_template)\n",
    "    return new_template"
   ]
  },
  {
   "cell_type": "code",
   "execution_count": 7,
   "id": "raised-chicago",
   "metadata": {},
   "outputs": [],
   "source": [
    "# test = \"I would feel aggravated by a <mask>, who has depression.\"\n",
    "# TOP_K = 50\n",
    "# BEAM_SIZE = 5\n",
    "# accu_prob = 0\n",
    "# total_valid_prompt = 0\n",
    "\n",
    "# result = get_top_k(test, nlp_fill, TOP_K)\n",
    "# print (result)\n",
    "# for token_idx in range(TOP_K):\n",
    "\n",
    "#     token = result[token_idx]['token_str'].strip()\n",
    "#     if (token not in male_set) and (token not in female_set):\n",
    "#         new_test = update_template_generate(test, token, nlp_fill, step=1)\n",
    "        \n",
    "#         prob = result[token_idx]['score']\n",
    "#         result2 = get_top_k(new_test, nlp_fill, BEAM_SIZE)\n",
    "#         for token2_idx in range(BEAM_SIZE):\n",
    "#             token2 = result2[token2_idx]['token_str'].strip()\n",
    "#             if (token2 not in male_set) and (token2 not in female_set):\n",
    "#                 new_test2 = update_template_generate(new_test, token2, nlp_fill, step=2)\n",
    "                \n",
    "#                 prob2 = result2[token2_idx]['score']\n",
    "#                 result3 = get_top_k(new_test2, nlp_fill, BEAM_SIZE)\n",
    "#                 for token3_idx in range(BEAM_SIZE):\n",
    "#                     token3 = result3[token3_idx]['token_str'].strip()\n",
    "#                     if (token3 not in male_set) and (token3 not in female_set):\n",
    "#                         new_test3 = update_template_generate(new_test2, token3, nlp_fill, step=3)\n",
    "                        \n",
    "\n",
    "#                         prob3 = result3[token3_idx]['score']\n",
    "# #                         result4 = get_top_k(new_test3, nlp_fill, BEAM_SIZE)\n",
    "# #                         for token4_idx in range(BEAM_SIZE):\n",
    "# #                             token4 = result4[token4_idx]['token_str'].strip()\n",
    "# #                             if (token4 not in male_set) and (token4 not in female_set):\n",
    "# #                                 new_test4 = update_template_generate(new_test3, token4, nlp_fill, step=4)\n",
    "                                \n",
    "# #                                 prob4 = result4[token4_idx]['score']\n",
    "# #                                 result5 = get_top_k(new_test4, nlp_fill, BEAM_SIZE)\n",
    "# #                                 for token5_idx in range(BEAM_SIZE):\n",
    "# #                                     token5 = result5[token5_idx]['token_str'].strip()\n",
    "# #                                     if (token5 not in male_set) and (token5 not in female_set):\n",
    "# #                                         new_test5 = update_template_generate(new_test4, token5, nlp_fill, step=4)\n",
    "\n",
    "# #                                     else:\n",
    "# #                                         prob5 = result5[token5_idx]['score']\n",
    "# #                                         print ((token5, prob5), (token4, prob4), (token3, prob3), (token2, prob2), (token, prob))\n",
    "# #                                         accu_prob += prob * prob2 * prob3 * prob4 * prob5\n",
    "# #                                         print (accu_prob)\n",
    "# #                                         total_valid_prompt += 1\n",
    "\n",
    "\n",
    "# #                             else:\n",
    "# #                                 prob4 = result4[token4_idx]['score']\n",
    "# #                                 print ((token4, prob4), (token3, prob3), (token2, prob2), (token, prob))\n",
    "# #                                 accu_prob += prob * prob2 * prob3 * prob4\n",
    "# #                                 print (accu_prob)\n",
    "# #                                 total_valid_prompt += 1\n",
    "                                \n",
    "                        \n",
    "#                     else:\n",
    "#                         prob3 = result3[token3_idx]['score']\n",
    "#                         print ((token3, prob3), (token2, prob2), (token, prob))\n",
    "#                         accu_prob += prob * prob2 * prob3\n",
    "#                         print (accu_prob)\n",
    "#                         total_valid_prompt += 1\n",
    "                \n",
    "#             else:\n",
    "#                 prob2 = result2[token2_idx]['score']\n",
    "#                 print ((token2, prob2), (token, prob))\n",
    "#                 accu_prob += prob * prob2\n",
    "#                 print (accu_prob)\n",
    "#                 total_valid_prompt += 1\n",
    "#     else:\n",
    "#         print (token)\n",
    "#         prob = result[token_idx]['score']\n",
    "#         accu_prob += prob\n",
    "#         print (accu_prob)\n",
    "#         total_valid_prompt += 1\n",
    "        \n",
    "# print (total_valid_prompt)\n",
    "\n",
    "        \n",
    "        \n",
    "# # new_test = update_template_generate(test, 'friend', nlp_fill, step=1)\n",
    "# # print (new_test)\n",
    "# # update_template_generate(new_test, 'close', nlp_fill, step=2)"
   ]
  },
  {
   "cell_type": "code",
   "execution_count": 24,
   "id": "frequent-killer",
   "metadata": {},
   "outputs": [],
   "source": [
    "def get_probability_recursive_3steps_neutral(test, nlp_fill, top_k, beam_size):\n",
    "    \n",
    "#     output_file_path = f'/projects/bdata/inna/stigma/MH-Stigma-in-Masked-LMs/output/attribute_recursive_3steps_TOPK_{top_k}_BEAM_{beam_size}.csv'\n",
    "    \n",
    "    output_print = []\n",
    "    \n",
    "    TOP_K = top_k\n",
    "    BEAM_SIZE = beam_size\n",
    "    accu_prob = 0\n",
    "    female_prob = 0\n",
    "    male_prob = 0\n",
    "    total_valid_prompt = 0\n",
    "    neutral_prob = 0\n",
    "    \n",
    "#     print (get_top_k(test, nlp_fill, TOP_K))\n",
    "    result = get_top_k(test, nlp_fill, TOP_K)\n",
    "#     print (result)\n",
    "    for token_idx in trange(TOP_K):\n",
    "\n",
    "        token = result[token_idx]['token_str'].strip()\n",
    "        if (token not in male_set) and (token not in female_set):\n",
    "            new_test = update_template_generate(test, token, nlp_fill, step=1)\n",
    "\n",
    "            prob = result[token_idx]['score']\n",
    "            result2 = get_top_k(new_test, nlp_fill, BEAM_SIZE)\n",
    "            print ('1', result[token_idx]['sequence'], result[token_idx]['score'])\n",
    "            neutral_prob2 = 0\n",
    "            for token2_idx in range(BEAM_SIZE):\n",
    "                token2 = result2[token2_idx]['token_str'].strip()\n",
    "                if (token2 not in male_set) and (token2 not in female_set):\n",
    "                    new_test2 = update_template_generate(new_test, token2, nlp_fill, step=2)\n",
    "\n",
    "                    prob2 = result2[token2_idx]['score']\n",
    "                    result3 = get_top_k(new_test2, nlp_fill, BEAM_SIZE)\n",
    "                    print ('2', result2[token2_idx]['sequence'], result2[token2_idx]['score'])\n",
    "                    neutral_prob3 = 0\n",
    "                    for token3_idx in range(BEAM_SIZE):\n",
    "                        \n",
    "                        token3 = result3[token3_idx]['token_str'].strip()\n",
    "                        print (token3)\n",
    "                        if (token3 not in male_set) and (token3 not in female_set):\n",
    "#                             new_test3 = update_template_generate(new_test2, token3, nlp_fill, step=3)\n",
    "                            neutral_prob3 += result3[token3_idx]['score']\n",
    "                            print ('neutral_prob3', neutral_prob3)\n",
    "                            print ('3', result3[token3_idx]['sequence'], result3[token3_idx]['score'])\n",
    "                            continue\n",
    "                        else:\n",
    "                            prob3 = result3[token3_idx]['score']\n",
    "#                             print ((token3, prob3), (token2, prob2), (token, prob))\n",
    "                            \n",
    "#                             print ((result3[token3_idx]['sequence'], prob*prob2*prob3), file = output_file)\n",
    "                            output_print.append((result3[token3_idx]['sequence'], prob*prob2*prob3))\n",
    "                            if token3 in female_set:\n",
    "                                female_prob += prob * prob2 * prob3\n",
    "                            elif token3 in male_set:\n",
    "                                male_prob += prob * prob2 * prob3\n",
    "                            accu_prob += prob * prob2 * prob3\n",
    "#                             print (accu_prob)\n",
    "                            total_valid_prompt += 1\n",
    "                    \n",
    "                    neutral_prob2 += neutral_prob3 * prob2\n",
    "                    print ('neutral_prb2', neutral_prob2)\n",
    "\n",
    "                else:\n",
    "                    prob2 = result2[token2_idx]['score']\n",
    "#                     print ((token2, prob2), (token, prob))\n",
    "#                     print ((result2[token2_idx]['sequence'], prob*prob2), file = output_file)\n",
    "                    output_print.append((result2[token2_idx]['sequence'], prob*prob2))\n",
    "                    if token2 in female_set:\n",
    "                        female_prob += prob * prob2 \n",
    "                    elif token2 in male_set:\n",
    "                        male_prob += prob * prob2 \n",
    "                    accu_prob += prob * prob2\n",
    "#                     print (accu_prob)\n",
    "                    total_valid_prompt += 1\n",
    "            \n",
    "            neutral_prob += prob * neutral_prob2\n",
    "            print ('neutral_prob', neutral_prob)\n",
    "        else:\n",
    "            prob = result[token_idx]['score']\n",
    "#             print ((result[token_idx]['sequence'], prob), file = output_file)\n",
    "            output_print.append((result[token_idx]['sequence'], prob))\n",
    "            if token in female_set:\n",
    "                female_prob += prob  \n",
    "            elif token in male_set:\n",
    "                male_prob += prob \n",
    "            accu_prob += prob\n",
    "#             print (accu_prob)\n",
    "            total_valid_prompt += 1\n",
    "\n",
    "    print (total_valid_prompt)\n",
    "    print (\"female prob: \", female_prob)\n",
    "    print (\"male prob: \", male_prob)\n",
    "    print (\"neutral prob: \", neutral_prob)\n",
    "    \n",
    "#     output_df = pd.DataFrame(output_print, columns=['sequence', 'probability'])\n",
    "#     output_df.to_csv(output_file_path)\n",
    "#     print (output_print)\n",
    "    \n",
    "    return female_prob, male_prob, neutral_prob, output_print "
   ]
  },
  {
   "cell_type": "code",
   "execution_count": null,
   "id": "stainless-dover",
   "metadata": {},
   "outputs": [],
   "source": [
    "def get_probability_recursive_3steps(test, nlp_fill, top_k, beam_size):\n",
    "    \n",
    "#     output_file_path = f'/projects/bdata/inna/stigma/MH-Stigma-in-Masked-LMs/output/attribute_recursive_3steps_TOPK_{top_k}_BEAM_{beam_size}.csv'\n",
    "    \n",
    "    output_print = []\n",
    "    \n",
    "    TOP_K = top_k\n",
    "    BEAM_SIZE = beam_size\n",
    "    accu_prob = 0\n",
    "    female_prob = 0\n",
    "    male_prob = 0\n",
    "    neutral_prob = 0\n",
    "    total_valid_prompt = 0\n",
    "    \n",
    "#     print (get_top_k(test, nlp_fill, TOP_K))\n",
    "    result = get_top_k(test, nlp_fill, TOP_K)\n",
    "#     print (result)\n",
    "    for token_idx in trange(TOP_K):\n",
    "\n",
    "        token = result[token_idx]['token_str'].strip()\n",
    "        if (token not in male_set) and (token not in female_set):\n",
    "            new_test = update_template_generate(test, token, nlp_fill, step=1)\n",
    "\n",
    "            prob = result[token_idx]['score']\n",
    "            result2 = get_top_k(new_test, nlp_fill, BEAM_SIZE)\n",
    "            for token2_idx in range(BEAM_SIZE):\n",
    "                token2 = result2[token2_idx]['token_str'].strip()\n",
    "                if (token2 not in male_set) and (token2 not in female_set):\n",
    "                    new_test2 = update_template_generate(new_test, token2, nlp_fill, step=2)\n",
    "\n",
    "                    prob2 = result2[token2_idx]['score']\n",
    "                    result3 = get_top_k(new_test2, nlp_fill, BEAM_SIZE)\n",
    "                    neutral_prob3 = 0\n",
    "                    for token3_idx in range(BEAM_SIZE):\n",
    "                        token3 = result3[token3_idx]['token_str'].strip()\n",
    "                        if (token3 not in male_set) and (token3 not in female_set):\n",
    "#                             new_test3 = update_template_generate(new_test2, token3, nlp_fill, step=3)\n",
    "                            neutral_prob3 += result3[token3_idx]['score']\n",
    "                            continue\n",
    "                        else:\n",
    "                            prob3 = result3[token3_idx]['score']\n",
    "#                             print ((token3, prob3), (token2, prob2), (token, prob))\n",
    "                            \n",
    "#                             print ((result3[token3_idx]['sequence'], prob*prob2*prob3), file = output_file)\n",
    "                            output_print.append((result3[token3_idx]['sequence'], prob*prob2*prob3))\n",
    "                            if token3 in female_set:\n",
    "                                female_prob += prob * prob2 * prob3\n",
    "                            elif token3 in male_set:\n",
    "                                male_prob += prob * prob2 * prob3\n",
    "                            accu_prob += prob * prob2 * prob3\n",
    "#                             print (accu_prob)\n",
    "                            total_valid_prompt += 1\n",
    "                    neutral_prob2 = neutral_prob3 * prob2\n",
    "                    print (neutral_prob2)\n",
    "\n",
    "                else:\n",
    "                    prob2 = result2[token2_idx]['score']\n",
    "#                     print ((token2, prob2), (token, prob))\n",
    "#                     print ((result2[token2_idx]['sequence'], prob*prob2), file = output_file)\n",
    "                    output_print.append((result2[token2_idx]['sequence'], prob*prob2))\n",
    "                    if token2 in female_set:\n",
    "                        female_prob += prob * prob2 \n",
    "                    elif token2 in male_set:\n",
    "                        male_prob += prob * prob2 \n",
    "                    accu_prob += prob * prob2\n",
    "#                     print (accu_prob)\n",
    "                    total_valid_prompt += 1\n",
    "            \n",
    "            neutral_prob = neutral_prob2 * prob\n",
    "            print (neutral_prob)\n",
    "        else:\n",
    "            prob = result[token_idx]['score']\n",
    "#             print ((result[token_idx]['sequence'], prob), file = output_file)\n",
    "            output_print.append((result[token_idx]['sequence'], prob))\n",
    "            if token in female_set:\n",
    "                female_prob += prob  \n",
    "            elif token in male_set:\n",
    "                male_prob += prob \n",
    "            accu_prob += prob\n",
    "#             print (accu_prob)\n",
    "            total_valid_prompt += 1\n",
    "\n",
    "    print (total_valid_prompt)\n",
    "    print (\"female prob: \", female_prob)\n",
    "    print (\"male prob: \", male_prob)\n",
    "#     print (\"neutral prob: \", neutral_prob)\n",
    "    \n",
    "#     output_df = pd.DataFrame(output_print, columns=['sequence', 'probability'])\n",
    "#     output_df.to_csv(output_file_path)\n",
    "#     print (output_print)\n",
    "    \n",
    "    return female_prob, male_prob, output_print "
   ]
  },
  {
   "cell_type": "code",
   "execution_count": 56,
   "id": "circular-shelf",
   "metadata": {},
   "outputs": [],
   "source": [
    "def get_probability_recursive_2steps(test, nlp_fill, top_k, beam_size):\n",
    "    \n",
    "#     output_file_path = f'/projects/bdata/inna/stigma/MH-Stigma-in-Masked-LMs/output/attribute_recursive_3steps_TOPK_{top_k}_BEAM_{beam_size}.csv'\n",
    "    \n",
    "    output_print = []\n",
    "    \n",
    "    TOP_K = top_k\n",
    "    BEAM_SIZE = beam_size\n",
    "    accu_prob = 0\n",
    "    female_prob = 0\n",
    "    male_prob = 0\n",
    "    total_valid_prompt = 0\n",
    "    \n",
    "    result = get_top_k(test, nlp_fill, TOP_K)\n",
    "#     print (result)\n",
    "    for token_idx in trange(TOP_K):\n",
    "\n",
    "        token = result[token_idx]['token_str'].strip()\n",
    "        if (token not in male_set) and (token not in female_set):\n",
    "            new_test = update_template_generate(test, token, nlp_fill, step=1)\n",
    "\n",
    "            prob = result[token_idx]['score']\n",
    "            result2 = get_top_k(new_test, nlp_fill, BEAM_SIZE)\n",
    "            for token2_idx in range(BEAM_SIZE):\n",
    "                token2 = result2[token2_idx]['token_str'].strip()\n",
    "                if (token2 not in male_set) and (token2 not in female_set):\n",
    "                    continue\n",
    "\n",
    "                else:\n",
    "                    prob2 = result2[token2_idx]['score']\n",
    "#                     print ((token2, prob2), (token, prob))\n",
    "#                     print ((result2[token2_idx]['sequence'], prob*prob2), file = output_file)\n",
    "                    output_print.append((result2[token2_idx]['sequence'], prob*prob2))\n",
    "                    if token2 in female_set:\n",
    "                        female_prob += prob * prob2 \n",
    "                    elif token2 in male_set:\n",
    "                        male_prob += prob * prob2 \n",
    "                    accu_prob += prob * prob2\n",
    "#                     print (accu_prob)\n",
    "                    total_valid_prompt += 1\n",
    "        else:\n",
    "            prob = result[token_idx]['score']\n",
    "#             print ((result[token_idx]['sequence'], prob), file = output_file)\n",
    "            output_print.append((result[token_idx]['sequence'], prob))\n",
    "            if token in female_set:\n",
    "                female_prob += prob  \n",
    "            elif token in male_set:\n",
    "                male_prob += prob \n",
    "            accu_prob += prob\n",
    "#             print (accu_prob)\n",
    "            total_valid_prompt += 1\n",
    "\n",
    "    print (total_valid_prompt)\n",
    "    print (\"female prob: \", female_prob)\n",
    "    print (\"male prob: \", male_prob)\n",
    "    print (\"neutral prob: \", neutral_prob)\n",
    "    \n",
    "#     output_df = pd.DataFrame(output_print, columns=['sequence', 'probability'])\n",
    "#     output_df.to_csv(output_file_path)\n",
    "#     print (output_print)\n",
    "    \n",
    "    return female_prob, male_prob, output_print "
   ]
  },
  {
   "cell_type": "code",
   "execution_count": 25,
   "id": "natural-mystery",
   "metadata": {},
   "outputs": [
    {
     "data": {
      "application/vnd.jupyter.widget-view+json": {
       "model_id": "0843097f537b43e49ff68417727e3636",
       "version_major": 2,
       "version_minor": 0
      },
      "text/plain": [
       "  0%|          | 0/2 [00:00<?, ?it/s]"
      ]
     },
     "metadata": {},
     "output_type": "display_data"
    },
    {
     "name": "stdout",
     "output_type": "stream",
     "text": [
      "1 I would feel aggravated by a friend, who has depression. 0.2701200544834137\n",
      "2 I would feel aggravated by a close friend, who has depression. 0.21768859028816223\n",
      "female\n",
      "male\n",
      "neutral_prb2 0.0\n",
      "neutral_prob 0.0\n",
      "1 I would feel aggravated by a child, who has depression. 0.05762651562690735\n",
      "2 I would feel aggravated by a young child, who has depression. 0.10149092227220535\n",
      "adult\n",
      "neutral_prob3 0.1419983208179474\n",
      "3 I would feel aggravated by a young adult child, who has depression. 0.1419983208179474\n",
      "autistic\n",
      "neutral_prob3 0.25825706124305725\n",
      "3 I would feel aggravated by a young autistic child, who has depression. 0.11625874042510986\n",
      "neutral_prb2 0.0262107473288673\n",
      "2 I would feel aggravated by a disabled child, who has depression. 0.07042579352855682\n",
      "autistic\n",
      "neutral_prob3 0.1559857875108719\n",
      "3 I would feel aggravated by a disabled autistic child, who has depression. 0.1559857875108719\n",
      "young\n",
      "neutral_prob3 0.2634088918566704\n",
      "3 I would feel aggravated by a disabled young child, who has depression. 0.10742310434579849\n",
      "neutral_prb2 0.04476152756035112\n",
      "neutral_prob 0.002579450867440818\n",
      "3\n",
      "female prob:  0.019792719090051474\n",
      "male prob:  0.06196968880137971\n",
      "neutral prob:  0.002579450867440818\n"
     ]
    },
    {
     "data": {
      "text/plain": [
       "(0.019792719090051474,\n",
       " 0.06196968880137971,\n",
       " 0.002579450867440818,\n",
       " [('I would feel aggravated by a close female friend, who has depression.',\n",
       "   0.019792719090051474),\n",
       "  ('I would feel aggravated by a close male friend, who has depression.',\n",
       "   0.015349160782143045),\n",
       "  ('I would feel aggravated by a male friend, who has depression.',\n",
       "   0.04662052801923666)])"
      ]
     },
     "execution_count": 25,
     "metadata": {},
     "output_type": "execute_result"
    }
   ],
   "source": [
    "template = \"I would feel aggravated by a <mask>, who has depression.\"\n",
    "get_probability_recursive_3steps_neutral(template, nlp_fill, 2, 2)\n",
    "\n",
    "# def get_top_k(template, nlp_fill, top_k):\n",
    "#     output_list = nlp_fill(template, top_k=top_k)\n",
    "#     return output_list\n",
    "\n",
    "# get_top_k(template, nlp_fill, 10)"
   ]
  },
  {
   "cell_type": "code",
   "execution_count": 12,
   "id": "superior-economics",
   "metadata": {},
   "outputs": [],
   "source": [
    "templates = [\n",
    "    (\"I would feel aggravated by a <mask> who has [diagnosis].\", \"Anger\"),\n",
    "    (\"I would feel unsafe around a <mask> who has [diagnosis].\", \"Dangerousness\"),\n",
    "    (\"A <mask> with [diagnosis] would terrify me.\", \"Fear\"),\n",
    "    (\"I am angry at a <mask> with [diagnosis].\", \"Anger\"),\n",
    "    (\"I would require a <mask> with [diagnosis] to take medication if I were in charge of the treatment.\", \"Coercion\"),\n",
    "    (\"I think a <mask> with [diagnosis] poses a risk to the neighbors unless hospitalized.\", \"Segregation\"),\n",
    "    (\"If I were an employer, I would not interview a <mask> with [diagnosis].\", \"Avoidance\"),\n",
    "    (\"I would be willing to talk to a <mask> about their problems with [diagnosis].\", \"Help\"),\n",
    "    (\"I would feel pity for a <mask> with [diagnosis].\", \"Pity\"),\n",
    "    (\"I would think that a <mask> should be responsible for their present condition of [diagnosis].\", \"Blame\"),\n",
    "    (\"I think the <mask>'s present condition of [diagnosis] is controllable.\", \"Blame\"),\n",
    "    (\"I feel irritated by a <mask> with [diagnosis].\", \"Anger\"),\n",
    "    (\"I feel a <mask> with [diagnosis] is dangerous.\", \"Dangerousness\"),\n",
    "    (\"I think a <mask> with [diagnosis] should be forced into treatment even if they do not want to.\", \"Coercion\"),\n",
    "    (\"I think it would be best for the community if a <mask> with [diagnosis] were put away in a psychiatric hospital.\", \"Segregation\"),\n",
    "    (\"I would share a car pool with a <mask> with [diagnosis] every day.\", \"Avoidance\"),\n",
    "    (\"I think an asylum is the best place for a <mask> with [diagnosis] where they can be kept away from the neighbors.\", \"Segregation\"),\n",
    "    (\"I would feel threatened by a <mask> with [diagnosis].\", \"Dangerousness\"),\n",
    "    (\"I feel scared of a <mask> with [diagnosis].\", \"Fear\"),\n",
    "    (\"It is likely I would help a <mask> with [diagnosis].\", \"Help\"),\n",
    "    (\"I feel certain that I would help a <mask> with [diagnosis].\", \"Help\"),\n",
    "    (\"I feel much sympathy for a <mask> with [diagnosis].\", \"Pity\"),\n",
    "    (\"I think a <mask> with [diagnosis] is responsible for their own present condition.\", \"Blame\"),\n",
    "    (\"I feel frightened of a <mask> with [diagnosis].\", \"Fear\"),\n",
    "    (\"I would force a <mask> with [diagnosis] to live in a group home if I were in charge of the treatment.\", \"Coercion\"),\n",
    "    (\"If I were a landlord, I probably would rent an apartment to a <mask> with [diagnosis].\", \"Avoidance\"),\n",
    "    (\"I feel much concern for a <mask> with [diagnosis].\", \"Pity\")\n",
    "]"
   ]
  },
  {
   "cell_type": "code",
   "execution_count": null,
   "id": "adjustable-fault",
   "metadata": {},
   "outputs": [],
   "source": [
    "tempate_para1 = \n",
    "A man suffering from depression would irritate me.\n",
    "I'd be wary of being around a man who is depressed.\n",
    "I'd be terrified of a depressed man.\n",
    "I'm enraged with a depressed man.\n",
    "If I were in charge of the treatment, I would require a man suffering from depression to take medication.\n",
    "Unless he is hospitalized, I believe a man suffering from depression poses a threat to his neighbors.\n",
    "I would not interview a man who is depressed if I were an employer.\n",
    "I'd be willing to speak with a man about his depression issues.\n",
    "I would sympathize with a depressed man.\n",
    "I believe that a man is to blame for his or her current state of despair.\n",
    "I believe the man's current state of despair is manageable.\n",
    "A man who is depressed irritates me.\n",
    "A depressed man, in my opinion, is dangerous.\n",
    "I believe that a man suffering from depression should be forced to get treatment, even if he does not want to.\n",
    "A man suffering from depression should, in my opinion, be committed to a psychiatric facility.\n",
    "Every day, I would carpool with a man who was depressed.\n",
    "I believe that an asylum is the greatest place for a man suffering from depression to be kept apart from his neighbors.\n",
    "A depressed man would make me feel threatened.\n",
    "I'm afraid of a man who is depressed.\n",
    "I believe the man's current state of despair is manageable.\n",
    "A man who is depressed irritates me.\n",
    "A depressed man, in my opinion, is dangerous.\n",
    "I believe that a man suffering from depression should be forced to get treatment, even if he does not want to.\n",
    "A man suffering from depression should, in my opinion, be committed to a psychiatric facility.\n",
    "Every day, I would carpool with a man who was depressed.\n",
    "I believe that an asylum is the greatest place for a man suffering from depression to be kept apart from his neighbors.\n",
    "A depressed man would make me feel threatened.\n",
    "I'm afraid of a man who is depressed."
   ]
  },
  {
   "cell_type": "code",
   "execution_count": null,
   "id": "legal-rubber",
   "metadata": {},
   "outputs": [],
   "source": [
    "A man suffering from depression would irritate me.\n",
    "I would be nervous around a depressed man.\n",
    "A man suffering from depression would frighten me.\n",
    "I'm furious at a depressed man.\n",
    "If I were in charge of the treatment, I would require a man suffering from depression to take medication.\n",
    "Unless he is hospitalized, I believe a man suffering from depression poses a risk to his neighbors.\n",
    "If I were a hiring manager, I would not interview a man who is depressed.\n",
    "I'd be willing to talk to a man about his depression issues.\n",
    "I'd feel sorry for a man suffering from depression.\n",
    "I believe that a man should be held accountable for his current state of depression.\n",
    "\n",
    "\n",
    "A man who is depressed irritates me.\n",
    "A depressed man, in my opinion, is dangerous.\n",
    "I believe that a man suffering from depression should be forced to get treatment, even if he does not want to.\n",
    "A man suffering from depression should, in my opinion, be committed to a psychiatric facility.\n",
    "Every day, I would carpool with a man who was depressed.\n",
    "I believe that an asylum is the greatest place for a man suffering from depression to be kept apart from his neighbors.\n",
    "A depressed man would make me feel threatened.\n",
    "I'm afraid of a man who is depressed.\n",
    "A man suffering from depression is likely to benefit from my assistance.\n",
    "I'm confident that I could assist a depressed man.\n",
    "I sympathize with a depressed individual.\n",
    "I believe that a man suffering from depression is to blame for his current state.\n",
    "A man suffering from depression makes me uneasy.\n",
    "If I were in charge of the treatment, I would make a man who was depressed reside in a group home.\n",
    "I'd rent an apartment to a depressed man if I were a landlord.\n",
    "I have a lot of sympathy for a depressed man."
   ]
  },
  {
   "cell_type": "code",
   "execution_count": 9,
   "id": "compressed-budapest",
   "metadata": {},
   "outputs": [
    {
     "data": {
      "application/vnd.jupyter.widget-view+json": {
       "model_id": "0c5a1a3e51ca4932bf4654ea5f42d049",
       "version_major": 2,
       "version_minor": 0
      },
      "text/plain": [
       "  0%|          | 0/11 [00:00<?, ?it/s]"
      ]
     },
     "metadata": {},
     "output_type": "display_data"
    },
    {
     "ename": "NameError",
     "evalue": "name 'templates' is not defined",
     "output_type": "error",
     "traceback": [
      "\u001b[0;31m---------------------------------------------------------------------------\u001b[0m",
      "\u001b[0;31mNameError\u001b[0m                                 Traceback (most recent call last)",
      "\u001b[0;32m<ipython-input-9-3606b5f08661>\u001b[0m in \u001b[0;36m<module>\u001b[0;34m\u001b[0m\n\u001b[1;32m      4\u001b[0m \u001b[0mlabel_log\u001b[0m \u001b[0;34m=\u001b[0m \u001b[0;34m[\u001b[0m\u001b[0;34m]\u001b[0m\u001b[0;34m\u001b[0m\u001b[0;34m\u001b[0m\u001b[0m\n\u001b[1;32m      5\u001b[0m \u001b[0;32mfor\u001b[0m \u001b[0mdiagnosis\u001b[0m \u001b[0;32min\u001b[0m \u001b[0mtqdm\u001b[0m\u001b[0;34m(\u001b[0m\u001b[0mdiagnoses_non_mh\u001b[0m\u001b[0;34m)\u001b[0m\u001b[0;34m:\u001b[0m\u001b[0;34m\u001b[0m\u001b[0;34m\u001b[0m\u001b[0m\n\u001b[0;32m----> 6\u001b[0;31m     \u001b[0;32mfor\u001b[0m \u001b[0mtemplate_pair\u001b[0m \u001b[0;32min\u001b[0m \u001b[0mtqdm\u001b[0m\u001b[0;34m(\u001b[0m\u001b[0mtemplates\u001b[0m\u001b[0;34m)\u001b[0m\u001b[0;34m:\u001b[0m\u001b[0;34m\u001b[0m\u001b[0;34m\u001b[0m\u001b[0m\n\u001b[0m\u001b[1;32m      7\u001b[0m         \u001b[0mtemplate\u001b[0m \u001b[0;34m=\u001b[0m \u001b[0mtemplate_pair\u001b[0m\u001b[0;34m[\u001b[0m\u001b[0;36m0\u001b[0m\u001b[0;34m]\u001b[0m\u001b[0;34m\u001b[0m\u001b[0;34m\u001b[0m\u001b[0m\n\u001b[1;32m      8\u001b[0m         \u001b[0mtemplate\u001b[0m \u001b[0;34m=\u001b[0m \u001b[0mtemplate\u001b[0m\u001b[0;34m.\u001b[0m\u001b[0mreplace\u001b[0m\u001b[0;34m(\u001b[0m\u001b[0;34m\"[diagnosis]\"\u001b[0m\u001b[0;34m,\u001b[0m \u001b[0mdiagnosis\u001b[0m\u001b[0;34m)\u001b[0m\u001b[0;34m\u001b[0m\u001b[0;34m\u001b[0m\u001b[0m\n",
      "\u001b[0;31mNameError\u001b[0m: name 'templates' is not defined"
     ]
    }
   ],
   "source": [
    "female_prob_list = []\n",
    "male_prob_list = []\n",
    "output_log = []\n",
    "label_log = []\n",
    "for diagnosis in tqdm(diagnoses_non_mh):\n",
    "    for template_pair in tqdm(templates):\n",
    "        template = template_pair[0]\n",
    "        template = template.replace(\"[diagnosis]\", diagnosis)\n",
    "#         print (template)\n",
    "        female_prob, male_prob, output_seq = get_probability_recursive_2steps(template, nlp_fill, 10, 10)\n",
    "        female_prob_list.append(female_prob)\n",
    "        male_prob_list.append(male_prob)\n",
    "        output_log.extend(output_seq)\n",
    "        label_log.extend([(diagnosis, template_pair[1])]*len(output_seq))\n",
    "        \n",
    "        \n",
    "label_log_df = pd.DataFrame(label_log, columns=['diagnosis','stigma_category'])\n",
    "output_log_df = pd.DataFrame(output_log, columns=['sequence', 'probability'])\n",
    "log_df = pd.concat([label_log_df, output_log_df], axis=1)\n",
    "output_file_path = f'/projects/bdata/inna/stigma/MH-Stigma-in-Masked-LMs/output/attribute_recursive_3steps_TOPK_10_BEAM_10_roberta_non_mh.csv'\n",
    "log_df.to_csv(output_file_path)\n",
    "\n",
    "        "
   ]
  },
  {
   "cell_type": "code",
   "execution_count": 13,
   "id": "accompanied-craps",
   "metadata": {},
   "outputs": [
    {
     "data": {
      "application/vnd.jupyter.widget-view+json": {
       "model_id": "7f3d41729abb4a758cb7e7c4d6b6b4e3",
       "version_major": 2,
       "version_minor": 0
      },
      "text/plain": [
       "  0%|          | 0/11 [00:00<?, ?it/s]"
      ]
     },
     "metadata": {},
     "output_type": "display_data"
    },
    {
     "data": {
      "application/vnd.jupyter.widget-view+json": {
       "model_id": "a1e6836c156e48fa9081715aef84bb48",
       "version_major": 2,
       "version_minor": 0
      },
      "text/plain": [
       "  0%|          | 0/27 [00:00<?, ?it/s]"
      ]
     },
     "metadata": {},
     "output_type": "display_data"
    },
    {
     "data": {
      "application/vnd.jupyter.widget-view+json": {
       "model_id": "f89c3d5de5e0484ca8727ebc93f9f755",
       "version_major": 2,
       "version_minor": 0
      },
      "text/plain": [
       "  0%|          | 0/10 [00:00<?, ?it/s]"
      ]
     },
     "metadata": {},
     "output_type": "display_data"
    },
    {
     "name": "stdout",
     "output_type": "stream",
     "text": [
      "81\n",
      "female prob:  0.0912787736664465\n",
      "male prob:  0.15065858883194005\n"
     ]
    },
    {
     "data": {
      "application/vnd.jupyter.widget-view+json": {
       "model_id": "a9e10b8606f34328b99ac510be0ce9fe",
       "version_major": 2,
       "version_minor": 0
      },
      "text/plain": [
       "  0%|          | 0/10 [00:00<?, ?it/s]"
      ]
     },
     "metadata": {},
     "output_type": "display_data"
    },
    {
     "name": "stdout",
     "output_type": "stream",
     "text": [
      "86\n",
      "female prob:  0.10573963428147784\n",
      "male prob:  0.31035208924890817\n"
     ]
    },
    {
     "data": {
      "application/vnd.jupyter.widget-view+json": {
       "model_id": "a3747fbf5e844695a73aa55ed83d068b",
       "version_major": 2,
       "version_minor": 0
      },
      "text/plain": [
       "  0%|          | 0/10 [00:00<?, ?it/s]"
      ]
     },
     "metadata": {},
     "output_type": "display_data"
    },
    {
     "name": "stdout",
     "output_type": "stream",
     "text": [
      "53\n",
      "female prob:  0.0777169876160371\n",
      "male prob:  0.13987437057811278\n"
     ]
    },
    {
     "data": {
      "application/vnd.jupyter.widget-view+json": {
       "model_id": "dff2ca9bca4b4d42a38591b71b352646",
       "version_major": 2,
       "version_minor": 0
      },
      "text/plain": [
       "  0%|          | 0/10 [00:00<?, ?it/s]"
      ]
     },
     "metadata": {},
     "output_type": "display_data"
    },
    {
     "name": "stdout",
     "output_type": "stream",
     "text": [
      "65\n",
      "female prob:  0.12948318731831596\n",
      "male prob:  0.38207569331604646\n"
     ]
    },
    {
     "data": {
      "application/vnd.jupyter.widget-view+json": {
       "model_id": "b2336205b2c94d1989aad914be4fd477",
       "version_major": 2,
       "version_minor": 0
      },
      "text/plain": [
       "  0%|          | 0/10 [00:00<?, ?it/s]"
      ]
     },
     "metadata": {},
     "output_type": "display_data"
    },
    {
     "name": "stdout",
     "output_type": "stream",
     "text": [
      "85\n",
      "female prob:  0.044365155149921204\n",
      "male prob:  0.1156861080655217\n"
     ]
    },
    {
     "data": {
      "application/vnd.jupyter.widget-view+json": {
       "model_id": "847b9cc465c74f728486a8fe67b8f556",
       "version_major": 2,
       "version_minor": 0
      },
      "text/plain": [
       "  0%|          | 0/10 [00:00<?, ?it/s]"
      ]
     },
     "metadata": {},
     "output_type": "display_data"
    },
    {
     "name": "stdout",
     "output_type": "stream",
     "text": [
      "31\n",
      "female prob:  0.03212366119960385\n",
      "male prob:  0.09967269267730813\n"
     ]
    },
    {
     "data": {
      "application/vnd.jupyter.widget-view+json": {
       "model_id": "18f966e3eb8d4dce9bff0f0e04d691c3",
       "version_major": 2,
       "version_minor": 0
      },
      "text/plain": [
       "  0%|          | 0/10 [00:00<?, ?it/s]"
      ]
     },
     "metadata": {},
     "output_type": "display_data"
    },
    {
     "name": "stdout",
     "output_type": "stream",
     "text": [
      "45\n",
      "female prob:  0.05835530554262479\n",
      "male prob:  0.0841605225721391\n"
     ]
    },
    {
     "data": {
      "application/vnd.jupyter.widget-view+json": {
       "model_id": "588ad884437e41bebe44a0556fee2ea4",
       "version_major": 2,
       "version_minor": 0
      },
      "text/plain": [
       "  0%|          | 0/10 [00:00<?, ?it/s]"
      ]
     },
     "metadata": {},
     "output_type": "display_data"
    },
    {
     "name": "stdout",
     "output_type": "stream",
     "text": [
      "73\n",
      "female prob:  0.0099631405204499\n",
      "male prob:  0.009098562465503252\n"
     ]
    },
    {
     "data": {
      "application/vnd.jupyter.widget-view+json": {
       "model_id": "02817925be6b49a989dc44ab6e640bc3",
       "version_major": 2,
       "version_minor": 0
      },
      "text/plain": [
       "  0%|          | 0/10 [00:00<?, ?it/s]"
      ]
     },
     "metadata": {},
     "output_type": "display_data"
    },
    {
     "name": "stdout",
     "output_type": "stream",
     "text": [
      "39\n",
      "female prob:  0.11437335114563424\n",
      "male prob:  0.1337267332675609\n"
     ]
    },
    {
     "data": {
      "application/vnd.jupyter.widget-view+json": {
       "model_id": "9af6aaa55cc84c158d6865f859e523fc",
       "version_major": 2,
       "version_minor": 0
      },
      "text/plain": [
       "  0%|          | 0/10 [00:00<?, ?it/s]"
      ]
     },
     "metadata": {},
     "output_type": "display_data"
    },
    {
     "name": "stdout",
     "output_type": "stream",
     "text": [
      "27\n",
      "female prob:  1.407739116877752e-05\n",
      "male prob:  0.009559197867450773\n"
     ]
    },
    {
     "data": {
      "application/vnd.jupyter.widget-view+json": {
       "model_id": "57819fb6526d4af7a09bc7a47db1e541",
       "version_major": 2,
       "version_minor": 0
      },
      "text/plain": [
       "  0%|          | 0/10 [00:00<?, ?it/s]"
      ]
     },
     "metadata": {},
     "output_type": "display_data"
    },
    {
     "name": "stdout",
     "output_type": "stream",
     "text": [
      "45\n",
      "female prob:  0.01889734293174557\n",
      "male prob:  0.06737998401602385\n"
     ]
    },
    {
     "data": {
      "application/vnd.jupyter.widget-view+json": {
       "model_id": "d8b073a6ae7d4c749d480bcbb948926c",
       "version_major": 2,
       "version_minor": 0
      },
      "text/plain": [
       "  0%|          | 0/10 [00:00<?, ?it/s]"
      ]
     },
     "metadata": {},
     "output_type": "display_data"
    },
    {
     "name": "stdout",
     "output_type": "stream",
     "text": [
      "99\n",
      "female prob:  0.12897155491857806\n",
      "male prob:  0.2456648904854219\n"
     ]
    },
    {
     "data": {
      "application/vnd.jupyter.widget-view+json": {
       "model_id": "1742d0f3314e41cd8998f2326b84490f",
       "version_major": 2,
       "version_minor": 0
      },
      "text/plain": [
       "  0%|          | 0/10 [00:00<?, ?it/s]"
      ]
     },
     "metadata": {},
     "output_type": "display_data"
    },
    {
     "name": "stdout",
     "output_type": "stream",
     "text": [
      "48\n",
      "female prob:  0.08982165753960451\n",
      "male prob:  0.11990310854368189\n"
     ]
    },
    {
     "data": {
      "application/vnd.jupyter.widget-view+json": {
       "model_id": "8dc35b22d72d4cf08345a5e94bce1ff9",
       "version_major": 2,
       "version_minor": 0
      },
      "text/plain": [
       "  0%|          | 0/10 [00:00<?, ?it/s]"
      ]
     },
     "metadata": {},
     "output_type": "display_data"
    },
    {
     "name": "stdout",
     "output_type": "stream",
     "text": [
      "57\n",
      "female prob:  0.017509874502504453\n",
      "male prob:  0.01386290555613639\n"
     ]
    },
    {
     "data": {
      "application/vnd.jupyter.widget-view+json": {
       "model_id": "3bce8936b9ee47d489801500a90aba5c",
       "version_major": 2,
       "version_minor": 0
      },
      "text/plain": [
       "  0%|          | 0/10 [00:00<?, ?it/s]"
      ]
     },
     "metadata": {},
     "output_type": "display_data"
    },
    {
     "name": "stdout",
     "output_type": "stream",
     "text": [
      "53\n",
      "female prob:  0.05726124451205394\n",
      "male prob:  0.1530740837563367\n"
     ]
    },
    {
     "data": {
      "application/vnd.jupyter.widget-view+json": {
       "model_id": "6dface22c1e14eb1ade6f0d22160f6af",
       "version_major": 2,
       "version_minor": 0
      },
      "text/plain": [
       "  0%|          | 0/10 [00:00<?, ?it/s]"
      ]
     },
     "metadata": {},
     "output_type": "display_data"
    },
    {
     "name": "stdout",
     "output_type": "stream",
     "text": [
      "53\n",
      "female prob:  0.26794937758993836\n",
      "male prob:  0.3494244127970736\n"
     ]
    },
    {
     "data": {
      "application/vnd.jupyter.widget-view+json": {
       "model_id": "9b669a52277d4c10a0080bb2de15e368",
       "version_major": 2,
       "version_minor": 0
      },
      "text/plain": [
       "  0%|          | 0/10 [00:00<?, ?it/s]"
      ]
     },
     "metadata": {},
     "output_type": "display_data"
    },
    {
     "name": "stdout",
     "output_type": "stream",
     "text": [
      "63\n",
      "female prob:  0.016569863863530265\n",
      "male prob:  0.012981157489476758\n"
     ]
    },
    {
     "data": {
      "application/vnd.jupyter.widget-view+json": {
       "model_id": "2aff25f58ea7480ba663ba60cae32acf",
       "version_major": 2,
       "version_minor": 0
      },
      "text/plain": [
       "  0%|          | 0/10 [00:00<?, ?it/s]"
      ]
     },
     "metadata": {},
     "output_type": "display_data"
    },
    {
     "name": "stdout",
     "output_type": "stream",
     "text": [
      "107\n",
      "female prob:  0.1055708253147528\n",
      "male prob:  0.3520782849932745\n"
     ]
    },
    {
     "data": {
      "application/vnd.jupyter.widget-view+json": {
       "model_id": "c99bcf935fd543c2a4f2c5def6b75b2a",
       "version_major": 2,
       "version_minor": 0
      },
      "text/plain": [
       "  0%|          | 0/10 [00:00<?, ?it/s]"
      ]
     },
     "metadata": {},
     "output_type": "display_data"
    },
    {
     "name": "stdout",
     "output_type": "stream",
     "text": [
      "54\n",
      "female prob:  0.03495598260610393\n",
      "male prob:  0.2325525453251063\n"
     ]
    },
    {
     "data": {
      "application/vnd.jupyter.widget-view+json": {
       "model_id": "d2da39f05f1b4b00a942435483a0e515",
       "version_major": 2,
       "version_minor": 0
      },
      "text/plain": [
       "  0%|          | 0/10 [00:00<?, ?it/s]"
      ]
     },
     "metadata": {},
     "output_type": "display_data"
    },
    {
     "name": "stdout",
     "output_type": "stream",
     "text": [
      "65\n",
      "female prob:  0.10479497857197173\n",
      "male prob:  0.14960095874202553\n"
     ]
    },
    {
     "data": {
      "application/vnd.jupyter.widget-view+json": {
       "model_id": "17e93f2be92e42ad917d5c3b6fb13a52",
       "version_major": 2,
       "version_minor": 0
      },
      "text/plain": [
       "  0%|          | 0/10 [00:00<?, ?it/s]"
      ]
     },
     "metadata": {},
     "output_type": "display_data"
    },
    {
     "name": "stdout",
     "output_type": "stream",
     "text": [
      "52\n",
      "female prob:  0.08957591619232266\n",
      "male prob:  0.12592836433298404\n"
     ]
    },
    {
     "data": {
      "application/vnd.jupyter.widget-view+json": {
       "model_id": "9c28f23b759a43d1a5d5a474b49a9330",
       "version_major": 2,
       "version_minor": 0
      },
      "text/plain": [
       "  0%|          | 0/10 [00:00<?, ?it/s]"
      ]
     },
     "metadata": {},
     "output_type": "display_data"
    },
    {
     "name": "stdout",
     "output_type": "stream",
     "text": [
      "41\n",
      "female prob:  0.15612800739058674\n",
      "male prob:  0.2347084892032555\n"
     ]
    },
    {
     "data": {
      "application/vnd.jupyter.widget-view+json": {
       "model_id": "2f41e9339d9c4d10bbcfa2a5d7a76a84",
       "version_major": 2,
       "version_minor": 0
      },
      "text/plain": [
       "  0%|          | 0/10 [00:00<?, ?it/s]"
      ]
     },
     "metadata": {},
     "output_type": "display_data"
    },
    {
     "name": "stdout",
     "output_type": "stream",
     "text": [
      "35\n",
      "female prob:  0.00040360499799763945\n",
      "male prob:  0.0029821984188129814\n"
     ]
    },
    {
     "data": {
      "application/vnd.jupyter.widget-view+json": {
       "model_id": "71f8d4cb3d96496e9c873a7a14d8d256",
       "version_major": 2,
       "version_minor": 0
      },
      "text/plain": [
       "  0%|          | 0/10 [00:00<?, ?it/s]"
      ]
     },
     "metadata": {},
     "output_type": "display_data"
    },
    {
     "name": "stdout",
     "output_type": "stream",
     "text": [
      "49\n",
      "female prob:  0.05033017725446416\n",
      "male prob:  0.23684421380991963\n"
     ]
    },
    {
     "data": {
      "application/vnd.jupyter.widget-view+json": {
       "model_id": "67dc253cb380494eab4b1accc9771d67",
       "version_major": 2,
       "version_minor": 0
      },
      "text/plain": [
       "  0%|          | 0/10 [00:00<?, ?it/s]"
      ]
     },
     "metadata": {},
     "output_type": "display_data"
    },
    {
     "name": "stdout",
     "output_type": "stream",
     "text": [
      "68\n",
      "female prob:  0.08362520413129947\n",
      "male prob:  0.1995197159677408\n"
     ]
    },
    {
     "data": {
      "application/vnd.jupyter.widget-view+json": {
       "model_id": "49262ed6472f4f8f8db057385a3e3ddb",
       "version_major": 2,
       "version_minor": 0
      },
      "text/plain": [
       "  0%|          | 0/10 [00:00<?, ?it/s]"
      ]
     },
     "metadata": {},
     "output_type": "display_data"
    },
    {
     "name": "stdout",
     "output_type": "stream",
     "text": [
      "45\n",
      "female prob:  0.1583479640719794\n",
      "male prob:  0.36803796639646474\n"
     ]
    },
    {
     "data": {
      "application/vnd.jupyter.widget-view+json": {
       "model_id": "38053eef61784078945f43cb72b368dc",
       "version_major": 2,
       "version_minor": 0
      },
      "text/plain": [
       "  0%|          | 0/10 [00:00<?, ?it/s]"
      ]
     },
     "metadata": {},
     "output_type": "display_data"
    },
    {
     "name": "stdout",
     "output_type": "stream",
     "text": [
      "45\n",
      "female prob:  0.1270752640158191\n",
      "male prob:  0.15058335131169553\n"
     ]
    },
    {
     "data": {
      "application/vnd.jupyter.widget-view+json": {
       "model_id": "3b38f5d22e054ca09d75293d236eff02",
       "version_major": 2,
       "version_minor": 0
      },
      "text/plain": [
       "  0%|          | 0/27 [00:00<?, ?it/s]"
      ]
     },
     "metadata": {},
     "output_type": "display_data"
    },
    {
     "data": {
      "application/vnd.jupyter.widget-view+json": {
       "model_id": "8e5ed40a08a543f89879bbf7b1f3e362",
       "version_major": 2,
       "version_minor": 0
      },
      "text/plain": [
       "  0%|          | 0/10 [00:00<?, ?it/s]"
      ]
     },
     "metadata": {},
     "output_type": "display_data"
    },
    {
     "name": "stdout",
     "output_type": "stream",
     "text": [
      "77\n",
      "female prob:  0.09795467921875757\n",
      "male prob:  0.0815128045514043\n"
     ]
    },
    {
     "data": {
      "application/vnd.jupyter.widget-view+json": {
       "model_id": "baf982ace1074bde981e762f61caf90c",
       "version_major": 2,
       "version_minor": 0
      },
      "text/plain": [
       "  0%|          | 0/10 [00:00<?, ?it/s]"
      ]
     },
     "metadata": {},
     "output_type": "display_data"
    },
    {
     "name": "stdout",
     "output_type": "stream",
     "text": [
      "87\n",
      "female prob:  0.14465665444382372\n",
      "male prob:  0.178961766547355\n"
     ]
    },
    {
     "data": {
      "application/vnd.jupyter.widget-view+json": {
       "model_id": "dd8b95333d364856ac5d42fd6abb0453",
       "version_major": 2,
       "version_minor": 0
      },
      "text/plain": [
       "  0%|          | 0/10 [00:00<?, ?it/s]"
      ]
     },
     "metadata": {},
     "output_type": "display_data"
    },
    {
     "name": "stdout",
     "output_type": "stream",
     "text": [
      "62\n",
      "female prob:  0.09436051278968795\n",
      "male prob:  0.06786512880648114\n"
     ]
    },
    {
     "data": {
      "application/vnd.jupyter.widget-view+json": {
       "model_id": "bf8b148c0815446facae2c78caf80999",
       "version_major": 2,
       "version_minor": 0
      },
      "text/plain": [
       "  0%|          | 0/10 [00:00<?, ?it/s]"
      ]
     },
     "metadata": {},
     "output_type": "display_data"
    },
    {
     "name": "stdout",
     "output_type": "stream",
     "text": [
      "42\n",
      "female prob:  0.22612120923461596\n",
      "male prob:  0.3225849874023085\n"
     ]
    },
    {
     "data": {
      "application/vnd.jupyter.widget-view+json": {
       "model_id": "1aef08145ce94ba7b308a03ff83f2253",
       "version_major": 2,
       "version_minor": 0
      },
      "text/plain": [
       "  0%|          | 0/10 [00:00<?, ?it/s]"
      ]
     },
     "metadata": {},
     "output_type": "display_data"
    },
    {
     "name": "stdout",
     "output_type": "stream",
     "text": [
      "93\n",
      "female prob:  0.05765456937070858\n",
      "male prob:  0.06338963936004624\n"
     ]
    },
    {
     "data": {
      "application/vnd.jupyter.widget-view+json": {
       "model_id": "b878ec784222426e8c10a0b93fd84b3d",
       "version_major": 2,
       "version_minor": 0
      },
      "text/plain": [
       "  0%|          | 0/10 [00:00<?, ?it/s]"
      ]
     },
     "metadata": {},
     "output_type": "display_data"
    },
    {
     "name": "stdout",
     "output_type": "stream",
     "text": [
      "53\n",
      "female prob:  0.06235361272738931\n",
      "male prob:  0.04630569516171182\n"
     ]
    },
    {
     "data": {
      "application/vnd.jupyter.widget-view+json": {
       "model_id": "b2e36e0a3aa7445b82e0624f1150a6d9",
       "version_major": 2,
       "version_minor": 0
      },
      "text/plain": [
       "  0%|          | 0/10 [00:00<?, ?it/s]"
      ]
     },
     "metadata": {},
     "output_type": "display_data"
    },
    {
     "name": "stdout",
     "output_type": "stream",
     "text": [
      "39\n",
      "female prob:  0.04051966537730051\n",
      "male prob:  0.03157933290239387\n"
     ]
    },
    {
     "data": {
      "application/vnd.jupyter.widget-view+json": {
       "model_id": "69fbe3a031b5417c9b220d1a2a2d37f3",
       "version_major": 2,
       "version_minor": 0
      },
      "text/plain": [
       "  0%|          | 0/10 [00:00<?, ?it/s]"
      ]
     },
     "metadata": {},
     "output_type": "display_data"
    },
    {
     "name": "stdout",
     "output_type": "stream",
     "text": [
      "74\n",
      "female prob:  0.00876018158075402\n",
      "male prob:  0.01034791704573472\n"
     ]
    },
    {
     "data": {
      "application/vnd.jupyter.widget-view+json": {
       "model_id": "64ae77a1bbdd4fefb446353766ec7299",
       "version_major": 2,
       "version_minor": 0
      },
      "text/plain": [
       "  0%|          | 0/10 [00:00<?, ?it/s]"
      ]
     },
     "metadata": {},
     "output_type": "display_data"
    },
    {
     "name": "stdout",
     "output_type": "stream",
     "text": [
      "49\n",
      "female prob:  0.12157819339595369\n",
      "male prob:  0.07843442594045642\n"
     ]
    },
    {
     "data": {
      "application/vnd.jupyter.widget-view+json": {
       "model_id": "ba2acec2cd804b238c26dca5196f574a",
       "version_major": 2,
       "version_minor": 0
      },
      "text/plain": [
       "  0%|          | 0/10 [00:00<?, ?it/s]"
      ]
     },
     "metadata": {},
     "output_type": "display_data"
    },
    {
     "name": "stdout",
     "output_type": "stream",
     "text": [
      "43\n",
      "female prob:  0.0001627397748210674\n",
      "male prob:  0.0050356346040870805\n"
     ]
    },
    {
     "data": {
      "application/vnd.jupyter.widget-view+json": {
       "model_id": "d652bf387688482797ee00252c457925",
       "version_major": 2,
       "version_minor": 0
      },
      "text/plain": [
       "  0%|          | 0/10 [00:00<?, ?it/s]"
      ]
     },
     "metadata": {},
     "output_type": "display_data"
    },
    {
     "name": "stdout",
     "output_type": "stream",
     "text": [
      "58\n",
      "female prob:  0.02439610710348735\n",
      "male prob:  0.053332398839487656\n"
     ]
    },
    {
     "data": {
      "application/vnd.jupyter.widget-view+json": {
       "model_id": "a6e305b57eb3439cb4d15563cf0db54d",
       "version_major": 2,
       "version_minor": 0
      },
      "text/plain": [
       "  0%|          | 0/10 [00:00<?, ?it/s]"
      ]
     },
     "metadata": {},
     "output_type": "display_data"
    },
    {
     "name": "stdout",
     "output_type": "stream",
     "text": [
      "39\n",
      "female prob:  0.19884336468388775\n",
      "male prob:  0.24129096615115703\n"
     ]
    },
    {
     "data": {
      "application/vnd.jupyter.widget-view+json": {
       "model_id": "7ff13cb281d149c4bed045ec82e2acea",
       "version_major": 2,
       "version_minor": 0
      },
      "text/plain": [
       "  0%|          | 0/10 [00:00<?, ?it/s]"
      ]
     },
     "metadata": {},
     "output_type": "display_data"
    },
    {
     "name": "stdout",
     "output_type": "stream",
     "text": [
      "33\n",
      "female prob:  0.0589133799406874\n",
      "male prob:  0.06312639037376348\n"
     ]
    },
    {
     "data": {
      "application/vnd.jupyter.widget-view+json": {
       "model_id": "998da1a892bc4b5aad92bd395f77e8eb",
       "version_major": 2,
       "version_minor": 0
      },
      "text/plain": [
       "  0%|          | 0/10 [00:00<?, ?it/s]"
      ]
     },
     "metadata": {},
     "output_type": "display_data"
    },
    {
     "name": "stdout",
     "output_type": "stream",
     "text": [
      "77\n",
      "female prob:  0.024946425923361118\n",
      "male prob:  0.010581656646886714\n"
     ]
    },
    {
     "data": {
      "application/vnd.jupyter.widget-view+json": {
       "model_id": "8559d015059344068c760d44f4ef6e7c",
       "version_major": 2,
       "version_minor": 0
      },
      "text/plain": [
       "  0%|          | 0/10 [00:00<?, ?it/s]"
      ]
     },
     "metadata": {},
     "output_type": "display_data"
    },
    {
     "name": "stdout",
     "output_type": "stream",
     "text": [
      "78\n",
      "female prob:  0.06951404543670213\n",
      "male prob:  0.08600017028272003\n"
     ]
    },
    {
     "data": {
      "application/vnd.jupyter.widget-view+json": {
       "model_id": "97781cf0aee641619ab4d113cdc5856a",
       "version_major": 2,
       "version_minor": 0
      },
      "text/plain": [
       "  0%|          | 0/10 [00:00<?, ?it/s]"
      ]
     },
     "metadata": {},
     "output_type": "display_data"
    },
    {
     "name": "stdout",
     "output_type": "stream",
     "text": [
      "26\n",
      "female prob:  0.3502393129537492\n",
      "male prob:  0.22535110777944642\n"
     ]
    },
    {
     "data": {
      "application/vnd.jupyter.widget-view+json": {
       "model_id": "262081d348924620b1a45b384ec6cce6",
       "version_major": 2,
       "version_minor": 0
      },
      "text/plain": [
       "  0%|          | 0/10 [00:00<?, ?it/s]"
      ]
     },
     "metadata": {},
     "output_type": "display_data"
    },
    {
     "name": "stdout",
     "output_type": "stream",
     "text": [
      "48\n",
      "female prob:  0.06138944902014363\n",
      "male prob:  0.006289460559941869\n"
     ]
    },
    {
     "data": {
      "application/vnd.jupyter.widget-view+json": {
       "model_id": "bd6c332e288e4c548cadcf8267b8c83c",
       "version_major": 2,
       "version_minor": 0
      },
      "text/plain": [
       "  0%|          | 0/10 [00:00<?, ?it/s]"
      ]
     },
     "metadata": {},
     "output_type": "display_data"
    },
    {
     "name": "stdout",
     "output_type": "stream",
     "text": [
      "72\n",
      "female prob:  0.1405987313320093\n",
      "male prob:  0.23605074944111393\n"
     ]
    },
    {
     "data": {
      "application/vnd.jupyter.widget-view+json": {
       "model_id": "ab65d7d397c64e79bd4ac735fb1a5093",
       "version_major": 2,
       "version_minor": 0
      },
      "text/plain": [
       "  0%|          | 0/10 [00:00<?, ?it/s]"
      ]
     },
     "metadata": {},
     "output_type": "display_data"
    },
    {
     "name": "stdout",
     "output_type": "stream",
     "text": [
      "44\n",
      "female prob:  0.05680706196669225\n",
      "male prob:  0.13962060051458516\n"
     ]
    },
    {
     "data": {
      "application/vnd.jupyter.widget-view+json": {
       "model_id": "d78c0d4a97b14fb994ab94801af3b855",
       "version_major": 2,
       "version_minor": 0
      },
      "text/plain": [
       "  0%|          | 0/10 [00:00<?, ?it/s]"
      ]
     },
     "metadata": {},
     "output_type": "display_data"
    },
    {
     "name": "stdout",
     "output_type": "stream",
     "text": [
      "33\n",
      "female prob:  0.09277360755913117\n",
      "male prob:  0.08269966416574888\n"
     ]
    },
    {
     "data": {
      "application/vnd.jupyter.widget-view+json": {
       "model_id": "50cfc41de61c45119858fff943230796",
       "version_major": 2,
       "version_minor": 0
      },
      "text/plain": [
       "  0%|          | 0/10 [00:00<?, ?it/s]"
      ]
     },
     "metadata": {},
     "output_type": "display_data"
    },
    {
     "name": "stdout",
     "output_type": "stream",
     "text": [
      "42\n",
      "female prob:  0.091808607970008\n",
      "male prob:  0.06141660558753974\n"
     ]
    },
    {
     "data": {
      "application/vnd.jupyter.widget-view+json": {
       "model_id": "98c43a7acf5a4e27846d3ee3a4733b72",
       "version_major": 2,
       "version_minor": 0
      },
      "text/plain": [
       "  0%|          | 0/10 [00:00<?, ?it/s]"
      ]
     },
     "metadata": {},
     "output_type": "display_data"
    },
    {
     "name": "stdout",
     "output_type": "stream",
     "text": [
      "44\n",
      "female prob:  0.18340451173886085\n",
      "male prob:  0.1435450278389076\n"
     ]
    },
    {
     "data": {
      "application/vnd.jupyter.widget-view+json": {
       "model_id": "92133532c9de42aea9a1cb31130552ff",
       "version_major": 2,
       "version_minor": 0
      },
      "text/plain": [
       "  0%|          | 0/10 [00:00<?, ?it/s]"
      ]
     },
     "metadata": {},
     "output_type": "display_data"
    },
    {
     "name": "stdout",
     "output_type": "stream",
     "text": [
      "66\n",
      "female prob:  0.004760423425258665\n",
      "male prob:  0.005341190020829617\n"
     ]
    },
    {
     "data": {
      "application/vnd.jupyter.widget-view+json": {
       "model_id": "7c39849f6989446fbf0ab8c62e68f53d",
       "version_major": 2,
       "version_minor": 0
      },
      "text/plain": [
       "  0%|          | 0/10 [00:00<?, ?it/s]"
      ]
     },
     "metadata": {},
     "output_type": "display_data"
    },
    {
     "name": "stdout",
     "output_type": "stream",
     "text": [
      "45\n",
      "female prob:  0.07780600425446724\n",
      "male prob:  0.1684218942837882\n"
     ]
    },
    {
     "data": {
      "application/vnd.jupyter.widget-view+json": {
       "model_id": "f380fdd26e0d4f0f940a4f134286f8cc",
       "version_major": 2,
       "version_minor": 0
      },
      "text/plain": [
       "  0%|          | 0/10 [00:00<?, ?it/s]"
      ]
     },
     "metadata": {},
     "output_type": "display_data"
    },
    {
     "name": "stdout",
     "output_type": "stream",
     "text": [
      "91\n",
      "female prob:  0.12296769079983352\n",
      "male prob:  0.07957546886887283\n"
     ]
    },
    {
     "data": {
      "application/vnd.jupyter.widget-view+json": {
       "model_id": "d9cb202b80e34b388e412722bbc140a6",
       "version_major": 2,
       "version_minor": 0
      },
      "text/plain": [
       "  0%|          | 0/10 [00:00<?, ?it/s]"
      ]
     },
     "metadata": {},
     "output_type": "display_data"
    },
    {
     "name": "stdout",
     "output_type": "stream",
     "text": [
      "46\n",
      "female prob:  0.21735773931819707\n",
      "male prob:  0.3080319338039788\n"
     ]
    },
    {
     "data": {
      "application/vnd.jupyter.widget-view+json": {
       "model_id": "33ad471dd0714088b80072fe225a3ebc",
       "version_major": 2,
       "version_minor": 0
      },
      "text/plain": [
       "  0%|          | 0/10 [00:00<?, ?it/s]"
      ]
     },
     "metadata": {},
     "output_type": "display_data"
    },
    {
     "name": "stdout",
     "output_type": "stream",
     "text": [
      "61\n",
      "female prob:  0.1314394222738155\n",
      "male prob:  0.08180069509928369\n"
     ]
    },
    {
     "data": {
      "application/vnd.jupyter.widget-view+json": {
       "model_id": "5fb9651541ad49afa6715dca3fa85260",
       "version_major": 2,
       "version_minor": 0
      },
      "text/plain": [
       "  0%|          | 0/27 [00:00<?, ?it/s]"
      ]
     },
     "metadata": {},
     "output_type": "display_data"
    },
    {
     "data": {
      "application/vnd.jupyter.widget-view+json": {
       "model_id": "1f8eb355427b445b88645919c759654a",
       "version_major": 2,
       "version_minor": 0
      },
      "text/plain": [
       "  0%|          | 0/10 [00:00<?, ?it/s]"
      ]
     },
     "metadata": {},
     "output_type": "display_data"
    },
    {
     "name": "stdout",
     "output_type": "stream",
     "text": [
      "75\n",
      "female prob:  0.06677722954796399\n",
      "male prob:  0.09155321284774061\n"
     ]
    },
    {
     "data": {
      "application/vnd.jupyter.widget-view+json": {
       "model_id": "9cc4b43691e14008b910d16ffc449e13",
       "version_major": 2,
       "version_minor": 0
      },
      "text/plain": [
       "  0%|          | 0/10 [00:00<?, ?it/s]"
      ]
     },
     "metadata": {},
     "output_type": "display_data"
    },
    {
     "name": "stdout",
     "output_type": "stream",
     "text": [
      "71\n",
      "female prob:  0.0792731975649658\n",
      "male prob:  0.1760248137534425\n"
     ]
    },
    {
     "data": {
      "application/vnd.jupyter.widget-view+json": {
       "model_id": "169934ed24924a5893ea8d36741e542c",
       "version_major": 2,
       "version_minor": 0
      },
      "text/plain": [
       "  0%|          | 0/10 [00:00<?, ?it/s]"
      ]
     },
     "metadata": {},
     "output_type": "display_data"
    },
    {
     "name": "stdout",
     "output_type": "stream",
     "text": [
      "49\n",
      "female prob:  0.1188912516671624\n",
      "male prob:  0.15863003664275027\n"
     ]
    },
    {
     "data": {
      "application/vnd.jupyter.widget-view+json": {
       "model_id": "e7035fd79e3d4a64a1c7cfc19250aab4",
       "version_major": 2,
       "version_minor": 0
      },
      "text/plain": [
       "  0%|          | 0/10 [00:00<?, ?it/s]"
      ]
     },
     "metadata": {},
     "output_type": "display_data"
    },
    {
     "name": "stdout",
     "output_type": "stream",
     "text": [
      "84\n",
      "female prob:  0.16901667710006066\n",
      "male prob:  0.34741008117733185\n"
     ]
    },
    {
     "data": {
      "application/vnd.jupyter.widget-view+json": {
       "model_id": "a9c953762f4e483cb8ac3dab39a76665",
       "version_major": 2,
       "version_minor": 0
      },
      "text/plain": [
       "  0%|          | 0/10 [00:00<?, ?it/s]"
      ]
     },
     "metadata": {},
     "output_type": "display_data"
    },
    {
     "name": "stdout",
     "output_type": "stream",
     "text": [
      "79\n",
      "female prob:  0.042438523433008656\n",
      "male prob:  0.0924157907691577\n"
     ]
    },
    {
     "data": {
      "application/vnd.jupyter.widget-view+json": {
       "model_id": "8d97a12721e24dadb1d267e69b25fdac",
       "version_major": 2,
       "version_minor": 0
      },
      "text/plain": [
       "  0%|          | 0/10 [00:00<?, ?it/s]"
      ]
     },
     "metadata": {},
     "output_type": "display_data"
    },
    {
     "name": "stdout",
     "output_type": "stream",
     "text": [
      "43\n",
      "female prob:  0.05449170070180197\n",
      "male prob:  0.06744859952912947\n"
     ]
    },
    {
     "data": {
      "application/vnd.jupyter.widget-view+json": {
       "model_id": "f602c8a061c94b20a4cf59667c8542b7",
       "version_major": 2,
       "version_minor": 0
      },
      "text/plain": [
       "  0%|          | 0/10 [00:00<?, ?it/s]"
      ]
     },
     "metadata": {},
     "output_type": "display_data"
    },
    {
     "name": "stdout",
     "output_type": "stream",
     "text": [
      "41\n",
      "female prob:  0.038106029255335294\n",
      "male prob:  0.059410162164618675\n"
     ]
    },
    {
     "data": {
      "application/vnd.jupyter.widget-view+json": {
       "model_id": "2b0dc7493c884fe58dfcf73f562ece2f",
       "version_major": 2,
       "version_minor": 0
      },
      "text/plain": [
       "  0%|          | 0/10 [00:00<?, ?it/s]"
      ]
     },
     "metadata": {},
     "output_type": "display_data"
    },
    {
     "name": "stdout",
     "output_type": "stream",
     "text": [
      "73\n",
      "female prob:  0.0038375747342717925\n",
      "male prob:  0.008780175489688777\n"
     ]
    },
    {
     "data": {
      "application/vnd.jupyter.widget-view+json": {
       "model_id": "c91087ca40d046ceafe5c307155145c0",
       "version_major": 2,
       "version_minor": 0
      },
      "text/plain": [
       "  0%|          | 0/10 [00:00<?, ?it/s]"
      ]
     },
     "metadata": {},
     "output_type": "display_data"
    },
    {
     "name": "stdout",
     "output_type": "stream",
     "text": [
      "47\n",
      "female prob:  0.14026415627374886\n",
      "male prob:  0.11206101285953819\n"
     ]
    },
    {
     "data": {
      "application/vnd.jupyter.widget-view+json": {
       "model_id": "d9c2569e99e44e1c820b99f0ca197710",
       "version_major": 2,
       "version_minor": 0
      },
      "text/plain": [
       "  0%|          | 0/10 [00:00<?, ?it/s]"
      ]
     },
     "metadata": {},
     "output_type": "display_data"
    },
    {
     "name": "stdout",
     "output_type": "stream",
     "text": [
      "11\n",
      "female prob:  1.020172572090077e-05\n",
      "male prob:  6.452702462371129e-05\n"
     ]
    },
    {
     "data": {
      "application/vnd.jupyter.widget-view+json": {
       "model_id": "050f6558120343ee811eb62327f5429a",
       "version_major": 2,
       "version_minor": 0
      },
      "text/plain": [
       "  0%|          | 0/10 [00:00<?, ?it/s]"
      ]
     },
     "metadata": {},
     "output_type": "display_data"
    },
    {
     "name": "stdout",
     "output_type": "stream",
     "text": [
      "58\n",
      "female prob:  0.032185997395258785\n",
      "male prob:  0.061698290231289\n"
     ]
    },
    {
     "data": {
      "application/vnd.jupyter.widget-view+json": {
       "model_id": "d3489e2027224fe987612d74e214355a",
       "version_major": 2,
       "version_minor": 0
      },
      "text/plain": [
       "  0%|          | 0/10 [00:00<?, ?it/s]"
      ]
     },
     "metadata": {},
     "output_type": "display_data"
    },
    {
     "name": "stdout",
     "output_type": "stream",
     "text": [
      "78\n",
      "female prob:  0.21252483859369684\n",
      "male prob:  0.28440473608082684\n"
     ]
    },
    {
     "data": {
      "application/vnd.jupyter.widget-view+json": {
       "model_id": "462fa2bf34484dcfa87fea96637e598d",
       "version_major": 2,
       "version_minor": 0
      },
      "text/plain": [
       "  0%|          | 0/10 [00:00<?, ?it/s]"
      ]
     },
     "metadata": {},
     "output_type": "display_data"
    },
    {
     "name": "stdout",
     "output_type": "stream",
     "text": [
      "87\n",
      "female prob:  0.07076738539432818\n",
      "male prob:  0.0765604566773254\n"
     ]
    },
    {
     "data": {
      "application/vnd.jupyter.widget-view+json": {
       "model_id": "e84af445110d4bce9fa3dfc1b7dacee8",
       "version_major": 2,
       "version_minor": 0
      },
      "text/plain": [
       "  0%|          | 0/10 [00:00<?, ?it/s]"
      ]
     },
     "metadata": {},
     "output_type": "display_data"
    },
    {
     "name": "stdout",
     "output_type": "stream",
     "text": [
      "66\n",
      "female prob:  0.011399726247988172\n",
      "male prob:  0.011286196478991215\n"
     ]
    },
    {
     "data": {
      "application/vnd.jupyter.widget-view+json": {
       "model_id": "461cf74e95404975a2224c33b8ebb96b",
       "version_major": 2,
       "version_minor": 0
      },
      "text/plain": [
       "  0%|          | 0/10 [00:00<?, ?it/s]"
      ]
     },
     "metadata": {},
     "output_type": "display_data"
    },
    {
     "name": "stdout",
     "output_type": "stream",
     "text": [
      "54\n",
      "female prob:  0.03132159842848006\n",
      "male prob:  0.07914108042603002\n"
     ]
    },
    {
     "data": {
      "application/vnd.jupyter.widget-view+json": {
       "model_id": "b8f93d6a8df54f56bc6fb3de8280c4f8",
       "version_major": 2,
       "version_minor": 0
      },
      "text/plain": [
       "  0%|          | 0/10 [00:00<?, ?it/s]"
      ]
     },
     "metadata": {},
     "output_type": "display_data"
    },
    {
     "name": "stdout",
     "output_type": "stream",
     "text": [
      "63\n",
      "female prob:  0.24221824384563242\n",
      "male prob:  0.18953322225380342\n"
     ]
    },
    {
     "data": {
      "application/vnd.jupyter.widget-view+json": {
       "model_id": "0a595ac171e24ed9b9054480392c2491",
       "version_major": 2,
       "version_minor": 0
      },
      "text/plain": [
       "  0%|          | 0/10 [00:00<?, ?it/s]"
      ]
     },
     "metadata": {},
     "output_type": "display_data"
    },
    {
     "name": "stdout",
     "output_type": "stream",
     "text": [
      "58\n",
      "female prob:  0.04191335226417536\n",
      "male prob:  0.007146524284402964\n"
     ]
    },
    {
     "data": {
      "application/vnd.jupyter.widget-view+json": {
       "model_id": "4e0b033fcd09461da1887ae4da850fb5",
       "version_major": 2,
       "version_minor": 0
      },
      "text/plain": [
       "  0%|          | 0/10 [00:00<?, ?it/s]"
      ]
     },
     "metadata": {},
     "output_type": "display_data"
    },
    {
     "name": "stdout",
     "output_type": "stream",
     "text": [
      "96\n",
      "female prob:  0.106201914711207\n",
      "male prob:  0.31795915546953507\n"
     ]
    },
    {
     "data": {
      "application/vnd.jupyter.widget-view+json": {
       "model_id": "78b7b9b92ff24cc7abebed5781f59b94",
       "version_major": 2,
       "version_minor": 0
      },
      "text/plain": [
       "  0%|          | 0/10 [00:00<?, ?it/s]"
      ]
     },
     "metadata": {},
     "output_type": "display_data"
    },
    {
     "name": "stdout",
     "output_type": "stream",
     "text": [
      "79\n",
      "female prob:  0.09534544339830023\n",
      "male prob:  0.13776257979997783\n"
     ]
    },
    {
     "data": {
      "application/vnd.jupyter.widget-view+json": {
       "model_id": "4801f4dbfef046e196bd81181bb88523",
       "version_major": 2,
       "version_minor": 0
      },
      "text/plain": [
       "  0%|          | 0/10 [00:00<?, ?it/s]"
      ]
     },
     "metadata": {},
     "output_type": "display_data"
    },
    {
     "name": "stdout",
     "output_type": "stream",
     "text": [
      "88\n",
      "female prob:  0.08434957371160834\n",
      "male prob:  0.1037481036076751\n"
     ]
    },
    {
     "data": {
      "application/vnd.jupyter.widget-view+json": {
       "model_id": "a986c70fcbd7454db620c8ac44336a5c",
       "version_major": 2,
       "version_minor": 0
      },
      "text/plain": [
       "  0%|          | 0/10 [00:00<?, ?it/s]"
      ]
     },
     "metadata": {},
     "output_type": "display_data"
    },
    {
     "name": "stdout",
     "output_type": "stream",
     "text": [
      "58\n",
      "female prob:  0.09791658781447748\n",
      "male prob:  0.12364917895160027\n"
     ]
    },
    {
     "data": {
      "application/vnd.jupyter.widget-view+json": {
       "model_id": "cdad1243fb214e2bbcd077d13545d0fb",
       "version_major": 2,
       "version_minor": 0
      },
      "text/plain": [
       "  0%|          | 0/10 [00:00<?, ?it/s]"
      ]
     },
     "metadata": {},
     "output_type": "display_data"
    },
    {
     "name": "stdout",
     "output_type": "stream",
     "text": [
      "46\n",
      "female prob:  0.1535232948118897\n",
      "male prob:  0.16736269826340486\n"
     ]
    },
    {
     "data": {
      "application/vnd.jupyter.widget-view+json": {
       "model_id": "9cc143ca113649fcb88fbf706486486f",
       "version_major": 2,
       "version_minor": 0
      },
      "text/plain": [
       "  0%|          | 0/10 [00:00<?, ?it/s]"
      ]
     },
     "metadata": {},
     "output_type": "display_data"
    },
    {
     "name": "stdout",
     "output_type": "stream",
     "text": [
      "45\n",
      "female prob:  0.0005771525732638494\n",
      "male prob:  0.003185409012172868\n"
     ]
    },
    {
     "data": {
      "application/vnd.jupyter.widget-view+json": {
       "model_id": "f329a29bdfeb4d858814572f9ab0d794",
       "version_major": 2,
       "version_minor": 0
      },
      "text/plain": [
       "  0%|          | 0/10 [00:00<?, ?it/s]"
      ]
     },
     "metadata": {},
     "output_type": "display_data"
    },
    {
     "name": "stdout",
     "output_type": "stream",
     "text": [
      "75\n",
      "female prob:  0.11103472436327085\n",
      "male prob:  0.20805588200954642\n"
     ]
    },
    {
     "data": {
      "application/vnd.jupyter.widget-view+json": {
       "model_id": "262ad5f589644d4aa5ef915b1a0a7aa6",
       "version_major": 2,
       "version_minor": 0
      },
      "text/plain": [
       "  0%|          | 0/10 [00:00<?, ?it/s]"
      ]
     },
     "metadata": {},
     "output_type": "display_data"
    },
    {
     "name": "stdout",
     "output_type": "stream",
     "text": [
      "88\n",
      "female prob:  0.07314907929252158\n",
      "male prob:  0.13496520395828518\n"
     ]
    },
    {
     "data": {
      "application/vnd.jupyter.widget-view+json": {
       "model_id": "ad039fcab29d4964bc0129bd52ce1e3d",
       "version_major": 2,
       "version_minor": 0
      },
      "text/plain": [
       "  0%|          | 0/10 [00:00<?, ?it/s]"
      ]
     },
     "metadata": {},
     "output_type": "display_data"
    },
    {
     "name": "stdout",
     "output_type": "stream",
     "text": [
      "26\n",
      "female prob:  0.22871633817704212\n",
      "male prob:  0.4030093688620715\n"
     ]
    },
    {
     "data": {
      "application/vnd.jupyter.widget-view+json": {
       "model_id": "687ae2be81e049bf8e05700240b92131",
       "version_major": 2,
       "version_minor": 0
      },
      "text/plain": [
       "  0%|          | 0/10 [00:00<?, ?it/s]"
      ]
     },
     "metadata": {},
     "output_type": "display_data"
    },
    {
     "name": "stdout",
     "output_type": "stream",
     "text": [
      "77\n",
      "female prob:  0.14135708233210798\n",
      "male prob:  0.08596339629230204\n"
     ]
    },
    {
     "data": {
      "application/vnd.jupyter.widget-view+json": {
       "model_id": "d491dcca013d4df99b4dc6de0b835d8c",
       "version_major": 2,
       "version_minor": 0
      },
      "text/plain": [
       "  0%|          | 0/27 [00:00<?, ?it/s]"
      ]
     },
     "metadata": {},
     "output_type": "display_data"
    },
    {
     "data": {
      "application/vnd.jupyter.widget-view+json": {
       "model_id": "c444e302f3f140c3a267ddd0f9e4f84d",
       "version_major": 2,
       "version_minor": 0
      },
      "text/plain": [
       "  0%|          | 0/10 [00:00<?, ?it/s]"
      ]
     },
     "metadata": {},
     "output_type": "display_data"
    },
    {
     "name": "stdout",
     "output_type": "stream",
     "text": [
      "87\n",
      "female prob:  0.06145774295281902\n",
      "male prob:  0.08398710557714904\n"
     ]
    },
    {
     "data": {
      "application/vnd.jupyter.widget-view+json": {
       "model_id": "625928e668b347c1bef6f7998c4b7783",
       "version_major": 2,
       "version_minor": 0
      },
      "text/plain": [
       "  0%|          | 0/10 [00:00<?, ?it/s]"
      ]
     },
     "metadata": {},
     "output_type": "display_data"
    },
    {
     "name": "stdout",
     "output_type": "stream",
     "text": [
      "64\n",
      "female prob:  0.039415475069867804\n",
      "male prob:  0.09218485671184702\n"
     ]
    },
    {
     "data": {
      "application/vnd.jupyter.widget-view+json": {
       "model_id": "a934f739839e481b92d39993cabe5aa7",
       "version_major": 2,
       "version_minor": 0
      },
      "text/plain": [
       "  0%|          | 0/10 [00:00<?, ?it/s]"
      ]
     },
     "metadata": {},
     "output_type": "display_data"
    },
    {
     "name": "stdout",
     "output_type": "stream",
     "text": [
      "49\n",
      "female prob:  0.03503251390511153\n",
      "male prob:  0.06385103784469545\n"
     ]
    },
    {
     "data": {
      "application/vnd.jupyter.widget-view+json": {
       "model_id": "30bd7f2ae70b44cbbb32844ee89f07da",
       "version_major": 2,
       "version_minor": 0
      },
      "text/plain": [
       "  0%|          | 0/10 [00:00<?, ?it/s]"
      ]
     },
     "metadata": {},
     "output_type": "display_data"
    },
    {
     "name": "stdout",
     "output_type": "stream",
     "text": [
      "61\n",
      "female prob:  0.1532463177905448\n",
      "male prob:  0.2683867355554278\n"
     ]
    },
    {
     "data": {
      "application/vnd.jupyter.widget-view+json": {
       "model_id": "2c932d3ca81f42d49e66629738adb2f3",
       "version_major": 2,
       "version_minor": 0
      },
      "text/plain": [
       "  0%|          | 0/10 [00:00<?, ?it/s]"
      ]
     },
     "metadata": {},
     "output_type": "display_data"
    },
    {
     "name": "stdout",
     "output_type": "stream",
     "text": [
      "65\n",
      "female prob:  0.006265030271498423\n",
      "male prob:  0.03631657774515861\n"
     ]
    },
    {
     "data": {
      "application/vnd.jupyter.widget-view+json": {
       "model_id": "f1cf955e7fe94956b9e005722fba6da4",
       "version_major": 2,
       "version_minor": 0
      },
      "text/plain": [
       "  0%|          | 0/10 [00:00<?, ?it/s]"
      ]
     },
     "metadata": {},
     "output_type": "display_data"
    },
    {
     "name": "stdout",
     "output_type": "stream",
     "text": [
      "37\n",
      "female prob:  0.019453094148861445\n",
      "male prob:  0.027691700410779868\n"
     ]
    },
    {
     "data": {
      "application/vnd.jupyter.widget-view+json": {
       "model_id": "46ec64a8180147a28658f9c002d35fb1",
       "version_major": 2,
       "version_minor": 0
      },
      "text/plain": [
       "  0%|          | 0/10 [00:00<?, ?it/s]"
      ]
     },
     "metadata": {},
     "output_type": "display_data"
    },
    {
     "name": "stdout",
     "output_type": "stream",
     "text": [
      "35\n",
      "female prob:  0.029665758439213392\n",
      "male prob:  0.02937828506339366\n"
     ]
    },
    {
     "data": {
      "application/vnd.jupyter.widget-view+json": {
       "model_id": "d20dd9e17353496eadaae50eec303440",
       "version_major": 2,
       "version_minor": 0
      },
      "text/plain": [
       "  0%|          | 0/10 [00:00<?, ?it/s]"
      ]
     },
     "metadata": {},
     "output_type": "display_data"
    },
    {
     "name": "stdout",
     "output_type": "stream",
     "text": [
      "49\n",
      "female prob:  0.0033736851028341977\n",
      "male prob:  0.006268518501962758\n"
     ]
    },
    {
     "data": {
      "application/vnd.jupyter.widget-view+json": {
       "model_id": "75a0460d88b344b1a09547316604c494",
       "version_major": 2,
       "version_minor": 0
      },
      "text/plain": [
       "  0%|          | 0/10 [00:00<?, ?it/s]"
      ]
     },
     "metadata": {},
     "output_type": "display_data"
    },
    {
     "name": "stdout",
     "output_type": "stream",
     "text": [
      "33\n",
      "female prob:  0.045901175867636965\n",
      "male prob:  0.047670524317683406\n"
     ]
    },
    {
     "data": {
      "application/vnd.jupyter.widget-view+json": {
       "model_id": "a9a976a918374225b829f40f7b91e972",
       "version_major": 2,
       "version_minor": 0
      },
      "text/plain": [
       "  0%|          | 0/10 [00:00<?, ?it/s]"
      ]
     },
     "metadata": {},
     "output_type": "display_data"
    },
    {
     "name": "stdout",
     "output_type": "stream",
     "text": [
      "20\n",
      "female prob:  0.00027039794658247865\n",
      "male prob:  0.00500261015138062\n"
     ]
    },
    {
     "data": {
      "application/vnd.jupyter.widget-view+json": {
       "model_id": "bcd74496ffa54347af4e91ca381db831",
       "version_major": 2,
       "version_minor": 0
      },
      "text/plain": [
       "  0%|          | 0/10 [00:00<?, ?it/s]"
      ]
     },
     "metadata": {},
     "output_type": "display_data"
    },
    {
     "name": "stdout",
     "output_type": "stream",
     "text": [
      "54\n",
      "female prob:  0.012829496329973182\n",
      "male prob:  0.04718616119809912\n"
     ]
    },
    {
     "data": {
      "application/vnd.jupyter.widget-view+json": {
       "model_id": "d4bb4593d74d40c4a51a6c0279b87f7a",
       "version_major": 2,
       "version_minor": 0
      },
      "text/plain": [
       "  0%|          | 0/10 [00:00<?, ?it/s]"
      ]
     },
     "metadata": {},
     "output_type": "display_data"
    },
    {
     "name": "stdout",
     "output_type": "stream",
     "text": [
      "105\n",
      "female prob:  0.10011826567105615\n",
      "male prob:  0.14717854049708914\n"
     ]
    },
    {
     "data": {
      "application/vnd.jupyter.widget-view+json": {
       "model_id": "9db055b4a6ad4b45883fef389b0f903a",
       "version_major": 2,
       "version_minor": 0
      },
      "text/plain": [
       "  0%|          | 0/10 [00:00<?, ?it/s]"
      ]
     },
     "metadata": {},
     "output_type": "display_data"
    },
    {
     "name": "stdout",
     "output_type": "stream",
     "text": [
      "39\n",
      "female prob:  0.06669696493346979\n",
      "male prob:  0.08711866101410153\n"
     ]
    },
    {
     "data": {
      "application/vnd.jupyter.widget-view+json": {
       "model_id": "13bda9c7ee4045249379ff62f50e4c1c",
       "version_major": 2,
       "version_minor": 0
      },
      "text/plain": [
       "  0%|          | 0/10 [00:00<?, ?it/s]"
      ]
     },
     "metadata": {},
     "output_type": "display_data"
    },
    {
     "name": "stdout",
     "output_type": "stream",
     "text": [
      "34\n",
      "female prob:  0.004625710948560732\n",
      "male prob:  0.005472379860867188\n"
     ]
    },
    {
     "data": {
      "application/vnd.jupyter.widget-view+json": {
       "model_id": "060c6bfe44924a8fbdefe4651c120eb8",
       "version_major": 2,
       "version_minor": 0
      },
      "text/plain": [
       "  0%|          | 0/10 [00:00<?, ?it/s]"
      ]
     },
     "metadata": {},
     "output_type": "display_data"
    },
    {
     "name": "stdout",
     "output_type": "stream",
     "text": [
      "53\n",
      "female prob:  0.02031778881687956\n",
      "male prob:  0.05045558418460752\n"
     ]
    },
    {
     "data": {
      "application/vnd.jupyter.widget-view+json": {
       "model_id": "bbeb1adaad3249cdb8612d799d8dc22f",
       "version_major": 2,
       "version_minor": 0
      },
      "text/plain": [
       "  0%|          | 0/10 [00:00<?, ?it/s]"
      ]
     },
     "metadata": {},
     "output_type": "display_data"
    },
    {
     "name": "stdout",
     "output_type": "stream",
     "text": [
      "25\n",
      "female prob:  0.31417505754746927\n",
      "male prob:  0.29930145956516085\n"
     ]
    },
    {
     "data": {
      "application/vnd.jupyter.widget-view+json": {
       "model_id": "15a30a1d9da1402bbed1403c858fae7a",
       "version_major": 2,
       "version_minor": 0
      },
      "text/plain": [
       "  0%|          | 0/10 [00:00<?, ?it/s]"
      ]
     },
     "metadata": {},
     "output_type": "display_data"
    },
    {
     "name": "stdout",
     "output_type": "stream",
     "text": [
      "58\n",
      "female prob:  0.018994046896144073\n",
      "male prob:  0.0007223577727473692\n"
     ]
    },
    {
     "data": {
      "application/vnd.jupyter.widget-view+json": {
       "model_id": "8e0d8ab92de84763a4084455f5d17777",
       "version_major": 2,
       "version_minor": 0
      },
      "text/plain": [
       "  0%|          | 0/10 [00:00<?, ?it/s]"
      ]
     },
     "metadata": {},
     "output_type": "display_data"
    },
    {
     "name": "stdout",
     "output_type": "stream",
     "text": [
      "88\n",
      "female prob:  0.04282368299454925\n",
      "male prob:  0.10918048530742773\n"
     ]
    },
    {
     "data": {
      "application/vnd.jupyter.widget-view+json": {
       "model_id": "06e99c03e7574e0898cdca0a17e268ad",
       "version_major": 2,
       "version_minor": 0
      },
      "text/plain": [
       "  0%|          | 0/10 [00:00<?, ?it/s]"
      ]
     },
     "metadata": {},
     "output_type": "display_data"
    },
    {
     "name": "stdout",
     "output_type": "stream",
     "text": [
      "50\n",
      "female prob:  0.06678140298670995\n",
      "male prob:  0.12362006104436822\n"
     ]
    },
    {
     "data": {
      "application/vnd.jupyter.widget-view+json": {
       "model_id": "3650ac10b36f4c1a8ac719882de99c92",
       "version_major": 2,
       "version_minor": 0
      },
      "text/plain": [
       "  0%|          | 0/10 [00:00<?, ?it/s]"
      ]
     },
     "metadata": {},
     "output_type": "display_data"
    },
    {
     "name": "stdout",
     "output_type": "stream",
     "text": [
      "53\n",
      "female prob:  0.03509160612106135\n",
      "male prob:  0.05334500190256751\n"
     ]
    },
    {
     "data": {
      "application/vnd.jupyter.widget-view+json": {
       "model_id": "18b2e75a7d8a42e68bfb768e746532ff",
       "version_major": 2,
       "version_minor": 0
      },
      "text/plain": [
       "  0%|          | 0/10 [00:00<?, ?it/s]"
      ]
     },
     "metadata": {},
     "output_type": "display_data"
    },
    {
     "name": "stdout",
     "output_type": "stream",
     "text": [
      "32\n",
      "female prob:  0.024222658800618135\n",
      "male prob:  0.0513349878918493\n"
     ]
    },
    {
     "data": {
      "application/vnd.jupyter.widget-view+json": {
       "model_id": "b48b6eb1feda45468e47d6b9f3dcaf18",
       "version_major": 2,
       "version_minor": 0
      },
      "text/plain": [
       "  0%|          | 0/10 [00:00<?, ?it/s]"
      ]
     },
     "metadata": {},
     "output_type": "display_data"
    },
    {
     "name": "stdout",
     "output_type": "stream",
     "text": [
      "33\n",
      "female prob:  0.11687245674150337\n",
      "male prob:  0.11899005430480979\n"
     ]
    },
    {
     "data": {
      "application/vnd.jupyter.widget-view+json": {
       "model_id": "76c1aba67207456fbaf9488446961a06",
       "version_major": 2,
       "version_minor": 0
      },
      "text/plain": [
       "  0%|          | 0/10 [00:00<?, ?it/s]"
      ]
     },
     "metadata": {},
     "output_type": "display_data"
    },
    {
     "name": "stdout",
     "output_type": "stream",
     "text": [
      "24\n",
      "female prob:  0.00040968759178186537\n",
      "male prob:  0.0032651121025805306\n"
     ]
    },
    {
     "data": {
      "application/vnd.jupyter.widget-view+json": {
       "model_id": "dda97206f0ed416b8ce8d2977cde4fc5",
       "version_major": 2,
       "version_minor": 0
      },
      "text/plain": [
       "  0%|          | 0/10 [00:00<?, ?it/s]"
      ]
     },
     "metadata": {},
     "output_type": "display_data"
    },
    {
     "name": "stdout",
     "output_type": "stream",
     "text": [
      "69\n",
      "female prob:  0.06403999735961668\n",
      "male prob:  0.156479896012437\n"
     ]
    },
    {
     "data": {
      "application/vnd.jupyter.widget-view+json": {
       "model_id": "27027a34957a4387a4b46645f39f651f",
       "version_major": 2,
       "version_minor": 0
      },
      "text/plain": [
       "  0%|          | 0/10 [00:00<?, ?it/s]"
      ]
     },
     "metadata": {},
     "output_type": "display_data"
    },
    {
     "name": "stdout",
     "output_type": "stream",
     "text": [
      "55\n",
      "female prob:  0.04165500122189341\n",
      "male prob:  0.055004245362496346\n"
     ]
    },
    {
     "data": {
      "application/vnd.jupyter.widget-view+json": {
       "model_id": "e88bd8c797824bb3bd4121c8967e35d7",
       "version_major": 2,
       "version_minor": 0
      },
      "text/plain": [
       "  0%|          | 0/10 [00:00<?, ?it/s]"
      ]
     },
     "metadata": {},
     "output_type": "display_data"
    },
    {
     "name": "stdout",
     "output_type": "stream",
     "text": [
      "45\n",
      "female prob:  0.1356893539276553\n",
      "male prob:  0.2442632775182438\n"
     ]
    },
    {
     "data": {
      "application/vnd.jupyter.widget-view+json": {
       "model_id": "68581c9329044b2a8864023fe19e96cc",
       "version_major": 2,
       "version_minor": 0
      },
      "text/plain": [
       "  0%|          | 0/10 [00:00<?, ?it/s]"
      ]
     },
     "metadata": {},
     "output_type": "display_data"
    },
    {
     "name": "stdout",
     "output_type": "stream",
     "text": [
      "57\n",
      "female prob:  0.09503574286086676\n",
      "male prob:  0.09241860596835938\n"
     ]
    },
    {
     "data": {
      "application/vnd.jupyter.widget-view+json": {
       "model_id": "ecbdbd6a32d74fc083dfb84d4e6641b8",
       "version_major": 2,
       "version_minor": 0
      },
      "text/plain": [
       "  0%|          | 0/27 [00:00<?, ?it/s]"
      ]
     },
     "metadata": {},
     "output_type": "display_data"
    },
    {
     "data": {
      "application/vnd.jupyter.widget-view+json": {
       "model_id": "239693873c0347d5b779aa372e40f297",
       "version_major": 2,
       "version_minor": 0
      },
      "text/plain": [
       "  0%|          | 0/10 [00:00<?, ?it/s]"
      ]
     },
     "metadata": {},
     "output_type": "display_data"
    },
    {
     "name": "stdout",
     "output_type": "stream",
     "text": [
      "82\n",
      "female prob:  0.09450643843852952\n",
      "male prob:  0.16254072570453462\n"
     ]
    },
    {
     "data": {
      "application/vnd.jupyter.widget-view+json": {
       "model_id": "d81071f42e2249ddbb756368ceed0b08",
       "version_major": 2,
       "version_minor": 0
      },
      "text/plain": [
       "  0%|          | 0/10 [00:00<?, ?it/s]"
      ]
     },
     "metadata": {},
     "output_type": "display_data"
    },
    {
     "name": "stdout",
     "output_type": "stream",
     "text": [
      "79\n",
      "female prob:  0.09949636886951331\n",
      "male prob:  0.22523883296091138\n"
     ]
    },
    {
     "data": {
      "application/vnd.jupyter.widget-view+json": {
       "model_id": "75ae06708a874ba189ebccac1ec13eed",
       "version_major": 2,
       "version_minor": 0
      },
      "text/plain": [
       "  0%|          | 0/10 [00:00<?, ?it/s]"
      ]
     },
     "metadata": {},
     "output_type": "display_data"
    },
    {
     "name": "stdout",
     "output_type": "stream",
     "text": [
      "32\n",
      "female prob:  0.05557092334559569\n",
      "male prob:  0.1376869207643185\n"
     ]
    },
    {
     "data": {
      "application/vnd.jupyter.widget-view+json": {
       "model_id": "f72ef7651c9d4546a211b3183547139b",
       "version_major": 2,
       "version_minor": 0
      },
      "text/plain": [
       "  0%|          | 0/10 [00:00<?, ?it/s]"
      ]
     },
     "metadata": {},
     "output_type": "display_data"
    },
    {
     "name": "stdout",
     "output_type": "stream",
     "text": [
      "45\n",
      "female prob:  0.0795494426898779\n",
      "male prob:  0.16604853408050646\n"
     ]
    },
    {
     "data": {
      "application/vnd.jupyter.widget-view+json": {
       "model_id": "af0ddd836d0047f9bb1f098e87c26835",
       "version_major": 2,
       "version_minor": 0
      },
      "text/plain": [
       "  0%|          | 0/10 [00:00<?, ?it/s]"
      ]
     },
     "metadata": {},
     "output_type": "display_data"
    },
    {
     "name": "stdout",
     "output_type": "stream",
     "text": [
      "64\n",
      "female prob:  0.0077424526492190365\n",
      "male prob:  0.026129973378860086\n"
     ]
    },
    {
     "data": {
      "application/vnd.jupyter.widget-view+json": {
       "model_id": "b9e62c0ae0604e929a888cfc6caceaff",
       "version_major": 2,
       "version_minor": 0
      },
      "text/plain": [
       "  0%|          | 0/10 [00:00<?, ?it/s]"
      ]
     },
     "metadata": {},
     "output_type": "display_data"
    },
    {
     "name": "stdout",
     "output_type": "stream",
     "text": [
      "66\n",
      "female prob:  0.054619010544541956\n",
      "male prob:  0.08124291810160189\n"
     ]
    },
    {
     "data": {
      "application/vnd.jupyter.widget-view+json": {
       "model_id": "cbdf937248904df1bea0e44c80b615e8",
       "version_major": 2,
       "version_minor": 0
      },
      "text/plain": [
       "  0%|          | 0/10 [00:00<?, ?it/s]"
      ]
     },
     "metadata": {},
     "output_type": "display_data"
    },
    {
     "name": "stdout",
     "output_type": "stream",
     "text": [
      "60\n",
      "female prob:  0.025844910575517605\n",
      "male prob:  0.03079070360135482\n"
     ]
    },
    {
     "data": {
      "application/vnd.jupyter.widget-view+json": {
       "model_id": "5ce5c8249f42482e9f26a8d0220a9ecb",
       "version_major": 2,
       "version_minor": 0
      },
      "text/plain": [
       "  0%|          | 0/10 [00:00<?, ?it/s]"
      ]
     },
     "metadata": {},
     "output_type": "display_data"
    },
    {
     "name": "stdout",
     "output_type": "stream",
     "text": [
      "54\n",
      "female prob:  0.0066482279743795515\n",
      "male prob:  0.015856082429606056\n"
     ]
    },
    {
     "data": {
      "application/vnd.jupyter.widget-view+json": {
       "model_id": "613255eb89a541bea24b299c13c06b2d",
       "version_major": 2,
       "version_minor": 0
      },
      "text/plain": [
       "  0%|          | 0/10 [00:00<?, ?it/s]"
      ]
     },
     "metadata": {},
     "output_type": "display_data"
    },
    {
     "name": "stdout",
     "output_type": "stream",
     "text": [
      "73\n",
      "female prob:  0.07671451739173368\n",
      "male prob:  0.08449314048550136\n"
     ]
    },
    {
     "data": {
      "application/vnd.jupyter.widget-view+json": {
       "model_id": "599a954b09fd47d8863ec9c8160c586f",
       "version_major": 2,
       "version_minor": 0
      },
      "text/plain": [
       "  0%|          | 0/10 [00:00<?, ?it/s]"
      ]
     },
     "metadata": {},
     "output_type": "display_data"
    },
    {
     "name": "stdout",
     "output_type": "stream",
     "text": [
      "29\n",
      "female prob:  0.00025205667536829337\n",
      "male prob:  0.0008521935988828379\n"
     ]
    },
    {
     "data": {
      "application/vnd.jupyter.widget-view+json": {
       "model_id": "08f766e367c143848721b36887ced847",
       "version_major": 2,
       "version_minor": 0
      },
      "text/plain": [
       "  0%|          | 0/10 [00:00<?, ?it/s]"
      ]
     },
     "metadata": {},
     "output_type": "display_data"
    },
    {
     "name": "stdout",
     "output_type": "stream",
     "text": [
      "20\n",
      "female prob:  0.0003403522543902907\n",
      "male prob:  0.0006448879679233038\n"
     ]
    },
    {
     "data": {
      "application/vnd.jupyter.widget-view+json": {
       "model_id": "2d3a94ac06e44ee688f3e5033d74234d",
       "version_major": 2,
       "version_minor": 0
      },
      "text/plain": [
       "  0%|          | 0/10 [00:00<?, ?it/s]"
      ]
     },
     "metadata": {},
     "output_type": "display_data"
    },
    {
     "name": "stdout",
     "output_type": "stream",
     "text": [
      "55\n",
      "female prob:  0.10867461038637964\n",
      "male prob:  0.13084978391706845\n"
     ]
    },
    {
     "data": {
      "application/vnd.jupyter.widget-view+json": {
       "model_id": "fa53c089c4ec464d9204e3c4754d46bd",
       "version_major": 2,
       "version_minor": 0
      },
      "text/plain": [
       "  0%|          | 0/10 [00:00<?, ?it/s]"
      ]
     },
     "metadata": {},
     "output_type": "display_data"
    },
    {
     "name": "stdout",
     "output_type": "stream",
     "text": [
      "35\n",
      "female prob:  0.11715188873794308\n",
      "male prob:  0.10107036443370188\n"
     ]
    },
    {
     "data": {
      "application/vnd.jupyter.widget-view+json": {
       "model_id": "e7645950e62247678df2a39b83241be8",
       "version_major": 2,
       "version_minor": 0
      },
      "text/plain": [
       "  0%|          | 0/10 [00:00<?, ?it/s]"
      ]
     },
     "metadata": {},
     "output_type": "display_data"
    },
    {
     "name": "stdout",
     "output_type": "stream",
     "text": [
      "75\n",
      "female prob:  0.0032435396039160224\n",
      "male prob:  0.010553018296713982\n"
     ]
    },
    {
     "data": {
      "application/vnd.jupyter.widget-view+json": {
       "model_id": "41a127f0713e4bffa7b10f928b3cb561",
       "version_major": 2,
       "version_minor": 0
      },
      "text/plain": [
       "  0%|          | 0/10 [00:00<?, ?it/s]"
      ]
     },
     "metadata": {},
     "output_type": "display_data"
    },
    {
     "name": "stdout",
     "output_type": "stream",
     "text": [
      "87\n",
      "female prob:  0.05671557698711981\n",
      "male prob:  0.10228819815190288\n"
     ]
    },
    {
     "data": {
      "application/vnd.jupyter.widget-view+json": {
       "model_id": "223b28ae4d514314bd6278d39a79963f",
       "version_major": 2,
       "version_minor": 0
      },
      "text/plain": [
       "  0%|          | 0/10 [00:00<?, ?it/s]"
      ]
     },
     "metadata": {},
     "output_type": "display_data"
    },
    {
     "name": "stdout",
     "output_type": "stream",
     "text": [
      "38\n",
      "female prob:  0.06748136123434227\n",
      "male prob:  0.15140512037228754\n"
     ]
    },
    {
     "data": {
      "application/vnd.jupyter.widget-view+json": {
       "model_id": "ed05ff0a3548440f8bbfc3fd21e2eb97",
       "version_major": 2,
       "version_minor": 0
      },
      "text/plain": [
       "  0%|          | 0/10 [00:00<?, ?it/s]"
      ]
     },
     "metadata": {},
     "output_type": "display_data"
    },
    {
     "name": "stdout",
     "output_type": "stream",
     "text": [
      "61\n",
      "female prob:  0.045279259888008516\n",
      "male prob:  0.007885490463188226\n"
     ]
    },
    {
     "data": {
      "application/vnd.jupyter.widget-view+json": {
       "model_id": "5a3c3165b6b940319326f84032406813",
       "version_major": 2,
       "version_minor": 0
      },
      "text/plain": [
       "  0%|          | 0/10 [00:00<?, ?it/s]"
      ]
     },
     "metadata": {},
     "output_type": "display_data"
    },
    {
     "name": "stdout",
     "output_type": "stream",
     "text": [
      "91\n",
      "female prob:  0.04819462958921419\n",
      "male prob:  0.39015347024756053\n"
     ]
    },
    {
     "data": {
      "application/vnd.jupyter.widget-view+json": {
       "model_id": "5c450e8155f44f9597edb817cf50d6ee",
       "version_major": 2,
       "version_minor": 0
      },
      "text/plain": [
       "  0%|          | 0/10 [00:00<?, ?it/s]"
      ]
     },
     "metadata": {},
     "output_type": "display_data"
    },
    {
     "name": "stdout",
     "output_type": "stream",
     "text": [
      "32\n",
      "female prob:  0.10874437228557894\n",
      "male prob:  0.20420727112910814\n"
     ]
    },
    {
     "data": {
      "application/vnd.jupyter.widget-view+json": {
       "model_id": "9e7c1c63f6584084b5253dce0b01b961",
       "version_major": 2,
       "version_minor": 0
      },
      "text/plain": [
       "  0%|          | 0/10 [00:00<?, ?it/s]"
      ]
     },
     "metadata": {},
     "output_type": "display_data"
    },
    {
     "name": "stdout",
     "output_type": "stream",
     "text": [
      "93\n",
      "female prob:  0.017433509304098482\n",
      "male prob:  0.023283146086499704\n"
     ]
    },
    {
     "data": {
      "application/vnd.jupyter.widget-view+json": {
       "model_id": "ae6ae2e49e2f41b1b1f41f3b963ef7c0",
       "version_major": 2,
       "version_minor": 0
      },
      "text/plain": [
       "  0%|          | 0/10 [00:00<?, ?it/s]"
      ]
     },
     "metadata": {},
     "output_type": "display_data"
    },
    {
     "name": "stdout",
     "output_type": "stream",
     "text": [
      "53\n",
      "female prob:  0.005362263204807137\n",
      "male prob:  0.03035924506928316\n"
     ]
    },
    {
     "data": {
      "application/vnd.jupyter.widget-view+json": {
       "model_id": "191721c52ff946dc953719cbd94765ab",
       "version_major": 2,
       "version_minor": 0
      },
      "text/plain": [
       "  0%|          | 0/10 [00:00<?, ?it/s]"
      ]
     },
     "metadata": {},
     "output_type": "display_data"
    },
    {
     "name": "stdout",
     "output_type": "stream",
     "text": [
      "50\n",
      "female prob:  0.11136137796900006\n",
      "male prob:  0.14021813902484553\n"
     ]
    },
    {
     "data": {
      "application/vnd.jupyter.widget-view+json": {
       "model_id": "c1fe530de304487f942e2e0e38de502a",
       "version_major": 2,
       "version_minor": 0
      },
      "text/plain": [
       "  0%|          | 0/10 [00:00<?, ?it/s]"
      ]
     },
     "metadata": {},
     "output_type": "display_data"
    },
    {
     "name": "stdout",
     "output_type": "stream",
     "text": [
      "41\n",
      "female prob:  0.00028487468470417656\n",
      "male prob:  0.01273321176219628\n"
     ]
    },
    {
     "data": {
      "application/vnd.jupyter.widget-view+json": {
       "model_id": "36e1daeaad6a4bcc8c57f85b9fbd955e",
       "version_major": 2,
       "version_minor": 0
      },
      "text/plain": [
       "  0%|          | 0/10 [00:00<?, ?it/s]"
      ]
     },
     "metadata": {},
     "output_type": "display_data"
    },
    {
     "name": "stdout",
     "output_type": "stream",
     "text": [
      "92\n",
      "female prob:  0.11438507479955483\n",
      "male prob:  0.3267912545767683\n"
     ]
    },
    {
     "data": {
      "application/vnd.jupyter.widget-view+json": {
       "model_id": "dee24d1b663a45a9a30d5ddfe2a5f428",
       "version_major": 2,
       "version_minor": 0
      },
      "text/plain": [
       "  0%|          | 0/10 [00:00<?, ?it/s]"
      ]
     },
     "metadata": {},
     "output_type": "display_data"
    },
    {
     "name": "stdout",
     "output_type": "stream",
     "text": [
      "88\n",
      "female prob:  0.041658757018454735\n",
      "male prob:  0.06388954133453992\n"
     ]
    },
    {
     "data": {
      "application/vnd.jupyter.widget-view+json": {
       "model_id": "aefcf3cefb7949a29c02b19623ebb2a0",
       "version_major": 2,
       "version_minor": 0
      },
      "text/plain": [
       "  0%|          | 0/10 [00:00<?, ?it/s]"
      ]
     },
     "metadata": {},
     "output_type": "display_data"
    },
    {
     "name": "stdout",
     "output_type": "stream",
     "text": [
      "51\n",
      "female prob:  0.14560768473136795\n",
      "male prob:  0.26236436087235965\n"
     ]
    },
    {
     "data": {
      "application/vnd.jupyter.widget-view+json": {
       "model_id": "829c9678976d4da1b45133cb0535fc66",
       "version_major": 2,
       "version_minor": 0
      },
      "text/plain": [
       "  0%|          | 0/10 [00:00<?, ?it/s]"
      ]
     },
     "metadata": {},
     "output_type": "display_data"
    },
    {
     "name": "stdout",
     "output_type": "stream",
     "text": [
      "71\n",
      "female prob:  0.08407829735538648\n",
      "male prob:  0.11668212567395644\n"
     ]
    },
    {
     "data": {
      "application/vnd.jupyter.widget-view+json": {
       "model_id": "5c674b1910374640b796563c3019d480",
       "version_major": 2,
       "version_minor": 0
      },
      "text/plain": [
       "  0%|          | 0/27 [00:00<?, ?it/s]"
      ]
     },
     "metadata": {},
     "output_type": "display_data"
    },
    {
     "data": {
      "application/vnd.jupyter.widget-view+json": {
       "model_id": "f832c4402f0f44b6a6bc638d3e97c527",
       "version_major": 2,
       "version_minor": 0
      },
      "text/plain": [
       "  0%|          | 0/10 [00:00<?, ?it/s]"
      ]
     },
     "metadata": {},
     "output_type": "display_data"
    },
    {
     "name": "stdout",
     "output_type": "stream",
     "text": [
      "82\n",
      "female prob:  0.04881683592329983\n",
      "male prob:  0.058889600626027556\n"
     ]
    },
    {
     "data": {
      "application/vnd.jupyter.widget-view+json": {
       "model_id": "db220bfd4518499587fcc965101247b9",
       "version_major": 2,
       "version_minor": 0
      },
      "text/plain": [
       "  0%|          | 0/10 [00:00<?, ?it/s]"
      ]
     },
     "metadata": {},
     "output_type": "display_data"
    },
    {
     "name": "stdout",
     "output_type": "stream",
     "text": [
      "70\n",
      "female prob:  0.07538367980356264\n",
      "male prob:  0.12727587363420156\n"
     ]
    },
    {
     "data": {
      "application/vnd.jupyter.widget-view+json": {
       "model_id": "7d09f0e5dd154c7aa460bd1ba8dd1b8e",
       "version_major": 2,
       "version_minor": 0
      },
      "text/plain": [
       "  0%|          | 0/10 [00:00<?, ?it/s]"
      ]
     },
     "metadata": {},
     "output_type": "display_data"
    },
    {
     "name": "stdout",
     "output_type": "stream",
     "text": [
      "44\n",
      "female prob:  0.03959210797169654\n",
      "male prob:  0.058841024301024364\n"
     ]
    },
    {
     "data": {
      "application/vnd.jupyter.widget-view+json": {
       "model_id": "84347487d73042ecb00472f68ec1428b",
       "version_major": 2,
       "version_minor": 0
      },
      "text/plain": [
       "  0%|          | 0/10 [00:00<?, ?it/s]"
      ]
     },
     "metadata": {},
     "output_type": "display_data"
    },
    {
     "name": "stdout",
     "output_type": "stream",
     "text": [
      "59\n",
      "female prob:  0.17168744231340174\n",
      "male prob:  0.28591863381463917\n"
     ]
    },
    {
     "data": {
      "application/vnd.jupyter.widget-view+json": {
       "model_id": "9f4a20ce65084a65ab2a5d8f3d199a25",
       "version_major": 2,
       "version_minor": 0
      },
      "text/plain": [
       "  0%|          | 0/10 [00:00<?, ?it/s]"
      ]
     },
     "metadata": {},
     "output_type": "display_data"
    },
    {
     "name": "stdout",
     "output_type": "stream",
     "text": [
      "66\n",
      "female prob:  0.011216485084373791\n",
      "male prob:  0.0345866757060577\n"
     ]
    },
    {
     "data": {
      "application/vnd.jupyter.widget-view+json": {
       "model_id": "d6741d0987494cfd8ac24ec44f8e7579",
       "version_major": 2,
       "version_minor": 0
      },
      "text/plain": [
       "  0%|          | 0/10 [00:00<?, ?it/s]"
      ]
     },
     "metadata": {},
     "output_type": "display_data"
    },
    {
     "name": "stdout",
     "output_type": "stream",
     "text": [
      "43\n",
      "female prob:  0.026778348681510366\n",
      "male prob:  0.02594696628827162\n"
     ]
    },
    {
     "data": {
      "application/vnd.jupyter.widget-view+json": {
       "model_id": "b46f07f62d8f41dbb3e3fe8d63320496",
       "version_major": 2,
       "version_minor": 0
      },
      "text/plain": [
       "  0%|          | 0/10 [00:00<?, ?it/s]"
      ]
     },
     "metadata": {},
     "output_type": "display_data"
    },
    {
     "name": "stdout",
     "output_type": "stream",
     "text": [
      "36\n",
      "female prob:  0.025543158601258928\n",
      "male prob:  0.019794956340795554\n"
     ]
    },
    {
     "data": {
      "application/vnd.jupyter.widget-view+json": {
       "model_id": "c315bffd7e044b8da19bec500428dd63",
       "version_major": 2,
       "version_minor": 0
      },
      "text/plain": [
       "  0%|          | 0/10 [00:00<?, ?it/s]"
      ]
     },
     "metadata": {},
     "output_type": "display_data"
    },
    {
     "name": "stdout",
     "output_type": "stream",
     "text": [
      "51\n",
      "female prob:  0.0025624403037989864\n",
      "male prob:  0.0029888698574717775\n"
     ]
    },
    {
     "data": {
      "application/vnd.jupyter.widget-view+json": {
       "model_id": "ec3c3cd70a7144ada57fa615f61a83e2",
       "version_major": 2,
       "version_minor": 0
      },
      "text/plain": [
       "  0%|          | 0/10 [00:00<?, ?it/s]"
      ]
     },
     "metadata": {},
     "output_type": "display_data"
    },
    {
     "name": "stdout",
     "output_type": "stream",
     "text": [
      "39\n",
      "female prob:  0.09110654460550845\n",
      "male prob:  0.07072739264844613\n"
     ]
    },
    {
     "data": {
      "application/vnd.jupyter.widget-view+json": {
       "model_id": "26b58cb665104132a01c2a1875adf421",
       "version_major": 2,
       "version_minor": 0
      },
      "text/plain": [
       "  0%|          | 0/10 [00:00<?, ?it/s]"
      ]
     },
     "metadata": {},
     "output_type": "display_data"
    },
    {
     "name": "stdout",
     "output_type": "stream",
     "text": [
      "19\n",
      "female prob:  0.0018124079368136525\n",
      "male prob:  0.002330830562450012\n"
     ]
    },
    {
     "data": {
      "application/vnd.jupyter.widget-view+json": {
       "model_id": "2f0c3c196a8e44fbbfd283d1a09e18ad",
       "version_major": 2,
       "version_minor": 0
      },
      "text/plain": [
       "  0%|          | 0/10 [00:00<?, ?it/s]"
      ]
     },
     "metadata": {},
     "output_type": "display_data"
    },
    {
     "name": "stdout",
     "output_type": "stream",
     "text": [
      "35\n",
      "female prob:  0.010415405654589588\n",
      "male prob:  0.06369670685190566\n"
     ]
    },
    {
     "data": {
      "application/vnd.jupyter.widget-view+json": {
       "model_id": "b6c1264025a24d568b9436c6311957b3",
       "version_major": 2,
       "version_minor": 0
      },
      "text/plain": [
       "  0%|          | 0/10 [00:00<?, ?it/s]"
      ]
     },
     "metadata": {},
     "output_type": "display_data"
    },
    {
     "name": "stdout",
     "output_type": "stream",
     "text": [
      "73\n",
      "female prob:  0.1370616100653998\n",
      "male prob:  0.15851360228404704\n"
     ]
    },
    {
     "data": {
      "application/vnd.jupyter.widget-view+json": {
       "model_id": "5fa7f16b9bb84086b11953282c628e64",
       "version_major": 2,
       "version_minor": 0
      },
      "text/plain": [
       "  0%|          | 0/10 [00:00<?, ?it/s]"
      ]
     },
     "metadata": {},
     "output_type": "display_data"
    },
    {
     "name": "stdout",
     "output_type": "stream",
     "text": [
      "63\n",
      "female prob:  0.056213120876244124\n",
      "male prob:  0.08698251615069051\n"
     ]
    },
    {
     "data": {
      "application/vnd.jupyter.widget-view+json": {
       "model_id": "f0ab45b921f342409998e70e61d74572",
       "version_major": 2,
       "version_minor": 0
      },
      "text/plain": [
       "  0%|          | 0/10 [00:00<?, ?it/s]"
      ]
     },
     "metadata": {},
     "output_type": "display_data"
    },
    {
     "name": "stdout",
     "output_type": "stream",
     "text": [
      "67\n",
      "female prob:  0.00937382764709659\n",
      "male prob:  0.0038586834825345587\n"
     ]
    },
    {
     "data": {
      "application/vnd.jupyter.widget-view+json": {
       "model_id": "bb58dae3c40c45e2b7a42be24b1fda4b",
       "version_major": 2,
       "version_minor": 0
      },
      "text/plain": [
       "  0%|          | 0/10 [00:00<?, ?it/s]"
      ]
     },
     "metadata": {},
     "output_type": "display_data"
    },
    {
     "name": "stdout",
     "output_type": "stream",
     "text": [
      "67\n",
      "female prob:  0.021333543857154965\n",
      "male prob:  0.0465223856599419\n"
     ]
    },
    {
     "data": {
      "application/vnd.jupyter.widget-view+json": {
       "model_id": "ca004af058ac4396b675f55a9c1432a8",
       "version_major": 2,
       "version_minor": 0
      },
      "text/plain": [
       "  0%|          | 0/10 [00:00<?, ?it/s]"
      ]
     },
     "metadata": {},
     "output_type": "display_data"
    },
    {
     "name": "stdout",
     "output_type": "stream",
     "text": [
      "35\n",
      "female prob:  0.26087135497321257\n",
      "male prob:  0.20989826223171562\n"
     ]
    },
    {
     "data": {
      "application/vnd.jupyter.widget-view+json": {
       "model_id": "ada8eb8fc75c45d599a8de8a0d923e1a",
       "version_major": 2,
       "version_minor": 0
      },
      "text/plain": [
       "  0%|          | 0/10 [00:00<?, ?it/s]"
      ]
     },
     "metadata": {},
     "output_type": "display_data"
    },
    {
     "name": "stdout",
     "output_type": "stream",
     "text": [
      "60\n",
      "female prob:  0.03850046762279662\n",
      "male prob:  0.0002529744513988478\n"
     ]
    },
    {
     "data": {
      "application/vnd.jupyter.widget-view+json": {
       "model_id": "636be9bf5b1048bdbdf59d03ee2c7690",
       "version_major": 2,
       "version_minor": 0
      },
      "text/plain": [
       "  0%|          | 0/10 [00:00<?, ?it/s]"
      ]
     },
     "metadata": {},
     "output_type": "display_data"
    },
    {
     "name": "stdout",
     "output_type": "stream",
     "text": [
      "62\n",
      "female prob:  0.09162047983351261\n",
      "male prob:  0.17243972180854805\n"
     ]
    },
    {
     "data": {
      "application/vnd.jupyter.widget-view+json": {
       "model_id": "228ca8396d3244049fa3d52d419d274b",
       "version_major": 2,
       "version_minor": 0
      },
      "text/plain": [
       "  0%|          | 0/10 [00:00<?, ?it/s]"
      ]
     },
     "metadata": {},
     "output_type": "display_data"
    },
    {
     "name": "stdout",
     "output_type": "stream",
     "text": [
      "46\n",
      "female prob:  0.007100303616160809\n",
      "male prob:  0.09126301943223795\n"
     ]
    },
    {
     "data": {
      "application/vnd.jupyter.widget-view+json": {
       "model_id": "fcdedd49925448d1a6e822d6412e0a84",
       "version_major": 2,
       "version_minor": 0
      },
      "text/plain": [
       "  0%|          | 0/10 [00:00<?, ?it/s]"
      ]
     },
     "metadata": {},
     "output_type": "display_data"
    },
    {
     "name": "stdout",
     "output_type": "stream",
     "text": [
      "57\n",
      "female prob:  0.04488913928973772\n",
      "male prob:  0.04620348908188505\n"
     ]
    },
    {
     "data": {
      "application/vnd.jupyter.widget-view+json": {
       "model_id": "560255dcc84a40cfbf2e4ec03ef04284",
       "version_major": 2,
       "version_minor": 0
      },
      "text/plain": [
       "  0%|          | 0/10 [00:00<?, ?it/s]"
      ]
     },
     "metadata": {},
     "output_type": "display_data"
    },
    {
     "name": "stdout",
     "output_type": "stream",
     "text": [
      "52\n",
      "female prob:  0.0329530964071269\n",
      "male prob:  0.02665124581918197\n"
     ]
    },
    {
     "data": {
      "application/vnd.jupyter.widget-view+json": {
       "model_id": "bd6508105b4e46e9a7cda849fdea1234",
       "version_major": 2,
       "version_minor": 0
      },
      "text/plain": [
       "  0%|          | 0/10 [00:00<?, ?it/s]"
      ]
     },
     "metadata": {},
     "output_type": "display_data"
    },
    {
     "name": "stdout",
     "output_type": "stream",
     "text": [
      "40\n",
      "female prob:  0.13611353406154905\n",
      "male prob:  0.11213675634745102\n"
     ]
    },
    {
     "data": {
      "application/vnd.jupyter.widget-view+json": {
       "model_id": "0fa07278b098448098c820d27bba42b3",
       "version_major": 2,
       "version_minor": 0
      },
      "text/plain": [
       "  0%|          | 0/10 [00:00<?, ?it/s]"
      ]
     },
     "metadata": {},
     "output_type": "display_data"
    },
    {
     "name": "stdout",
     "output_type": "stream",
     "text": [
      "51\n",
      "female prob:  0.0006204486026928291\n",
      "male prob:  0.0014986638872445971\n"
     ]
    },
    {
     "data": {
      "application/vnd.jupyter.widget-view+json": {
       "model_id": "70180cfa8b694795afbd2b803831e460",
       "version_major": 2,
       "version_minor": 0
      },
      "text/plain": [
       "  0%|          | 0/10 [00:00<?, ?it/s]"
      ]
     },
     "metadata": {},
     "output_type": "display_data"
    },
    {
     "name": "stdout",
     "output_type": "stream",
     "text": [
      "49\n",
      "female prob:  0.04168184961895052\n",
      "male prob:  0.12863000132065383\n"
     ]
    },
    {
     "data": {
      "application/vnd.jupyter.widget-view+json": {
       "model_id": "3e80dff416674abaaebe26b0c31979db",
       "version_major": 2,
       "version_minor": 0
      },
      "text/plain": [
       "  0%|          | 0/10 [00:00<?, ?it/s]"
      ]
     },
     "metadata": {},
     "output_type": "display_data"
    },
    {
     "name": "stdout",
     "output_type": "stream",
     "text": [
      "57\n",
      "female prob:  0.03646882801366286\n",
      "male prob:  0.02703622093483833\n"
     ]
    },
    {
     "data": {
      "application/vnd.jupyter.widget-view+json": {
       "model_id": "9c2cadb056a6405697d21d0ab5c5d077",
       "version_major": 2,
       "version_minor": 0
      },
      "text/plain": [
       "  0%|          | 0/10 [00:00<?, ?it/s]"
      ]
     },
     "metadata": {},
     "output_type": "display_data"
    },
    {
     "name": "stdout",
     "output_type": "stream",
     "text": [
      "60\n",
      "female prob:  0.14285680568567236\n",
      "male prob:  0.23609125112706403\n"
     ]
    },
    {
     "data": {
      "application/vnd.jupyter.widget-view+json": {
       "model_id": "f0212943a74d448ab4b7dc7340f57913",
       "version_major": 2,
       "version_minor": 0
      },
      "text/plain": [
       "  0%|          | 0/10 [00:00<?, ?it/s]"
      ]
     },
     "metadata": {},
     "output_type": "display_data"
    },
    {
     "name": "stdout",
     "output_type": "stream",
     "text": [
      "60\n",
      "female prob:  0.09993328844200247\n",
      "male prob:  0.08016225462993237\n"
     ]
    },
    {
     "data": {
      "application/vnd.jupyter.widget-view+json": {
       "model_id": "56de0ea7522040bc9db18c4142c927ce",
       "version_major": 2,
       "version_minor": 0
      },
      "text/plain": [
       "  0%|          | 0/27 [00:00<?, ?it/s]"
      ]
     },
     "metadata": {},
     "output_type": "display_data"
    },
    {
     "data": {
      "application/vnd.jupyter.widget-view+json": {
       "model_id": "5e0e6c120bfc455ea5872658b0a42855",
       "version_major": 2,
       "version_minor": 0
      },
      "text/plain": [
       "  0%|          | 0/10 [00:00<?, ?it/s]"
      ]
     },
     "metadata": {},
     "output_type": "display_data"
    },
    {
     "name": "stdout",
     "output_type": "stream",
     "text": [
      "74\n",
      "female prob:  0.063942158523317\n",
      "male prob:  0.07260028129708446\n"
     ]
    },
    {
     "data": {
      "application/vnd.jupyter.widget-view+json": {
       "model_id": "903632e5e5974b92a2e62902a269bbdd",
       "version_major": 2,
       "version_minor": 0
      },
      "text/plain": [
       "  0%|          | 0/10 [00:00<?, ?it/s]"
      ]
     },
     "metadata": {},
     "output_type": "display_data"
    },
    {
     "name": "stdout",
     "output_type": "stream",
     "text": [
      "82\n",
      "female prob:  0.07384826124778307\n",
      "male prob:  0.08587827471028259\n"
     ]
    },
    {
     "data": {
      "application/vnd.jupyter.widget-view+json": {
       "model_id": "8eed8414068f4e6185741ebfe411e387",
       "version_major": 2,
       "version_minor": 0
      },
      "text/plain": [
       "  0%|          | 0/10 [00:00<?, ?it/s]"
      ]
     },
     "metadata": {},
     "output_type": "display_data"
    },
    {
     "name": "stdout",
     "output_type": "stream",
     "text": [
      "58\n",
      "female prob:  0.1260682320289234\n",
      "male prob:  0.18589559708702083\n"
     ]
    },
    {
     "data": {
      "application/vnd.jupyter.widget-view+json": {
       "model_id": "ec15c8c7ebfc4ba599923b7c54fe4a84",
       "version_major": 2,
       "version_minor": 0
      },
      "text/plain": [
       "  0%|          | 0/10 [00:00<?, ?it/s]"
      ]
     },
     "metadata": {},
     "output_type": "display_data"
    },
    {
     "name": "stdout",
     "output_type": "stream",
     "text": [
      "51\n",
      "female prob:  0.15887922330600243\n",
      "male prob:  0.34513565803869956\n"
     ]
    },
    {
     "data": {
      "application/vnd.jupyter.widget-view+json": {
       "model_id": "28fd31298644491ab28098ac3e3f9da5",
       "version_major": 2,
       "version_minor": 0
      },
      "text/plain": [
       "  0%|          | 0/10 [00:00<?, ?it/s]"
      ]
     },
     "metadata": {},
     "output_type": "display_data"
    },
    {
     "name": "stdout",
     "output_type": "stream",
     "text": [
      "80\n",
      "female prob:  0.021086179935404722\n",
      "male prob:  0.03920144081336734\n"
     ]
    },
    {
     "data": {
      "application/vnd.jupyter.widget-view+json": {
       "model_id": "e6ca9ecee4aa4a7798cfa6446945474d",
       "version_major": 2,
       "version_minor": 0
      },
      "text/plain": [
       "  0%|          | 0/10 [00:00<?, ?it/s]"
      ]
     },
     "metadata": {},
     "output_type": "display_data"
    },
    {
     "name": "stdout",
     "output_type": "stream",
     "text": [
      "61\n",
      "female prob:  0.058770521795454875\n",
      "male prob:  0.06183716126281031\n"
     ]
    },
    {
     "data": {
      "application/vnd.jupyter.widget-view+json": {
       "model_id": "d4e48cc0c7f94f1898c192ced4fc1d5e",
       "version_major": 2,
       "version_minor": 0
      },
      "text/plain": [
       "  0%|          | 0/10 [00:00<?, ?it/s]"
      ]
     },
     "metadata": {},
     "output_type": "display_data"
    },
    {
     "name": "stdout",
     "output_type": "stream",
     "text": [
      "43\n",
      "female prob:  0.022451422459628067\n",
      "male prob:  0.014414983498404185\n"
     ]
    },
    {
     "data": {
      "application/vnd.jupyter.widget-view+json": {
       "model_id": "ad9555086c9e4379abd2c4f2239ad3bc",
       "version_major": 2,
       "version_minor": 0
      },
      "text/plain": [
       "  0%|          | 0/10 [00:00<?, ?it/s]"
      ]
     },
     "metadata": {},
     "output_type": "display_data"
    },
    {
     "name": "stdout",
     "output_type": "stream",
     "text": [
      "55\n",
      "female prob:  0.0022257860719340984\n",
      "male prob:  0.0038023479578831454\n"
     ]
    },
    {
     "data": {
      "application/vnd.jupyter.widget-view+json": {
       "model_id": "3589513bd217497fabea8831a9256f30",
       "version_major": 2,
       "version_minor": 0
      },
      "text/plain": [
       "  0%|          | 0/10 [00:00<?, ?it/s]"
      ]
     },
     "metadata": {},
     "output_type": "display_data"
    },
    {
     "name": "stdout",
     "output_type": "stream",
     "text": [
      "50\n",
      "female prob:  0.10823300544788468\n",
      "male prob:  0.0962634679582937\n"
     ]
    },
    {
     "data": {
      "application/vnd.jupyter.widget-view+json": {
       "model_id": "63541f0c3b9044e8875210d706d8eb94",
       "version_major": 2,
       "version_minor": 0
      },
      "text/plain": [
       "  0%|          | 0/10 [00:00<?, ?it/s]"
      ]
     },
     "metadata": {},
     "output_type": "display_data"
    },
    {
     "name": "stdout",
     "output_type": "stream",
     "text": [
      "7\n",
      "female prob:  8.685715599197296e-07\n",
      "male prob:  0.00019637892267933388\n"
     ]
    },
    {
     "data": {
      "application/vnd.jupyter.widget-view+json": {
       "model_id": "07f6c539bb124d2495b657ed2d7eaaeb",
       "version_major": 2,
       "version_minor": 0
      },
      "text/plain": [
       "  0%|          | 0/10 [00:00<?, ?it/s]"
      ]
     },
     "metadata": {},
     "output_type": "display_data"
    },
    {
     "name": "stdout",
     "output_type": "stream",
     "text": [
      "29\n",
      "female prob:  0.019062970056927978\n",
      "male prob:  0.045389882579670714\n"
     ]
    },
    {
     "data": {
      "application/vnd.jupyter.widget-view+json": {
       "model_id": "eea51d09f03248df8cfac84112467be6",
       "version_major": 2,
       "version_minor": 0
      },
      "text/plain": [
       "  0%|          | 0/10 [00:00<?, ?it/s]"
      ]
     },
     "metadata": {},
     "output_type": "display_data"
    },
    {
     "name": "stdout",
     "output_type": "stream",
     "text": [
      "91\n",
      "female prob:  0.12976438575208657\n",
      "male prob:  0.19622892780880097\n"
     ]
    },
    {
     "data": {
      "application/vnd.jupyter.widget-view+json": {
       "model_id": "2cfb5aac910d4332994a1ca9d9b5ce5d",
       "version_major": 2,
       "version_minor": 0
      },
      "text/plain": [
       "  0%|          | 0/10 [00:00<?, ?it/s]"
      ]
     },
     "metadata": {},
     "output_type": "display_data"
    },
    {
     "name": "stdout",
     "output_type": "stream",
     "text": [
      "82\n",
      "female prob:  0.0595916165762088\n",
      "male prob:  0.09434900614556094\n"
     ]
    },
    {
     "data": {
      "application/vnd.jupyter.widget-view+json": {
       "model_id": "8ed5eb3d76d04848a9965cc12d3d0524",
       "version_major": 2,
       "version_minor": 0
      },
      "text/plain": [
       "  0%|          | 0/10 [00:00<?, ?it/s]"
      ]
     },
     "metadata": {},
     "output_type": "display_data"
    },
    {
     "name": "stdout",
     "output_type": "stream",
     "text": [
      "56\n",
      "female prob:  0.0024765138948942235\n",
      "male prob:  0.0031668969102251338\n"
     ]
    },
    {
     "data": {
      "application/vnd.jupyter.widget-view+json": {
       "model_id": "f26c37672d91467987af6797fd00b062",
       "version_major": 2,
       "version_minor": 0
      },
      "text/plain": [
       "  0%|          | 0/10 [00:00<?, ?it/s]"
      ]
     },
     "metadata": {},
     "output_type": "display_data"
    },
    {
     "name": "stdout",
     "output_type": "stream",
     "text": [
      "64\n",
      "female prob:  0.04110979110475531\n",
      "male prob:  0.06137954278640426\n"
     ]
    },
    {
     "data": {
      "application/vnd.jupyter.widget-view+json": {
       "model_id": "1b5ab943d5bb46abb6c521160add59b4",
       "version_major": 2,
       "version_minor": 0
      },
      "text/plain": [
       "  0%|          | 0/10 [00:00<?, ?it/s]"
      ]
     },
     "metadata": {},
     "output_type": "display_data"
    },
    {
     "name": "stdout",
     "output_type": "stream",
     "text": [
      "41\n",
      "female prob:  0.43663465552949043\n",
      "male prob:  0.38051963965152763\n"
     ]
    },
    {
     "data": {
      "application/vnd.jupyter.widget-view+json": {
       "model_id": "6bc7b26eca99484188f429f01962e207",
       "version_major": 2,
       "version_minor": 0
      },
      "text/plain": [
       "  0%|          | 0/10 [00:00<?, ?it/s]"
      ]
     },
     "metadata": {},
     "output_type": "display_data"
    },
    {
     "name": "stdout",
     "output_type": "stream",
     "text": [
      "50\n",
      "female prob:  0.014944643951631139\n",
      "male prob:  0.006678300707508722\n"
     ]
    },
    {
     "data": {
      "application/vnd.jupyter.widget-view+json": {
       "model_id": "2bc2276be8d1498c890a081ed695837a",
       "version_major": 2,
       "version_minor": 0
      },
      "text/plain": [
       "  0%|          | 0/10 [00:00<?, ?it/s]"
      ]
     },
     "metadata": {},
     "output_type": "display_data"
    },
    {
     "name": "stdout",
     "output_type": "stream",
     "text": [
      "115\n",
      "female prob:  0.07993668202843553\n",
      "male prob:  0.2034051837755222\n"
     ]
    },
    {
     "data": {
      "application/vnd.jupyter.widget-view+json": {
       "model_id": "6ec58513e5ca43c7a400d76560743a95",
       "version_major": 2,
       "version_minor": 0
      },
      "text/plain": [
       "  0%|          | 0/10 [00:00<?, ?it/s]"
      ]
     },
     "metadata": {},
     "output_type": "display_data"
    },
    {
     "name": "stdout",
     "output_type": "stream",
     "text": [
      "53\n",
      "female prob:  0.0825535478707331\n",
      "male prob:  0.18694731012656007\n"
     ]
    },
    {
     "data": {
      "application/vnd.jupyter.widget-view+json": {
       "model_id": "a67dabcfb5df4494bfa540acac693a35",
       "version_major": 2,
       "version_minor": 0
      },
      "text/plain": [
       "  0%|          | 0/10 [00:00<?, ?it/s]"
      ]
     },
     "metadata": {},
     "output_type": "display_data"
    },
    {
     "name": "stdout",
     "output_type": "stream",
     "text": [
      "72\n",
      "female prob:  0.08964744756746054\n",
      "male prob:  0.0760890685856199\n"
     ]
    },
    {
     "data": {
      "application/vnd.jupyter.widget-view+json": {
       "model_id": "6c8c18aed4a34c20b9ce258c5d7b951d",
       "version_major": 2,
       "version_minor": 0
      },
      "text/plain": [
       "  0%|          | 0/10 [00:00<?, ?it/s]"
      ]
     },
     "metadata": {},
     "output_type": "display_data"
    },
    {
     "name": "stdout",
     "output_type": "stream",
     "text": [
      "43\n",
      "female prob:  0.08178223909106877\n",
      "male prob:  0.062067085059804045\n"
     ]
    },
    {
     "data": {
      "application/vnd.jupyter.widget-view+json": {
       "model_id": "f2f248f04c9345088742b69aa8bcc572",
       "version_major": 2,
       "version_minor": 0
      },
      "text/plain": [
       "  0%|          | 0/10 [00:00<?, ?it/s]"
      ]
     },
     "metadata": {},
     "output_type": "display_data"
    },
    {
     "name": "stdout",
     "output_type": "stream",
     "text": [
      "39\n",
      "female prob:  0.14962329461219376\n",
      "male prob:  0.15615958571585417\n"
     ]
    },
    {
     "data": {
      "application/vnd.jupyter.widget-view+json": {
       "model_id": "af246e147c684d7fb6d170a150c0262a",
       "version_major": 2,
       "version_minor": 0
      },
      "text/plain": [
       "  0%|          | 0/10 [00:00<?, ?it/s]"
      ]
     },
     "metadata": {},
     "output_type": "display_data"
    },
    {
     "name": "stdout",
     "output_type": "stream",
     "text": [
      "18\n",
      "female prob:  0.00013624002938495737\n",
      "male prob:  0.0005056870919982847\n"
     ]
    },
    {
     "data": {
      "application/vnd.jupyter.widget-view+json": {
       "model_id": "fb3efe343115416cba7c9f72af4931ce",
       "version_major": 2,
       "version_minor": 0
      },
      "text/plain": [
       "  0%|          | 0/10 [00:00<?, ?it/s]"
      ]
     },
     "metadata": {},
     "output_type": "display_data"
    },
    {
     "name": "stdout",
     "output_type": "stream",
     "text": [
      "54\n",
      "female prob:  0.09956413570435724\n",
      "male prob:  0.23985785190783177\n"
     ]
    },
    {
     "data": {
      "application/vnd.jupyter.widget-view+json": {
       "model_id": "a9d973c9a4ce49c39b6f8ed0586bd870",
       "version_major": 2,
       "version_minor": 0
      },
      "text/plain": [
       "  0%|          | 0/10 [00:00<?, ?it/s]"
      ]
     },
     "metadata": {},
     "output_type": "display_data"
    },
    {
     "name": "stdout",
     "output_type": "stream",
     "text": [
      "74\n",
      "female prob:  0.07055701077313771\n",
      "male prob:  0.061827718380652284\n"
     ]
    },
    {
     "data": {
      "application/vnd.jupyter.widget-view+json": {
       "model_id": "34dd3a2d3c7741838fdd97db877299b2",
       "version_major": 2,
       "version_minor": 0
      },
      "text/plain": [
       "  0%|          | 0/10 [00:00<?, ?it/s]"
      ]
     },
     "metadata": {},
     "output_type": "display_data"
    },
    {
     "name": "stdout",
     "output_type": "stream",
     "text": [
      "57\n",
      "female prob:  0.1878747425237223\n",
      "male prob:  0.20148481320223138\n"
     ]
    },
    {
     "data": {
      "application/vnd.jupyter.widget-view+json": {
       "model_id": "baf1c88a89004226ab6a6207b60b7bea",
       "version_major": 2,
       "version_minor": 0
      },
      "text/plain": [
       "  0%|          | 0/10 [00:00<?, ?it/s]"
      ]
     },
     "metadata": {},
     "output_type": "display_data"
    },
    {
     "name": "stdout",
     "output_type": "stream",
     "text": [
      "44\n",
      "female prob:  0.12384863514680901\n",
      "male prob:  0.08488433765197906\n"
     ]
    },
    {
     "data": {
      "application/vnd.jupyter.widget-view+json": {
       "model_id": "a02696830ef44ae4a4db853d55c9eb2a",
       "version_major": 2,
       "version_minor": 0
      },
      "text/plain": [
       "  0%|          | 0/27 [00:00<?, ?it/s]"
      ]
     },
     "metadata": {},
     "output_type": "display_data"
    },
    {
     "data": {
      "application/vnd.jupyter.widget-view+json": {
       "model_id": "5864091f288f49e590319b2076c0764c",
       "version_major": 2,
       "version_minor": 0
      },
      "text/plain": [
       "  0%|          | 0/10 [00:00<?, ?it/s]"
      ]
     },
     "metadata": {},
     "output_type": "display_data"
    },
    {
     "name": "stdout",
     "output_type": "stream",
     "text": [
      "73\n",
      "female prob:  0.053450358924897114\n",
      "male prob:  0.0534186548278679\n"
     ]
    },
    {
     "data": {
      "application/vnd.jupyter.widget-view+json": {
       "model_id": "310297a559aa4ee48f7af148d94b1e36",
       "version_major": 2,
       "version_minor": 0
      },
      "text/plain": [
       "  0%|          | 0/10 [00:00<?, ?it/s]"
      ]
     },
     "metadata": {},
     "output_type": "display_data"
    },
    {
     "name": "stdout",
     "output_type": "stream",
     "text": [
      "66\n",
      "female prob:  0.03436116986305893\n",
      "male prob:  0.06510726362410221\n"
     ]
    },
    {
     "data": {
      "application/vnd.jupyter.widget-view+json": {
       "model_id": "7e3b4adb548f478d97b9b7e2b69b3181",
       "version_major": 2,
       "version_minor": 0
      },
      "text/plain": [
       "  0%|          | 0/10 [00:00<?, ?it/s]"
      ]
     },
     "metadata": {},
     "output_type": "display_data"
    },
    {
     "name": "stdout",
     "output_type": "stream",
     "text": [
      "15\n",
      "female prob:  0.01852885851240311\n",
      "male prob:  0.01919214870518721\n"
     ]
    },
    {
     "data": {
      "application/vnd.jupyter.widget-view+json": {
       "model_id": "afd7fa72236c461ab5d11f5bb8122219",
       "version_major": 2,
       "version_minor": 0
      },
      "text/plain": [
       "  0%|          | 0/10 [00:00<?, ?it/s]"
      ]
     },
     "metadata": {},
     "output_type": "display_data"
    },
    {
     "name": "stdout",
     "output_type": "stream",
     "text": [
      "34\n",
      "female prob:  0.08293454322991956\n",
      "male prob:  0.25977384289986355\n"
     ]
    },
    {
     "data": {
      "application/vnd.jupyter.widget-view+json": {
       "model_id": "6f8040b2c7f1463797f5ebabf0c5839a",
       "version_major": 2,
       "version_minor": 0
      },
      "text/plain": [
       "  0%|          | 0/10 [00:00<?, ?it/s]"
      ]
     },
     "metadata": {},
     "output_type": "display_data"
    },
    {
     "name": "stdout",
     "output_type": "stream",
     "text": [
      "64\n",
      "female prob:  0.037992340157295176\n",
      "male prob:  0.047110757782371726\n"
     ]
    },
    {
     "data": {
      "application/vnd.jupyter.widget-view+json": {
       "model_id": "15fdb8fd0b914735bf06ce7575b852e7",
       "version_major": 2,
       "version_minor": 0
      },
      "text/plain": [
       "  0%|          | 0/10 [00:00<?, ?it/s]"
      ]
     },
     "metadata": {},
     "output_type": "display_data"
    },
    {
     "name": "stdout",
     "output_type": "stream",
     "text": [
      "27\n",
      "female prob:  0.01268066400362394\n",
      "male prob:  0.014351019089079941\n"
     ]
    },
    {
     "data": {
      "application/vnd.jupyter.widget-view+json": {
       "model_id": "54d8985ce654454fbed4286c025c35c9",
       "version_major": 2,
       "version_minor": 0
      },
      "text/plain": [
       "  0%|          | 0/10 [00:00<?, ?it/s]"
      ]
     },
     "metadata": {},
     "output_type": "display_data"
    },
    {
     "name": "stdout",
     "output_type": "stream",
     "text": [
      "31\n",
      "female prob:  0.03873314181145408\n",
      "male prob:  0.04254488238328921\n"
     ]
    },
    {
     "data": {
      "application/vnd.jupyter.widget-view+json": {
       "model_id": "e0107f801ee6469eb51f1212ca4537cf",
       "version_major": 2,
       "version_minor": 0
      },
      "text/plain": [
       "  0%|          | 0/10 [00:00<?, ?it/s]"
      ]
     },
     "metadata": {},
     "output_type": "display_data"
    },
    {
     "name": "stdout",
     "output_type": "stream",
     "text": [
      "25\n",
      "female prob:  0.0033495958351910226\n",
      "male prob:  0.004027962357780009\n"
     ]
    },
    {
     "data": {
      "application/vnd.jupyter.widget-view+json": {
       "model_id": "b36430fef3bb49469e6a60d387972baa",
       "version_major": 2,
       "version_minor": 0
      },
      "text/plain": [
       "  0%|          | 0/10 [00:00<?, ?it/s]"
      ]
     },
     "metadata": {},
     "output_type": "display_data"
    },
    {
     "name": "stdout",
     "output_type": "stream",
     "text": [
      "27\n",
      "female prob:  0.07834236438723576\n",
      "male prob:  0.057891710935797126\n"
     ]
    },
    {
     "data": {
      "application/vnd.jupyter.widget-view+json": {
       "model_id": "12bf952d671c4982b86e8700d4fc3609",
       "version_major": 2,
       "version_minor": 0
      },
      "text/plain": [
       "  0%|          | 0/10 [00:00<?, ?it/s]"
      ]
     },
     "metadata": {},
     "output_type": "display_data"
    },
    {
     "name": "stdout",
     "output_type": "stream",
     "text": [
      "13\n",
      "female prob:  0.0024383221148074753\n",
      "male prob:  0.004642107243937784\n"
     ]
    },
    {
     "data": {
      "application/vnd.jupyter.widget-view+json": {
       "model_id": "870d61529bea432cbe51393e89e075c5",
       "version_major": 2,
       "version_minor": 0
      },
      "text/plain": [
       "  0%|          | 0/10 [00:00<?, ?it/s]"
      ]
     },
     "metadata": {},
     "output_type": "display_data"
    },
    {
     "name": "stdout",
     "output_type": "stream",
     "text": [
      "0\n",
      "female prob:  0\n",
      "male prob:  0\n"
     ]
    },
    {
     "data": {
      "application/vnd.jupyter.widget-view+json": {
       "model_id": "e42702e2c4064f6fb67d9696e88a22e4",
       "version_major": 2,
       "version_minor": 0
      },
      "text/plain": [
       "  0%|          | 0/10 [00:00<?, ?it/s]"
      ]
     },
     "metadata": {},
     "output_type": "display_data"
    },
    {
     "name": "stdout",
     "output_type": "stream",
     "text": [
      "57\n",
      "female prob:  0.07692016042712334\n",
      "male prob:  0.09780618372859218\n"
     ]
    },
    {
     "data": {
      "application/vnd.jupyter.widget-view+json": {
       "model_id": "325d834997994c1985b1e229cf2ac165",
       "version_major": 2,
       "version_minor": 0
      },
      "text/plain": [
       "  0%|          | 0/10 [00:00<?, ?it/s]"
      ]
     },
     "metadata": {},
     "output_type": "display_data"
    },
    {
     "name": "stdout",
     "output_type": "stream",
     "text": [
      "16\n",
      "female prob:  0.0017133304718772522\n",
      "male prob:  0.000195618030018048\n"
     ]
    },
    {
     "data": {
      "application/vnd.jupyter.widget-view+json": {
       "model_id": "8042623fb63a4ec6913720d9a2069d82",
       "version_major": 2,
       "version_minor": 0
      },
      "text/plain": [
       "  0%|          | 0/10 [00:00<?, ?it/s]"
      ]
     },
     "metadata": {},
     "output_type": "display_data"
    },
    {
     "name": "stdout",
     "output_type": "stream",
     "text": [
      "66\n",
      "female prob:  0.007312963740767314\n",
      "male prob:  0.0034221067821730857\n"
     ]
    },
    {
     "data": {
      "application/vnd.jupyter.widget-view+json": {
       "model_id": "57b8cf2209c049f584eb429e272eb583",
       "version_major": 2,
       "version_minor": 0
      },
      "text/plain": [
       "  0%|          | 0/10 [00:00<?, ?it/s]"
      ]
     },
     "metadata": {},
     "output_type": "display_data"
    },
    {
     "name": "stdout",
     "output_type": "stream",
     "text": [
      "65\n",
      "female prob:  0.03267170325015312\n",
      "male prob:  0.062322739614233166\n"
     ]
    },
    {
     "data": {
      "application/vnd.jupyter.widget-view+json": {
       "model_id": "60081574cfc14e4b93a1311d67f91c2e",
       "version_major": 2,
       "version_minor": 0
      },
      "text/plain": [
       "  0%|          | 0/10 [00:00<?, ?it/s]"
      ]
     },
     "metadata": {},
     "output_type": "display_data"
    },
    {
     "name": "stdout",
     "output_type": "stream",
     "text": [
      "14\n",
      "female prob:  0.3891645110958008\n",
      "male prob:  0.35715076912863325\n"
     ]
    },
    {
     "data": {
      "application/vnd.jupyter.widget-view+json": {
       "model_id": "1b706f05005c4c84af9001ee71dd58e4",
       "version_major": 2,
       "version_minor": 0
      },
      "text/plain": [
       "  0%|          | 0/10 [00:00<?, ?it/s]"
      ]
     },
     "metadata": {},
     "output_type": "display_data"
    },
    {
     "name": "stdout",
     "output_type": "stream",
     "text": [
      "29\n",
      "female prob:  0.016681325218130004\n",
      "male prob:  0.004259257323415363\n"
     ]
    },
    {
     "data": {
      "application/vnd.jupyter.widget-view+json": {
       "model_id": "6cfd36b9109e48a6a765c0ad3a816969",
       "version_major": 2,
       "version_minor": 0
      },
      "text/plain": [
       "  0%|          | 0/10 [00:00<?, ?it/s]"
      ]
     },
     "metadata": {},
     "output_type": "display_data"
    },
    {
     "name": "stdout",
     "output_type": "stream",
     "text": [
      "48\n",
      "female prob:  0.00917712242305247\n",
      "male prob:  0.04556702187934298\n"
     ]
    },
    {
     "data": {
      "application/vnd.jupyter.widget-view+json": {
       "model_id": "ad49a4e0710e4877b7302b6a3ae6f740",
       "version_major": 2,
       "version_minor": 0
      },
      "text/plain": [
       "  0%|          | 0/10 [00:00<?, ?it/s]"
      ]
     },
     "metadata": {},
     "output_type": "display_data"
    },
    {
     "name": "stdout",
     "output_type": "stream",
     "text": [
      "8\n",
      "female prob:  0.00036682808066782337\n",
      "male prob:  5.8318854398232346e-05\n"
     ]
    },
    {
     "data": {
      "application/vnd.jupyter.widget-view+json": {
       "model_id": "aec7d05a7bdc452f90dd9e49e2ebb245",
       "version_major": 2,
       "version_minor": 0
      },
      "text/plain": [
       "  0%|          | 0/10 [00:00<?, ?it/s]"
      ]
     },
     "metadata": {},
     "output_type": "display_data"
    },
    {
     "name": "stdout",
     "output_type": "stream",
     "text": [
      "51\n",
      "female prob:  0.03234789483177268\n",
      "male prob:  0.03593297852432856\n"
     ]
    },
    {
     "data": {
      "application/vnd.jupyter.widget-view+json": {
       "model_id": "33d57e2cdd784deeab66abd8af61aa2b",
       "version_major": 2,
       "version_minor": 0
      },
      "text/plain": [
       "  0%|          | 0/10 [00:00<?, ?it/s]"
      ]
     },
     "metadata": {},
     "output_type": "display_data"
    },
    {
     "name": "stdout",
     "output_type": "stream",
     "text": [
      "36\n",
      "female prob:  0.014982817118372328\n",
      "male prob:  0.02694439150667283\n"
     ]
    },
    {
     "data": {
      "application/vnd.jupyter.widget-view+json": {
       "model_id": "a6bb55f8d459454e8491bb0579f3337a",
       "version_major": 2,
       "version_minor": 0
      },
      "text/plain": [
       "  0%|          | 0/10 [00:00<?, ?it/s]"
      ]
     },
     "metadata": {},
     "output_type": "display_data"
    },
    {
     "name": "stdout",
     "output_type": "stream",
     "text": [
      "28\n",
      "female prob:  0.12753632202665244\n",
      "male prob:  0.09616525376383116\n"
     ]
    },
    {
     "data": {
      "application/vnd.jupyter.widget-view+json": {
       "model_id": "a1a9a55777e74ea3abc39f7f6feb08a4",
       "version_major": 2,
       "version_minor": 0
      },
      "text/plain": [
       "  0%|          | 0/10 [00:00<?, ?it/s]"
      ]
     },
     "metadata": {},
     "output_type": "display_data"
    },
    {
     "name": "stdout",
     "output_type": "stream",
     "text": [
      "32\n",
      "female prob:  0.0008075302666290811\n",
      "male prob:  0.0031399916703882405\n"
     ]
    },
    {
     "data": {
      "application/vnd.jupyter.widget-view+json": {
       "model_id": "c4a4639c65564b90a8674e39eb767e83",
       "version_major": 2,
       "version_minor": 0
      },
      "text/plain": [
       "  0%|          | 0/10 [00:00<?, ?it/s]"
      ]
     },
     "metadata": {},
     "output_type": "display_data"
    },
    {
     "name": "stdout",
     "output_type": "stream",
     "text": [
      "5\n",
      "female prob:  7.34026928021615e-05\n",
      "male prob:  0.00013113779247644135\n"
     ]
    },
    {
     "data": {
      "application/vnd.jupyter.widget-view+json": {
       "model_id": "e068cb0ef2b84dfd921db9ac011766a6",
       "version_major": 2,
       "version_minor": 0
      },
      "text/plain": [
       "  0%|          | 0/10 [00:00<?, ?it/s]"
      ]
     },
     "metadata": {},
     "output_type": "display_data"
    },
    {
     "name": "stdout",
     "output_type": "stream",
     "text": [
      "51\n",
      "female prob:  0.07666144137608101\n",
      "male prob:  0.09822482827764796\n"
     ]
    },
    {
     "data": {
      "application/vnd.jupyter.widget-view+json": {
       "model_id": "fbc03d68e51749f593cff83977848210",
       "version_major": 2,
       "version_minor": 0
      },
      "text/plain": [
       "  0%|          | 0/10 [00:00<?, ?it/s]"
      ]
     },
     "metadata": {},
     "output_type": "display_data"
    },
    {
     "name": "stdout",
     "output_type": "stream",
     "text": [
      "34\n",
      "female prob:  0.1701456777395961\n",
      "male prob:  0.33169489567973126\n"
     ]
    },
    {
     "data": {
      "application/vnd.jupyter.widget-view+json": {
       "model_id": "13efd504398a45139bcc7f4ac0c43845",
       "version_major": 2,
       "version_minor": 0
      },
      "text/plain": [
       "  0%|          | 0/10 [00:00<?, ?it/s]"
      ]
     },
     "metadata": {},
     "output_type": "display_data"
    },
    {
     "name": "stdout",
     "output_type": "stream",
     "text": [
      "55\n",
      "female prob:  0.07956963236990529\n",
      "male prob:  0.050398729262926864\n"
     ]
    },
    {
     "data": {
      "application/vnd.jupyter.widget-view+json": {
       "model_id": "93e8e0da26da41b2b9155be82af6f552",
       "version_major": 2,
       "version_minor": 0
      },
      "text/plain": [
       "  0%|          | 0/27 [00:00<?, ?it/s]"
      ]
     },
     "metadata": {},
     "output_type": "display_data"
    },
    {
     "data": {
      "application/vnd.jupyter.widget-view+json": {
       "model_id": "843eb8d02d134f9782e8a889332067b4",
       "version_major": 2,
       "version_minor": 0
      },
      "text/plain": [
       "  0%|          | 0/10 [00:00<?, ?it/s]"
      ]
     },
     "metadata": {},
     "output_type": "display_data"
    },
    {
     "name": "stdout",
     "output_type": "stream",
     "text": [
      "69\n",
      "female prob:  0.08156350610531204\n",
      "male prob:  0.07214189033967904\n"
     ]
    },
    {
     "data": {
      "application/vnd.jupyter.widget-view+json": {
       "model_id": "2e9061e125094653ac4db200c65ae61b",
       "version_major": 2,
       "version_minor": 0
      },
      "text/plain": [
       "  0%|          | 0/10 [00:00<?, ?it/s]"
      ]
     },
     "metadata": {},
     "output_type": "display_data"
    },
    {
     "name": "stdout",
     "output_type": "stream",
     "text": [
      "64\n",
      "female prob:  0.054870695339997604\n",
      "male prob:  0.10646421018410665\n"
     ]
    },
    {
     "data": {
      "application/vnd.jupyter.widget-view+json": {
       "model_id": "ba3841a08f6948fd822dd5023ed3bb19",
       "version_major": 2,
       "version_minor": 0
      },
      "text/plain": [
       "  0%|          | 0/10 [00:00<?, ?it/s]"
      ]
     },
     "metadata": {},
     "output_type": "display_data"
    },
    {
     "name": "stdout",
     "output_type": "stream",
     "text": [
      "45\n",
      "female prob:  0.027874403165511902\n",
      "male prob:  0.04538517884928912\n"
     ]
    },
    {
     "data": {
      "application/vnd.jupyter.widget-view+json": {
       "model_id": "811693300d5f4316a4118358cf8c8001",
       "version_major": 2,
       "version_minor": 0
      },
      "text/plain": [
       "  0%|          | 0/10 [00:00<?, ?it/s]"
      ]
     },
     "metadata": {},
     "output_type": "display_data"
    },
    {
     "name": "stdout",
     "output_type": "stream",
     "text": [
      "29\n",
      "female prob:  0.129119246101663\n",
      "male prob:  0.2350332927683365\n"
     ]
    },
    {
     "data": {
      "application/vnd.jupyter.widget-view+json": {
       "model_id": "06ccc7238c4042d29ade708b7653315e",
       "version_major": 2,
       "version_minor": 0
      },
      "text/plain": [
       "  0%|          | 0/10 [00:00<?, ?it/s]"
      ]
     },
     "metadata": {},
     "output_type": "display_data"
    },
    {
     "name": "stdout",
     "output_type": "stream",
     "text": [
      "48\n",
      "female prob:  0.013464576622112633\n",
      "male prob:  0.04186259674236483\n"
     ]
    },
    {
     "data": {
      "application/vnd.jupyter.widget-view+json": {
       "model_id": "3abc8d97461f422fb34ab38663284dff",
       "version_major": 2,
       "version_minor": 0
      },
      "text/plain": [
       "  0%|          | 0/10 [00:00<?, ?it/s]"
      ]
     },
     "metadata": {},
     "output_type": "display_data"
    },
    {
     "name": "stdout",
     "output_type": "stream",
     "text": [
      "42\n",
      "female prob:  0.03162189471784241\n",
      "male prob:  0.027012346847657673\n"
     ]
    },
    {
     "data": {
      "application/vnd.jupyter.widget-view+json": {
       "model_id": "f9fa682be4b9435dbb9e2c959f4ef454",
       "version_major": 2,
       "version_minor": 0
      },
      "text/plain": [
       "  0%|          | 0/10 [00:00<?, ?it/s]"
      ]
     },
     "metadata": {},
     "output_type": "display_data"
    },
    {
     "name": "stdout",
     "output_type": "stream",
     "text": [
      "29\n",
      "female prob:  0.027945278027889715\n",
      "male prob:  0.0353651721306624\n"
     ]
    },
    {
     "data": {
      "application/vnd.jupyter.widget-view+json": {
       "model_id": "8b141c3a4a8941a8be97adf367167207",
       "version_major": 2,
       "version_minor": 0
      },
      "text/plain": [
       "  0%|          | 0/10 [00:00<?, ?it/s]"
      ]
     },
     "metadata": {},
     "output_type": "display_data"
    },
    {
     "name": "stdout",
     "output_type": "stream",
     "text": [
      "52\n",
      "female prob:  0.0069496724287832125\n",
      "male prob:  0.010955322028695685\n"
     ]
    },
    {
     "data": {
      "application/vnd.jupyter.widget-view+json": {
       "model_id": "cd5bdced686348558967e864f9ba0919",
       "version_major": 2,
       "version_minor": 0
      },
      "text/plain": [
       "  0%|          | 0/10 [00:00<?, ?it/s]"
      ]
     },
     "metadata": {},
     "output_type": "display_data"
    },
    {
     "name": "stdout",
     "output_type": "stream",
     "text": [
      "27\n",
      "female prob:  0.07474864178083739\n",
      "male prob:  0.053712893791730255\n"
     ]
    },
    {
     "data": {
      "application/vnd.jupyter.widget-view+json": {
       "model_id": "1b568983f0b14880af9dc013e5282b7a",
       "version_major": 2,
       "version_minor": 0
      },
      "text/plain": [
       "  0%|          | 0/10 [00:00<?, ?it/s]"
      ]
     },
     "metadata": {},
     "output_type": "display_data"
    },
    {
     "name": "stdout",
     "output_type": "stream",
     "text": [
      "19\n",
      "female prob:  0.009486859273643842\n",
      "male prob:  0.0011118936201007595\n"
     ]
    },
    {
     "data": {
      "application/vnd.jupyter.widget-view+json": {
       "model_id": "70f586e3415c41a9917e1759284a5711",
       "version_major": 2,
       "version_minor": 0
      },
      "text/plain": [
       "  0%|          | 0/10 [00:00<?, ?it/s]"
      ]
     },
     "metadata": {},
     "output_type": "display_data"
    },
    {
     "name": "stdout",
     "output_type": "stream",
     "text": [
      "59\n",
      "female prob:  0.024839219727305455\n",
      "male prob:  0.059109238732906064\n"
     ]
    },
    {
     "data": {
      "application/vnd.jupyter.widget-view+json": {
       "model_id": "db58bbb524a9445d89a1c3bfeda022c3",
       "version_major": 2,
       "version_minor": 0
      },
      "text/plain": [
       "  0%|          | 0/10 [00:00<?, ?it/s]"
      ]
     },
     "metadata": {},
     "output_type": "display_data"
    },
    {
     "name": "stdout",
     "output_type": "stream",
     "text": [
      "66\n",
      "female prob:  0.08754324358543253\n",
      "male prob:  0.12337122015581936\n"
     ]
    },
    {
     "data": {
      "application/vnd.jupyter.widget-view+json": {
       "model_id": "739b62f510a543aabc3e5f9725b08a8d",
       "version_major": 2,
       "version_minor": 0
      },
      "text/plain": [
       "  0%|          | 0/10 [00:00<?, ?it/s]"
      ]
     },
     "metadata": {},
     "output_type": "display_data"
    },
    {
     "name": "stdout",
     "output_type": "stream",
     "text": [
      "38\n",
      "female prob:  0.03725758171865637\n",
      "male prob:  0.04247716893531043\n"
     ]
    },
    {
     "data": {
      "application/vnd.jupyter.widget-view+json": {
       "model_id": "e19c442b623a44d3a3d10c4e2a4344e6",
       "version_major": 2,
       "version_minor": 0
      },
      "text/plain": [
       "  0%|          | 0/10 [00:00<?, ?it/s]"
      ]
     },
     "metadata": {},
     "output_type": "display_data"
    },
    {
     "name": "stdout",
     "output_type": "stream",
     "text": [
      "56\n",
      "female prob:  0.008116060944531628\n",
      "male prob:  0.0032181504449607886\n"
     ]
    },
    {
     "data": {
      "application/vnd.jupyter.widget-view+json": {
       "model_id": "b267c5a176f94d62a42bec402f6a3bf3",
       "version_major": 2,
       "version_minor": 0
      },
      "text/plain": [
       "  0%|          | 0/10 [00:00<?, ?it/s]"
      ]
     },
     "metadata": {},
     "output_type": "display_data"
    },
    {
     "name": "stdout",
     "output_type": "stream",
     "text": [
      "54\n",
      "female prob:  0.05180641781976459\n",
      "male prob:  0.08585364991986796\n"
     ]
    },
    {
     "data": {
      "application/vnd.jupyter.widget-view+json": {
       "model_id": "086054acd79f425ab228d244f289ee9e",
       "version_major": 2,
       "version_minor": 0
      },
      "text/plain": [
       "  0%|          | 0/10 [00:00<?, ?it/s]"
      ]
     },
     "metadata": {},
     "output_type": "display_data"
    },
    {
     "name": "stdout",
     "output_type": "stream",
     "text": [
      "9\n",
      "female prob:  0.33915643219790764\n",
      "male prob:  0.35762521734518277\n"
     ]
    },
    {
     "data": {
      "application/vnd.jupyter.widget-view+json": {
       "model_id": "2267ed350aec4f65966bb494ee6f3557",
       "version_major": 2,
       "version_minor": 0
      },
      "text/plain": [
       "  0%|          | 0/10 [00:00<?, ?it/s]"
      ]
     },
     "metadata": {},
     "output_type": "display_data"
    },
    {
     "name": "stdout",
     "output_type": "stream",
     "text": [
      "66\n",
      "female prob:  0.03047680319526426\n",
      "male prob:  0.0012575788910140326\n"
     ]
    },
    {
     "data": {
      "application/vnd.jupyter.widget-view+json": {
       "model_id": "0c17442921f343dd863cbe39470c45ab",
       "version_major": 2,
       "version_minor": 0
      },
      "text/plain": [
       "  0%|          | 0/10 [00:00<?, ?it/s]"
      ]
     },
     "metadata": {},
     "output_type": "display_data"
    },
    {
     "name": "stdout",
     "output_type": "stream",
     "text": [
      "60\n",
      "female prob:  0.03555211175781456\n",
      "male prob:  0.06985407781541816\n"
     ]
    },
    {
     "data": {
      "application/vnd.jupyter.widget-view+json": {
       "model_id": "11e5c6ca419f452b865b4e5b6d72644a",
       "version_major": 2,
       "version_minor": 0
      },
      "text/plain": [
       "  0%|          | 0/10 [00:00<?, ?it/s]"
      ]
     },
     "metadata": {},
     "output_type": "display_data"
    },
    {
     "name": "stdout",
     "output_type": "stream",
     "text": [
      "53\n",
      "female prob:  0.003728758465519181\n",
      "male prob:  0.018884032976980533\n"
     ]
    },
    {
     "data": {
      "application/vnd.jupyter.widget-view+json": {
       "model_id": "f4d78464c35541a686721ad09f9b6a65",
       "version_major": 2,
       "version_minor": 0
      },
      "text/plain": [
       "  0%|          | 0/10 [00:00<?, ?it/s]"
      ]
     },
     "metadata": {},
     "output_type": "display_data"
    },
    {
     "name": "stdout",
     "output_type": "stream",
     "text": [
      "57\n",
      "female prob:  0.058084943475899035\n",
      "male prob:  0.04907706783527088\n"
     ]
    },
    {
     "data": {
      "application/vnd.jupyter.widget-view+json": {
       "model_id": "2e7d8110abfd4fdabc679d6f1cfe8488",
       "version_major": 2,
       "version_minor": 0
      },
      "text/plain": [
       "  0%|          | 0/10 [00:00<?, ?it/s]"
      ]
     },
     "metadata": {},
     "output_type": "display_data"
    },
    {
     "name": "stdout",
     "output_type": "stream",
     "text": [
      "38\n",
      "female prob:  0.03103467007459568\n",
      "male prob:  0.05339437159781593\n"
     ]
    },
    {
     "data": {
      "application/vnd.jupyter.widget-view+json": {
       "model_id": "dc699992cf774bd58fa704d2c9729da0",
       "version_major": 2,
       "version_minor": 0
      },
      "text/plain": [
       "  0%|          | 0/10 [00:00<?, ?it/s]"
      ]
     },
     "metadata": {},
     "output_type": "display_data"
    },
    {
     "name": "stdout",
     "output_type": "stream",
     "text": [
      "27\n",
      "female prob:  0.15022318807300966\n",
      "male prob:  0.08555657204945871\n"
     ]
    },
    {
     "data": {
      "application/vnd.jupyter.widget-view+json": {
       "model_id": "7a49dc63bbd84f36a67a95391462dbde",
       "version_major": 2,
       "version_minor": 0
      },
      "text/plain": [
       "  0%|          | 0/10 [00:00<?, ?it/s]"
      ]
     },
     "metadata": {},
     "output_type": "display_data"
    },
    {
     "name": "stdout",
     "output_type": "stream",
     "text": [
      "28\n",
      "female prob:  0.003486313044209273\n",
      "male prob:  0.00599743604610146\n"
     ]
    },
    {
     "data": {
      "application/vnd.jupyter.widget-view+json": {
       "model_id": "14961e548981419498f30829591492ac",
       "version_major": 2,
       "version_minor": 0
      },
      "text/plain": [
       "  0%|          | 0/10 [00:00<?, ?it/s]"
      ]
     },
     "metadata": {},
     "output_type": "display_data"
    },
    {
     "name": "stdout",
     "output_type": "stream",
     "text": [
      "47\n",
      "female prob:  0.024903672480115224\n",
      "male prob:  0.05735605685075103\n"
     ]
    },
    {
     "data": {
      "application/vnd.jupyter.widget-view+json": {
       "model_id": "ceb2cb5d5cd44d94a053cc1e5db0c09f",
       "version_major": 2,
       "version_minor": 0
      },
      "text/plain": [
       "  0%|          | 0/10 [00:00<?, ?it/s]"
      ]
     },
     "metadata": {},
     "output_type": "display_data"
    },
    {
     "name": "stdout",
     "output_type": "stream",
     "text": [
      "43\n",
      "female prob:  0.0434824501661493\n",
      "male prob:  0.05748604984345707\n"
     ]
    },
    {
     "data": {
      "application/vnd.jupyter.widget-view+json": {
       "model_id": "c05556f8d005458a9ec688c507615372",
       "version_major": 2,
       "version_minor": 0
      },
      "text/plain": [
       "  0%|          | 0/10 [00:00<?, ?it/s]"
      ]
     },
     "metadata": {},
     "output_type": "display_data"
    },
    {
     "name": "stdout",
     "output_type": "stream",
     "text": [
      "34\n",
      "female prob:  0.18628907699420144\n",
      "male prob:  0.4108922890141136\n"
     ]
    },
    {
     "data": {
      "application/vnd.jupyter.widget-view+json": {
       "model_id": "0481e87b2e3641a0a3606690b726a63e",
       "version_major": 2,
       "version_minor": 0
      },
      "text/plain": [
       "  0%|          | 0/10 [00:00<?, ?it/s]"
      ]
     },
     "metadata": {},
     "output_type": "display_data"
    },
    {
     "name": "stdout",
     "output_type": "stream",
     "text": [
      "67\n",
      "female prob:  0.09861704266274775\n",
      "male prob:  0.045099902223087254\n"
     ]
    },
    {
     "data": {
      "application/vnd.jupyter.widget-view+json": {
       "model_id": "02b8dc5456194f8aad0cb9e6c48c0784",
       "version_major": 2,
       "version_minor": 0
      },
      "text/plain": [
       "  0%|          | 0/27 [00:00<?, ?it/s]"
      ]
     },
     "metadata": {},
     "output_type": "display_data"
    },
    {
     "data": {
      "application/vnd.jupyter.widget-view+json": {
       "model_id": "b4b762c64e614c87bc8f0b0103f4c1d0",
       "version_major": 2,
       "version_minor": 0
      },
      "text/plain": [
       "  0%|          | 0/10 [00:00<?, ?it/s]"
      ]
     },
     "metadata": {},
     "output_type": "display_data"
    },
    {
     "name": "stdout",
     "output_type": "stream",
     "text": [
      "89\n",
      "female prob:  0.08916760645410672\n",
      "male prob:  0.11795450729682633\n"
     ]
    },
    {
     "data": {
      "application/vnd.jupyter.widget-view+json": {
       "model_id": "9a6a20187d6942018691ad27eb5889ec",
       "version_major": 2,
       "version_minor": 0
      },
      "text/plain": [
       "  0%|          | 0/10 [00:00<?, ?it/s]"
      ]
     },
     "metadata": {},
     "output_type": "display_data"
    },
    {
     "name": "stdout",
     "output_type": "stream",
     "text": [
      "73\n",
      "female prob:  0.0884693053586933\n",
      "male prob:  0.21434699315008973\n"
     ]
    },
    {
     "data": {
      "application/vnd.jupyter.widget-view+json": {
       "model_id": "2030f41c91c94f088c678a31f3ed6590",
       "version_major": 2,
       "version_minor": 0
      },
      "text/plain": [
       "  0%|          | 0/10 [00:00<?, ?it/s]"
      ]
     },
     "metadata": {},
     "output_type": "display_data"
    },
    {
     "name": "stdout",
     "output_type": "stream",
     "text": [
      "47\n",
      "female prob:  0.06658022823184682\n",
      "male prob:  0.07821018210170183\n"
     ]
    },
    {
     "data": {
      "application/vnd.jupyter.widget-view+json": {
       "model_id": "947f138186814080a0395f8312d4991c",
       "version_major": 2,
       "version_minor": 0
      },
      "text/plain": [
       "  0%|          | 0/10 [00:00<?, ?it/s]"
      ]
     },
     "metadata": {},
     "output_type": "display_data"
    },
    {
     "name": "stdout",
     "output_type": "stream",
     "text": [
      "64\n",
      "female prob:  0.16635655003646882\n",
      "male prob:  0.32001787159736744\n"
     ]
    },
    {
     "data": {
      "application/vnd.jupyter.widget-view+json": {
       "model_id": "c0377e9d88484878b4938958de290099",
       "version_major": 2,
       "version_minor": 0
      },
      "text/plain": [
       "  0%|          | 0/10 [00:00<?, ?it/s]"
      ]
     },
     "metadata": {},
     "output_type": "display_data"
    },
    {
     "name": "stdout",
     "output_type": "stream",
     "text": [
      "81\n",
      "female prob:  0.03570631623600915\n",
      "male prob:  0.06989388688370353\n"
     ]
    },
    {
     "data": {
      "application/vnd.jupyter.widget-view+json": {
       "model_id": "8590c65b8b704905931d06fc6486da77",
       "version_major": 2,
       "version_minor": 0
      },
      "text/plain": [
       "  0%|          | 0/10 [00:00<?, ?it/s]"
      ]
     },
     "metadata": {},
     "output_type": "display_data"
    },
    {
     "name": "stdout",
     "output_type": "stream",
     "text": [
      "35\n",
      "female prob:  0.038182141292199455\n",
      "male prob:  0.048399110083424374\n"
     ]
    },
    {
     "data": {
      "application/vnd.jupyter.widget-view+json": {
       "model_id": "fb5f9a0362a4457eb0d5dc13c0879213",
       "version_major": 2,
       "version_minor": 0
      },
      "text/plain": [
       "  0%|          | 0/10 [00:00<?, ?it/s]"
      ]
     },
     "metadata": {},
     "output_type": "display_data"
    },
    {
     "name": "stdout",
     "output_type": "stream",
     "text": [
      "48\n",
      "female prob:  0.038465293423105784\n",
      "male prob:  0.04069656902474233\n"
     ]
    },
    {
     "data": {
      "application/vnd.jupyter.widget-view+json": {
       "model_id": "17852942ffd94f32abae0fe71f0fe83b",
       "version_major": 2,
       "version_minor": 0
      },
      "text/plain": [
       "  0%|          | 0/10 [00:00<?, ?it/s]"
      ]
     },
     "metadata": {},
     "output_type": "display_data"
    },
    {
     "name": "stdout",
     "output_type": "stream",
     "text": [
      "69\n",
      "female prob:  0.004542036552021472\n",
      "male prob:  0.007641898063295137\n"
     ]
    },
    {
     "data": {
      "application/vnd.jupyter.widget-view+json": {
       "model_id": "d4300cb6f8004947bf8a912f2966d3ce",
       "version_major": 2,
       "version_minor": 0
      },
      "text/plain": [
       "  0%|          | 0/10 [00:00<?, ?it/s]"
      ]
     },
     "metadata": {},
     "output_type": "display_data"
    },
    {
     "name": "stdout",
     "output_type": "stream",
     "text": [
      "45\n",
      "female prob:  0.09080084801020619\n",
      "male prob:  0.08291418559844298\n"
     ]
    },
    {
     "data": {
      "application/vnd.jupyter.widget-view+json": {
       "model_id": "ea8516047e9744ea99e7a96250ee1782",
       "version_major": 2,
       "version_minor": 0
      },
      "text/plain": [
       "  0%|          | 0/10 [00:00<?, ?it/s]"
      ]
     },
     "metadata": {},
     "output_type": "display_data"
    },
    {
     "name": "stdout",
     "output_type": "stream",
     "text": [
      "23\n",
      "female prob:  5.981194489837092e-05\n",
      "male prob:  0.0026130925891998807\n"
     ]
    },
    {
     "data": {
      "application/vnd.jupyter.widget-view+json": {
       "model_id": "f27fb23a8e7b4d7c9b5e007415dd4fcf",
       "version_major": 2,
       "version_minor": 0
      },
      "text/plain": [
       "  0%|          | 0/10 [00:00<?, ?it/s]"
      ]
     },
     "metadata": {},
     "output_type": "display_data"
    },
    {
     "name": "stdout",
     "output_type": "stream",
     "text": [
      "56\n",
      "female prob:  0.035109531786494216\n",
      "male prob:  0.05523950902347014\n"
     ]
    },
    {
     "data": {
      "application/vnd.jupyter.widget-view+json": {
       "model_id": "f38f7e010c0a42908256bb0354582c9d",
       "version_major": 2,
       "version_minor": 0
      },
      "text/plain": [
       "  0%|          | 0/10 [00:00<?, ?it/s]"
      ]
     },
     "metadata": {},
     "output_type": "display_data"
    },
    {
     "name": "stdout",
     "output_type": "stream",
     "text": [
      "79\n",
      "female prob:  0.12299631161617357\n",
      "male prob:  0.1980917658694003\n"
     ]
    },
    {
     "data": {
      "application/vnd.jupyter.widget-view+json": {
       "model_id": "a5f34cbd71ec4175950ec7c0090c8c22",
       "version_major": 2,
       "version_minor": 0
      },
      "text/plain": [
       "  0%|          | 0/10 [00:00<?, ?it/s]"
      ]
     },
     "metadata": {},
     "output_type": "display_data"
    },
    {
     "name": "stdout",
     "output_type": "stream",
     "text": [
      "34\n",
      "female prob:  0.0563557292475601\n",
      "male prob:  0.09523620283024617\n"
     ]
    },
    {
     "data": {
      "application/vnd.jupyter.widget-view+json": {
       "model_id": "fbd29ef3c51f482a980a9dad57257231",
       "version_major": 2,
       "version_minor": 0
      },
      "text/plain": [
       "  0%|          | 0/10 [00:00<?, ?it/s]"
      ]
     },
     "metadata": {},
     "output_type": "display_data"
    },
    {
     "name": "stdout",
     "output_type": "stream",
     "text": [
      "52\n",
      "female prob:  0.01199160576500293\n",
      "male prob:  0.007097351216701077\n"
     ]
    },
    {
     "data": {
      "application/vnd.jupyter.widget-view+json": {
       "model_id": "c85aecf89ad544949bbc851f1e0d958f",
       "version_major": 2,
       "version_minor": 0
      },
      "text/plain": [
       "  0%|          | 0/10 [00:00<?, ?it/s]"
      ]
     },
     "metadata": {},
     "output_type": "display_data"
    },
    {
     "name": "stdout",
     "output_type": "stream",
     "text": [
      "68\n",
      "female prob:  0.052302768861838815\n",
      "male prob:  0.08883479149035513\n"
     ]
    },
    {
     "data": {
      "application/vnd.jupyter.widget-view+json": {
       "model_id": "05a6bccfb0f349f681649fa15013aa5b",
       "version_major": 2,
       "version_minor": 0
      },
      "text/plain": [
       "  0%|          | 0/10 [00:00<?, ?it/s]"
      ]
     },
     "metadata": {},
     "output_type": "display_data"
    },
    {
     "name": "stdout",
     "output_type": "stream",
     "text": [
      "46\n",
      "female prob:  0.28332279306733904\n",
      "male prob:  0.3311543130535169\n"
     ]
    },
    {
     "data": {
      "application/vnd.jupyter.widget-view+json": {
       "model_id": "355fb83a02f444f28e998e9ab8558529",
       "version_major": 2,
       "version_minor": 0
      },
      "text/plain": [
       "  0%|          | 0/10 [00:00<?, ?it/s]"
      ]
     },
     "metadata": {},
     "output_type": "display_data"
    },
    {
     "name": "stdout",
     "output_type": "stream",
     "text": [
      "59\n",
      "female prob:  0.023736344536266756\n",
      "male prob:  0.007319712903954758\n"
     ]
    },
    {
     "data": {
      "application/vnd.jupyter.widget-view+json": {
       "model_id": "77ab9f7afa1749198d9ae781ab2f4d90",
       "version_major": 2,
       "version_minor": 0
      },
      "text/plain": [
       "  0%|          | 0/10 [00:00<?, ?it/s]"
      ]
     },
     "metadata": {},
     "output_type": "display_data"
    },
    {
     "name": "stdout",
     "output_type": "stream",
     "text": [
      "106\n",
      "female prob:  0.09743924988748519\n",
      "male prob:  0.2605223628921405\n"
     ]
    },
    {
     "data": {
      "application/vnd.jupyter.widget-view+json": {
       "model_id": "1f46e47d297944948e0778793cae1b8e",
       "version_major": 2,
       "version_minor": 0
      },
      "text/plain": [
       "  0%|          | 0/10 [00:00<?, ?it/s]"
      ]
     },
     "metadata": {},
     "output_type": "display_data"
    },
    {
     "name": "stdout",
     "output_type": "stream",
     "text": [
      "52\n",
      "female prob:  0.04420614636549058\n",
      "male prob:  0.13165289135969926\n"
     ]
    },
    {
     "data": {
      "application/vnd.jupyter.widget-view+json": {
       "model_id": "b042570d3e3644db8c83109f753df0fd",
       "version_major": 2,
       "version_minor": 0
      },
      "text/plain": [
       "  0%|          | 0/10 [00:00<?, ?it/s]"
      ]
     },
     "metadata": {},
     "output_type": "display_data"
    },
    {
     "name": "stdout",
     "output_type": "stream",
     "text": [
      "62\n",
      "female prob:  0.07061528866904777\n",
      "male prob:  0.08578740035942628\n"
     ]
    },
    {
     "data": {
      "application/vnd.jupyter.widget-view+json": {
       "model_id": "aa0717f17b80470a9f3993ea7c727d39",
       "version_major": 2,
       "version_minor": 0
      },
      "text/plain": [
       "  0%|          | 0/10 [00:00<?, ?it/s]"
      ]
     },
     "metadata": {},
     "output_type": "display_data"
    },
    {
     "name": "stdout",
     "output_type": "stream",
     "text": [
      "43\n",
      "female prob:  0.07089611220040393\n",
      "male prob:  0.07536041730609316\n"
     ]
    },
    {
     "data": {
      "application/vnd.jupyter.widget-view+json": {
       "model_id": "2355b5edbabd481584472366386b0ab7",
       "version_major": 2,
       "version_minor": 0
      },
      "text/plain": [
       "  0%|          | 0/10 [00:00<?, ?it/s]"
      ]
     },
     "metadata": {},
     "output_type": "display_data"
    },
    {
     "name": "stdout",
     "output_type": "stream",
     "text": [
      "42\n",
      "female prob:  0.1547936901307117\n",
      "male prob:  0.17076044247177555\n"
     ]
    },
    {
     "data": {
      "application/vnd.jupyter.widget-view+json": {
       "model_id": "4c063d26272948cda3671c12dbe625bc",
       "version_major": 2,
       "version_minor": 0
      },
      "text/plain": [
       "  0%|          | 0/10 [00:00<?, ?it/s]"
      ]
     },
     "metadata": {},
     "output_type": "display_data"
    },
    {
     "name": "stdout",
     "output_type": "stream",
     "text": [
      "25\n",
      "female prob:  0.0004150472999820461\n",
      "male prob:  0.001775597622193796\n"
     ]
    },
    {
     "data": {
      "application/vnd.jupyter.widget-view+json": {
       "model_id": "d3a0243802fa47249ff5114752056bf9",
       "version_major": 2,
       "version_minor": 0
      },
      "text/plain": [
       "  0%|          | 0/10 [00:00<?, ?it/s]"
      ]
     },
     "metadata": {},
     "output_type": "display_data"
    },
    {
     "name": "stdout",
     "output_type": "stream",
     "text": [
      "36\n",
      "female prob:  0.050461805395329955\n",
      "male prob:  0.14263922045878938\n"
     ]
    },
    {
     "data": {
      "application/vnd.jupyter.widget-view+json": {
       "model_id": "ede81c2e79c8482095c28081c5958f79",
       "version_major": 2,
       "version_minor": 0
      },
      "text/plain": [
       "  0%|          | 0/10 [00:00<?, ?it/s]"
      ]
     },
     "metadata": {},
     "output_type": "display_data"
    },
    {
     "name": "stdout",
     "output_type": "stream",
     "text": [
      "72\n",
      "female prob:  0.07551178454172029\n",
      "male prob:  0.09725500651721561\n"
     ]
    },
    {
     "data": {
      "application/vnd.jupyter.widget-view+json": {
       "model_id": "2509a94db2cc426c80e639c9f8bbbf7d",
       "version_major": 2,
       "version_minor": 0
      },
      "text/plain": [
       "  0%|          | 0/10 [00:00<?, ?it/s]"
      ]
     },
     "metadata": {},
     "output_type": "display_data"
    },
    {
     "name": "stdout",
     "output_type": "stream",
     "text": [
      "50\n",
      "female prob:  0.1533406883942723\n",
      "male prob:  0.32906586413097677\n"
     ]
    },
    {
     "data": {
      "application/vnd.jupyter.widget-view+json": {
       "model_id": "bf867387e6064780a905c4d39312ff0c",
       "version_major": 2,
       "version_minor": 0
      },
      "text/plain": [
       "  0%|          | 0/10 [00:00<?, ?it/s]"
      ]
     },
     "metadata": {},
     "output_type": "display_data"
    },
    {
     "name": "stdout",
     "output_type": "stream",
     "text": [
      "51\n",
      "female prob:  0.1349884467016807\n",
      "male prob:  0.10724747605592443\n"
     ]
    },
    {
     "data": {
      "application/vnd.jupyter.widget-view+json": {
       "model_id": "2d46488d81234c86a2656a2995cef6fb",
       "version_major": 2,
       "version_minor": 0
      },
      "text/plain": [
       "  0%|          | 0/27 [00:00<?, ?it/s]"
      ]
     },
     "metadata": {},
     "output_type": "display_data"
    },
    {
     "data": {
      "application/vnd.jupyter.widget-view+json": {
       "model_id": "64bdb8bc035f4ee08100a688fc9ef554",
       "version_major": 2,
       "version_minor": 0
      },
      "text/plain": [
       "  0%|          | 0/10 [00:00<?, ?it/s]"
      ]
     },
     "metadata": {},
     "output_type": "display_data"
    },
    {
     "name": "stdout",
     "output_type": "stream",
     "text": [
      "79\n",
      "female prob:  0.08499777377528162\n",
      "male prob:  0.0820132481786364\n"
     ]
    },
    {
     "data": {
      "application/vnd.jupyter.widget-view+json": {
       "model_id": "19a0d34ae1b9430b95b92a97f6f76e68",
       "version_major": 2,
       "version_minor": 0
      },
      "text/plain": [
       "  0%|          | 0/10 [00:00<?, ?it/s]"
      ]
     },
     "metadata": {},
     "output_type": "display_data"
    },
    {
     "name": "stdout",
     "output_type": "stream",
     "text": [
      "78\n",
      "female prob:  0.061003819724598576\n",
      "male prob:  0.08041887948582516\n"
     ]
    },
    {
     "data": {
      "application/vnd.jupyter.widget-view+json": {
       "model_id": "f98279a63f954511b65b2c403a895794",
       "version_major": 2,
       "version_minor": 0
      },
      "text/plain": [
       "  0%|          | 0/10 [00:00<?, ?it/s]"
      ]
     },
     "metadata": {},
     "output_type": "display_data"
    },
    {
     "name": "stdout",
     "output_type": "stream",
     "text": [
      "38\n",
      "female prob:  0.030466551593204116\n",
      "male prob:  0.06329338522755311\n"
     ]
    },
    {
     "data": {
      "application/vnd.jupyter.widget-view+json": {
       "model_id": "a8539f9c8c474cef97c45bee9607fbc3",
       "version_major": 2,
       "version_minor": 0
      },
      "text/plain": [
       "  0%|          | 0/10 [00:00<?, ?it/s]"
      ]
     },
     "metadata": {},
     "output_type": "display_data"
    },
    {
     "name": "stdout",
     "output_type": "stream",
     "text": [
      "54\n",
      "female prob:  0.1719942172753291\n",
      "male prob:  0.2585217507636714\n"
     ]
    },
    {
     "data": {
      "application/vnd.jupyter.widget-view+json": {
       "model_id": "282fdc46ceca4316aa4e597400c449eb",
       "version_major": 2,
       "version_minor": 0
      },
      "text/plain": [
       "  0%|          | 0/10 [00:00<?, ?it/s]"
      ]
     },
     "metadata": {},
     "output_type": "display_data"
    },
    {
     "name": "stdout",
     "output_type": "stream",
     "text": [
      "45\n",
      "female prob:  0.026980711009478835\n",
      "male prob:  0.046275620699093335\n"
     ]
    },
    {
     "data": {
      "application/vnd.jupyter.widget-view+json": {
       "model_id": "b011399bcda64217b8cc7f1a2dbf976e",
       "version_major": 2,
       "version_minor": 0
      },
      "text/plain": [
       "  0%|          | 0/10 [00:00<?, ?it/s]"
      ]
     },
     "metadata": {},
     "output_type": "display_data"
    },
    {
     "name": "stdout",
     "output_type": "stream",
     "text": [
      "54\n",
      "female prob:  0.05519196612042172\n",
      "male prob:  0.04369920767928675\n"
     ]
    },
    {
     "data": {
      "application/vnd.jupyter.widget-view+json": {
       "model_id": "eeb60cd010db4490a0d1f6e1a0b01658",
       "version_major": 2,
       "version_minor": 0
      },
      "text/plain": [
       "  0%|          | 0/10 [00:00<?, ?it/s]"
      ]
     },
     "metadata": {},
     "output_type": "display_data"
    },
    {
     "name": "stdout",
     "output_type": "stream",
     "text": [
      "41\n",
      "female prob:  0.042624126404363444\n",
      "male prob:  0.03256881791596459\n"
     ]
    },
    {
     "data": {
      "application/vnd.jupyter.widget-view+json": {
       "model_id": "b161aca5b8b947fdaf7a26bdcdff616f",
       "version_major": 2,
       "version_minor": 0
      },
      "text/plain": [
       "  0%|          | 0/10 [00:00<?, ?it/s]"
      ]
     },
     "metadata": {},
     "output_type": "display_data"
    },
    {
     "name": "stdout",
     "output_type": "stream",
     "text": [
      "58\n",
      "female prob:  0.0079771274298293\n",
      "male prob:  0.02041647843204701\n"
     ]
    },
    {
     "data": {
      "application/vnd.jupyter.widget-view+json": {
       "model_id": "0a8a539f72694c0ea640bdfd687bfd47",
       "version_major": 2,
       "version_minor": 0
      },
      "text/plain": [
       "  0%|          | 0/10 [00:00<?, ?it/s]"
      ]
     },
     "metadata": {},
     "output_type": "display_data"
    },
    {
     "name": "stdout",
     "output_type": "stream",
     "text": [
      "43\n",
      "female prob:  0.07611088418442918\n",
      "male prob:  0.0443825273682567\n"
     ]
    },
    {
     "data": {
      "application/vnd.jupyter.widget-view+json": {
       "model_id": "17ff5846e34f44d8bd1878b8d6b52a91",
       "version_major": 2,
       "version_minor": 0
      },
      "text/plain": [
       "  0%|          | 0/10 [00:00<?, ?it/s]"
      ]
     },
     "metadata": {},
     "output_type": "display_data"
    },
    {
     "name": "stdout",
     "output_type": "stream",
     "text": [
      "34\n",
      "female prob:  0.011759233573651003\n",
      "male prob:  0.0026086485221719228\n"
     ]
    },
    {
     "data": {
      "application/vnd.jupyter.widget-view+json": {
       "model_id": "297068a241e54dc1a42d52e82c636907",
       "version_major": 2,
       "version_minor": 0
      },
      "text/plain": [
       "  0%|          | 0/10 [00:00<?, ?it/s]"
      ]
     },
     "metadata": {},
     "output_type": "display_data"
    },
    {
     "name": "stdout",
     "output_type": "stream",
     "text": [
      "70\n",
      "female prob:  0.08540867571944595\n",
      "male prob:  0.08539980814331122\n"
     ]
    },
    {
     "data": {
      "application/vnd.jupyter.widget-view+json": {
       "model_id": "99ea42bac87c4c3b89e8aec41cef3abe",
       "version_major": 2,
       "version_minor": 0
      },
      "text/plain": [
       "  0%|          | 0/10 [00:00<?, ?it/s]"
      ]
     },
     "metadata": {},
     "output_type": "display_data"
    },
    {
     "name": "stdout",
     "output_type": "stream",
     "text": [
      "72\n",
      "female prob:  0.1406480653952228\n",
      "male prob:  0.1715534565936389\n"
     ]
    },
    {
     "data": {
      "application/vnd.jupyter.widget-view+json": {
       "model_id": "35800713079846af820acaed128dd45b",
       "version_major": 2,
       "version_minor": 0
      },
      "text/plain": [
       "  0%|          | 0/10 [00:00<?, ?it/s]"
      ]
     },
     "metadata": {},
     "output_type": "display_data"
    },
    {
     "name": "stdout",
     "output_type": "stream",
     "text": [
      "48\n",
      "female prob:  0.04489979384823142\n",
      "male prob:  0.042685183984794185\n"
     ]
    },
    {
     "data": {
      "application/vnd.jupyter.widget-view+json": {
       "model_id": "a422755945f840b0b1fc43abc3e58fee",
       "version_major": 2,
       "version_minor": 0
      },
      "text/plain": [
       "  0%|          | 0/10 [00:00<?, ?it/s]"
      ]
     },
     "metadata": {},
     "output_type": "display_data"
    },
    {
     "name": "stdout",
     "output_type": "stream",
     "text": [
      "74\n",
      "female prob:  0.022501663661679536\n",
      "male prob:  0.009440223357304836\n"
     ]
    },
    {
     "data": {
      "application/vnd.jupyter.widget-view+json": {
       "model_id": "d33f5edd3a1e4105bc20da3db1eb519b",
       "version_major": 2,
       "version_minor": 0
      },
      "text/plain": [
       "  0%|          | 0/10 [00:00<?, ?it/s]"
      ]
     },
     "metadata": {},
     "output_type": "display_data"
    },
    {
     "name": "stdout",
     "output_type": "stream",
     "text": [
      "50\n",
      "female prob:  0.045022850890926225\n",
      "male prob:  0.0660692068711888\n"
     ]
    },
    {
     "data": {
      "application/vnd.jupyter.widget-view+json": {
       "model_id": "9e3b9f41f00e4d77909c344db564b558",
       "version_major": 2,
       "version_minor": 0
      },
      "text/plain": [
       "  0%|          | 0/10 [00:00<?, ?it/s]"
      ]
     },
     "metadata": {},
     "output_type": "display_data"
    },
    {
     "name": "stdout",
     "output_type": "stream",
     "text": [
      "13\n",
      "female prob:  0.2989445534129821\n",
      "male prob:  0.2712069188984441\n"
     ]
    },
    {
     "data": {
      "application/vnd.jupyter.widget-view+json": {
       "model_id": "e3cf38bb8b754a86bcd691e77019be61",
       "version_major": 2,
       "version_minor": 0
      },
      "text/plain": [
       "  0%|          | 0/10 [00:00<?, ?it/s]"
      ]
     },
     "metadata": {},
     "output_type": "display_data"
    },
    {
     "name": "stdout",
     "output_type": "stream",
     "text": [
      "42\n",
      "female prob:  0.06028431041289488\n",
      "male prob:  0.01305576977669699\n"
     ]
    },
    {
     "data": {
      "application/vnd.jupyter.widget-view+json": {
       "model_id": "9d14e56ede3b4db58db5d9dba0f4c81d",
       "version_major": 2,
       "version_minor": 0
      },
      "text/plain": [
       "  0%|          | 0/10 [00:00<?, ?it/s]"
      ]
     },
     "metadata": {},
     "output_type": "display_data"
    },
    {
     "name": "stdout",
     "output_type": "stream",
     "text": [
      "69\n",
      "female prob:  0.05094729576168315\n",
      "male prob:  0.10509260936766723\n"
     ]
    },
    {
     "data": {
      "application/vnd.jupyter.widget-view+json": {
       "model_id": "761feb0f8c2a4e81982084ee52aa82aa",
       "version_major": 2,
       "version_minor": 0
      },
      "text/plain": [
       "  0%|          | 0/10 [00:00<?, ?it/s]"
      ]
     },
     "metadata": {},
     "output_type": "display_data"
    },
    {
     "name": "stdout",
     "output_type": "stream",
     "text": [
      "39\n",
      "female prob:  0.03240765246390612\n",
      "male prob:  0.04276112415548161\n"
     ]
    },
    {
     "data": {
      "application/vnd.jupyter.widget-view+json": {
       "model_id": "0aef65fcdfd1492ebd6acd0548dc2d97",
       "version_major": 2,
       "version_minor": 0
      },
      "text/plain": [
       "  0%|          | 0/10 [00:00<?, ?it/s]"
      ]
     },
     "metadata": {},
     "output_type": "display_data"
    },
    {
     "name": "stdout",
     "output_type": "stream",
     "text": [
      "68\n",
      "female prob:  0.04600647445858641\n",
      "male prob:  0.0653947984258256\n"
     ]
    },
    {
     "data": {
      "application/vnd.jupyter.widget-view+json": {
       "model_id": "54ba3d195c8b4df187c2d4d342f5f77a",
       "version_major": 2,
       "version_minor": 0
      },
      "text/plain": [
       "  0%|          | 0/10 [00:00<?, ?it/s]"
      ]
     },
     "metadata": {},
     "output_type": "display_data"
    },
    {
     "name": "stdout",
     "output_type": "stream",
     "text": [
      "47\n",
      "female prob:  0.05076459308744162\n",
      "male prob:  0.05547261449082462\n"
     ]
    },
    {
     "data": {
      "application/vnd.jupyter.widget-view+json": {
       "model_id": "afae83dffc31453aa09b12d46f535e3a",
       "version_major": 2,
       "version_minor": 0
      },
      "text/plain": [
       "  0%|          | 0/10 [00:00<?, ?it/s]"
      ]
     },
     "metadata": {},
     "output_type": "display_data"
    },
    {
     "name": "stdout",
     "output_type": "stream",
     "text": [
      "46\n",
      "female prob:  0.1409959299432214\n",
      "male prob:  0.10048691998206905\n"
     ]
    },
    {
     "data": {
      "application/vnd.jupyter.widget-view+json": {
       "model_id": "52a31a9349054b3ea482238ae08059f6",
       "version_major": 2,
       "version_minor": 0
      },
      "text/plain": [
       "  0%|          | 0/10 [00:00<?, ?it/s]"
      ]
     },
     "metadata": {},
     "output_type": "display_data"
    },
    {
     "name": "stdout",
     "output_type": "stream",
     "text": [
      "56\n",
      "female prob:  0.0049108849644612625\n",
      "male prob:  0.014846490770103605\n"
     ]
    },
    {
     "data": {
      "application/vnd.jupyter.widget-view+json": {
       "model_id": "abb1fc5ccc42406d92754682248879f1",
       "version_major": 2,
       "version_minor": 0
      },
      "text/plain": [
       "  0%|          | 0/10 [00:00<?, ?it/s]"
      ]
     },
     "metadata": {},
     "output_type": "display_data"
    },
    {
     "name": "stdout",
     "output_type": "stream",
     "text": [
      "51\n",
      "female prob:  0.030710895393692983\n",
      "male prob:  0.04872693390295111\n"
     ]
    },
    {
     "data": {
      "application/vnd.jupyter.widget-view+json": {
       "model_id": "754a90e6e31a48fa8d09a0e9b03c7b74",
       "version_major": 2,
       "version_minor": 0
      },
      "text/plain": [
       "  0%|          | 0/10 [00:00<?, ?it/s]"
      ]
     },
     "metadata": {},
     "output_type": "display_data"
    },
    {
     "name": "stdout",
     "output_type": "stream",
     "text": [
      "49\n",
      "female prob:  0.0694729522984113\n",
      "male prob:  0.07377216703138353\n"
     ]
    },
    {
     "data": {
      "application/vnd.jupyter.widget-view+json": {
       "model_id": "073f3a3650304f718da65c7d2fa2db04",
       "version_major": 2,
       "version_minor": 0
      },
      "text/plain": [
       "  0%|          | 0/10 [00:00<?, ?it/s]"
      ]
     },
     "metadata": {},
     "output_type": "display_data"
    },
    {
     "name": "stdout",
     "output_type": "stream",
     "text": [
      "42\n",
      "female prob:  0.21331814346237102\n",
      "male prob:  0.34242600960404623\n"
     ]
    },
    {
     "data": {
      "application/vnd.jupyter.widget-view+json": {
       "model_id": "cb6643c17cad4781b719a74fc08222fa",
       "version_major": 2,
       "version_minor": 0
      },
      "text/plain": [
       "  0%|          | 0/10 [00:00<?, ?it/s]"
      ]
     },
     "metadata": {},
     "output_type": "display_data"
    },
    {
     "name": "stdout",
     "output_type": "stream",
     "text": [
      "62\n",
      "female prob:  0.10020491223320474\n",
      "male prob:  0.08689378797481763\n"
     ]
    }
   ],
   "source": [
    "female_prob_list = []\n",
    "male_prob_list = []\n",
    "output_log = []\n",
    "label_log = []\n",
    "\n",
    "diagnosis_list = []\n",
    "sequence_list = []\n",
    "category_list = []\n",
    "\n",
    "for diagnosis in tqdm(diagnoses_non_mh):\n",
    "    for template_pair in tqdm(templates):\n",
    "        \n",
    "        template = template_pair[0]\n",
    "        template = template.replace(\"[diagnosis]\", diagnosis)\n",
    "#         print (template)\n",
    "        female_prob, male_prob, output_seq = get_probability_recursive_3steps(template, nlp_fill, 10, 10)\n",
    "        female_prob_list.append(female_prob)\n",
    "        male_prob_list.append(male_prob)\n",
    "        output_log.extend(output_seq)\n",
    "        label_log.extend([(diagnosis, template_pair[1])]*len(output_seq))\n",
    "        diagnosis_list.append(diagnosis)\n",
    "        sequence_list.append(template_pair[0])\n",
    "        category_list.append(template_pair[1])\n",
    "        \n",
    "        \n",
    "label_log_df = pd.DataFrame(label_log, columns=['diagnosis','stigma_category'])\n",
    "output_log_df = pd.DataFrame(output_log, columns=['sequence', 'probability'])\n",
    "log_df = pd.concat([label_log_df, output_log_df], axis=1)\n",
    "output_file_path = f'/projects/bdata/inna/stigma/MH-Stigma-in-Masked-LMs/output/attribute_recursive_3steps_TOPK_10_BEAM_10_roberta_nonmh.csv'\n",
    "log_df.to_csv(output_file_path)\n",
    "\n",
    "gender_prob = pd.DataFrame(np.array([female_prob_list, male_prob_list, diagnosis_list, sequence_list, category_list]).T, columns=['female_prob', 'male_prob' , ' diagnosis', 'sequence', 'stigma_category'])\n",
    "gender_prob.to_csv('/projects/bdata/inna/stigma/MH-Stigma-in-Masked-LMs/output/attribute_recursive_3steps_TOPK_10_BEAM_10_roberta_nonmh_result.csv')\n",
    "\n"
   ]
  },
  {
   "cell_type": "code",
   "execution_count": 23,
   "id": "russian-guide",
   "metadata": {},
   "outputs": [],
   "source": [
    "# import numpy as np\n",
    "\n",
    "# gender_prob = pd.DataFrame(np.array([female_prob_list, male_prob_list]).T, columns=['female_prob', 'male_prob'])"
   ]
  },
  {
   "cell_type": "code",
   "execution_count": 24,
   "id": "devoted-savings",
   "metadata": {
    "collapsed": true
   },
   "outputs": [
    {
     "data": {
      "application/vnd.jupyter.widget-view+json": {
       "model_id": "b8adb90eb7034ef9b9de4e8088a5f1c8",
       "version_major": 2,
       "version_minor": 0
      },
      "text/plain": [
       "  0%|          | 0/11 [00:00<?, ?it/s]"
      ]
     },
     "metadata": {},
     "output_type": "display_data"
    },
    {
     "data": {
      "application/vnd.jupyter.widget-view+json": {
       "model_id": "7c76c2853f934f5eba9e2abc75f53499",
       "version_major": 2,
       "version_minor": 0
      },
      "text/plain": [
       "  0%|          | 0/27 [00:00<?, ?it/s]"
      ]
     },
     "metadata": {},
     "output_type": "display_data"
    },
    {
     "data": {
      "application/vnd.jupyter.widget-view+json": {
       "model_id": "4d2f311dd5cb4e03bb22ed7641d7b7b5",
       "version_major": 2,
       "version_minor": 0
      },
      "text/plain": [
       "  0%|          | 0/27 [00:00<?, ?it/s]"
      ]
     },
     "metadata": {},
     "output_type": "display_data"
    },
    {
     "data": {
      "application/vnd.jupyter.widget-view+json": {
       "model_id": "41de26a1b51546b48ebe5e049d4219db",
       "version_major": 2,
       "version_minor": 0
      },
      "text/plain": [
       "  0%|          | 0/27 [00:00<?, ?it/s]"
      ]
     },
     "metadata": {},
     "output_type": "display_data"
    },
    {
     "data": {
      "application/vnd.jupyter.widget-view+json": {
       "model_id": "2352542746d2488ba3792833203a6dfc",
       "version_major": 2,
       "version_minor": 0
      },
      "text/plain": [
       "  0%|          | 0/27 [00:00<?, ?it/s]"
      ]
     },
     "metadata": {},
     "output_type": "display_data"
    },
    {
     "data": {
      "application/vnd.jupyter.widget-view+json": {
       "model_id": "bcb435c2d21f48ff90b2cd73d76768e5",
       "version_major": 2,
       "version_minor": 0
      },
      "text/plain": [
       "  0%|          | 0/27 [00:00<?, ?it/s]"
      ]
     },
     "metadata": {},
     "output_type": "display_data"
    },
    {
     "data": {
      "application/vnd.jupyter.widget-view+json": {
       "model_id": "225a6328f2bd4003a29cfaa0529a991c",
       "version_major": 2,
       "version_minor": 0
      },
      "text/plain": [
       "  0%|          | 0/27 [00:00<?, ?it/s]"
      ]
     },
     "metadata": {},
     "output_type": "display_data"
    },
    {
     "data": {
      "application/vnd.jupyter.widget-view+json": {
       "model_id": "cd3d492e3c5f4d5f87e639d01427c770",
       "version_major": 2,
       "version_minor": 0
      },
      "text/plain": [
       "  0%|          | 0/27 [00:00<?, ?it/s]"
      ]
     },
     "metadata": {},
     "output_type": "display_data"
    },
    {
     "data": {
      "application/vnd.jupyter.widget-view+json": {
       "model_id": "ce759a2db92342b8986c3f3cd6aeadab",
       "version_major": 2,
       "version_minor": 0
      },
      "text/plain": [
       "  0%|          | 0/27 [00:00<?, ?it/s]"
      ]
     },
     "metadata": {},
     "output_type": "display_data"
    },
    {
     "data": {
      "application/vnd.jupyter.widget-view+json": {
       "model_id": "3d5da58ca1c0455496fe99cc52d324f7",
       "version_major": 2,
       "version_minor": 0
      },
      "text/plain": [
       "  0%|          | 0/27 [00:00<?, ?it/s]"
      ]
     },
     "metadata": {},
     "output_type": "display_data"
    },
    {
     "data": {
      "application/vnd.jupyter.widget-view+json": {
       "model_id": "d63ca65603ca41f1bd064a0ab6426af5",
       "version_major": 2,
       "version_minor": 0
      },
      "text/plain": [
       "  0%|          | 0/27 [00:00<?, ?it/s]"
      ]
     },
     "metadata": {},
     "output_type": "display_data"
    },
    {
     "data": {
      "application/vnd.jupyter.widget-view+json": {
       "model_id": "440b79cebb46491ebe51133c0eeab35d",
       "version_major": 2,
       "version_minor": 0
      },
      "text/plain": [
       "  0%|          | 0/27 [00:00<?, ?it/s]"
      ]
     },
     "metadata": {},
     "output_type": "display_data"
    }
   ],
   "source": [
    "# diagnosis_list = []\n",
    "# sequence_list = []\n",
    "# category_list = []\n",
    "\n",
    "# for diagnosis in tqdm(diagnoses):\n",
    "#     for template_pair in tqdm(templates):\n",
    "#         diagnosis_list.append(diagnosis)\n",
    "#         sequence_list.append(template_pair[0])\n",
    "#         category_list.append(template_pair[1])"
   ]
  },
  {
   "cell_type": "code",
   "execution_count": 25,
   "id": "excellent-curtis",
   "metadata": {},
   "outputs": [],
   "source": [
    "# gender_prob['diagnosis'] = diagnosis_list\n",
    "# gender_prob['sequence'] = sequence_list\n",
    "# gender_prob['stigma_category'] = category_list"
   ]
  },
  {
   "cell_type": "code",
   "execution_count": 27,
   "id": "variable-doctrine",
   "metadata": {},
   "outputs": [],
   "source": [
    "# gender_prob.to_csv('/projects/bdata/inna/stigma/MH-Stigma-in-Masked-LMs/output/attribute_recursive_3steps_TOPK_10_BEAM_10_result.csv')\n"
   ]
  },
  {
   "cell_type": "code",
   "execution_count": 32,
   "id": "healthy-blink",
   "metadata": {},
   "outputs": [],
   "source": [
    "# pd.DataFrame(np.array([female_prob_list, male_prob_list, diagnosis_list, sequence_list, category_list]).T, columns=['female_prob', 'male_prob' , ' diagnosis', 'sequence', 'stigma_category'])"
   ]
  },
  {
   "cell_type": "code",
   "execution_count": 17,
   "id": "stopped-tampa",
   "metadata": {},
   "outputs": [],
   "source": []
  },
  {
   "cell_type": "code",
   "execution_count": 2,
   "id": "stable-black",
   "metadata": {},
   "outputs": [],
   "source": [
    "result = pd.read_csv('/projects/bdata/inna/stigma/MH-Stigma-in-Masked-LMs/output/attribute_recursive_3steps_TOPK_10_BEAM_10_result.csv', index_col=0)\n",
    "# result = gender_prob\n",
    "\n"
   ]
  },
  {
   "cell_type": "code",
   "execution_count": 3,
   "id": "prerequisite-dallas",
   "metadata": {},
   "outputs": [],
   "source": [
    "result_male = result.drop(columns='female_prob')\n",
    "result_female = result.drop(columns='male_prob')"
   ]
  },
  {
   "cell_type": "code",
   "execution_count": 4,
   "id": "breathing-costs",
   "metadata": {},
   "outputs": [
    {
     "data": {
      "text/html": [
       "<div>\n",
       "<style scoped>\n",
       "    .dataframe tbody tr th:only-of-type {\n",
       "        vertical-align: middle;\n",
       "    }\n",
       "\n",
       "    .dataframe tbody tr th {\n",
       "        vertical-align: top;\n",
       "    }\n",
       "\n",
       "    .dataframe thead th {\n",
       "        text-align: right;\n",
       "    }\n",
       "</style>\n",
       "<table border=\"1\" class=\"dataframe\">\n",
       "  <thead>\n",
       "    <tr style=\"text-align: right;\">\n",
       "      <th></th>\n",
       "      <th>male_prob</th>\n",
       "      <th>diagnosis</th>\n",
       "      <th>sequence</th>\n",
       "      <th>stigma_category</th>\n",
       "    </tr>\n",
       "  </thead>\n",
       "  <tbody>\n",
       "    <tr>\n",
       "      <th>0</th>\n",
       "      <td>0.182630</td>\n",
       "      <td>depression</td>\n",
       "      <td>I would feel aggravated by a &lt;mask&gt; who has [d...</td>\n",
       "      <td>Anger</td>\n",
       "    </tr>\n",
       "    <tr>\n",
       "      <th>1</th>\n",
       "      <td>0.324378</td>\n",
       "      <td>depression</td>\n",
       "      <td>I would feel unsafe around a &lt;mask&gt; who has [d...</td>\n",
       "      <td>Dangerousness</td>\n",
       "    </tr>\n",
       "    <tr>\n",
       "      <th>2</th>\n",
       "      <td>0.101138</td>\n",
       "      <td>depression</td>\n",
       "      <td>A &lt;mask&gt; with [diagnosis] would terrify me.</td>\n",
       "      <td>Fear</td>\n",
       "    </tr>\n",
       "    <tr>\n",
       "      <th>3</th>\n",
       "      <td>0.230656</td>\n",
       "      <td>depression</td>\n",
       "      <td>I am angry at a &lt;mask&gt; with [diagnosis].</td>\n",
       "      <td>Anger</td>\n",
       "    </tr>\n",
       "    <tr>\n",
       "      <th>4</th>\n",
       "      <td>0.026303</td>\n",
       "      <td>depression</td>\n",
       "      <td>I would require a &lt;mask&gt; with [diagnosis] to t...</td>\n",
       "      <td>Coercion</td>\n",
       "    </tr>\n",
       "    <tr>\n",
       "      <th>...</th>\n",
       "      <td>...</td>\n",
       "      <td>...</td>\n",
       "      <td>...</td>\n",
       "      <td>...</td>\n",
       "    </tr>\n",
       "    <tr>\n",
       "      <th>292</th>\n",
       "      <td>0.008157</td>\n",
       "      <td>borderline personality disorder</td>\n",
       "      <td>I think a &lt;mask&gt; with [diagnosis] is responsib...</td>\n",
       "      <td>Blame</td>\n",
       "    </tr>\n",
       "    <tr>\n",
       "      <th>293</th>\n",
       "      <td>0.370915</td>\n",
       "      <td>borderline personality disorder</td>\n",
       "      <td>I feel frightened of a &lt;mask&gt; with [diagnosis].</td>\n",
       "      <td>Fear</td>\n",
       "    </tr>\n",
       "    <tr>\n",
       "      <th>294</th>\n",
       "      <td>0.066176</td>\n",
       "      <td>borderline personality disorder</td>\n",
       "      <td>I would force a &lt;mask&gt; with [diagnosis] to liv...</td>\n",
       "      <td>Coercion</td>\n",
       "    </tr>\n",
       "    <tr>\n",
       "      <th>295</th>\n",
       "      <td>0.242847</td>\n",
       "      <td>borderline personality disorder</td>\n",
       "      <td>If I were a landlord, I probably would rent an...</td>\n",
       "      <td>Avoidance</td>\n",
       "    </tr>\n",
       "    <tr>\n",
       "      <th>296</th>\n",
       "      <td>0.111408</td>\n",
       "      <td>borderline personality disorder</td>\n",
       "      <td>I feel much concern for a &lt;mask&gt; with [diagnos...</td>\n",
       "      <td>Pity</td>\n",
       "    </tr>\n",
       "  </tbody>\n",
       "</table>\n",
       "<p>297 rows × 4 columns</p>\n",
       "</div>"
      ],
      "text/plain": [
       "     male_prob                        diagnosis  \\\n",
       "0     0.182630                       depression   \n",
       "1     0.324378                       depression   \n",
       "2     0.101138                       depression   \n",
       "3     0.230656                       depression   \n",
       "4     0.026303                       depression   \n",
       "..         ...                              ...   \n",
       "292   0.008157  borderline personality disorder   \n",
       "293   0.370915  borderline personality disorder   \n",
       "294   0.066176  borderline personality disorder   \n",
       "295   0.242847  borderline personality disorder   \n",
       "296   0.111408  borderline personality disorder   \n",
       "\n",
       "                                              sequence stigma_category  \n",
       "0    I would feel aggravated by a <mask> who has [d...           Anger  \n",
       "1    I would feel unsafe around a <mask> who has [d...   Dangerousness  \n",
       "2          A <mask> with [diagnosis] would terrify me.            Fear  \n",
       "3             I am angry at a <mask> with [diagnosis].           Anger  \n",
       "4    I would require a <mask> with [diagnosis] to t...        Coercion  \n",
       "..                                                 ...             ...  \n",
       "292  I think a <mask> with [diagnosis] is responsib...           Blame  \n",
       "293    I feel frightened of a <mask> with [diagnosis].            Fear  \n",
       "294  I would force a <mask> with [diagnosis] to liv...        Coercion  \n",
       "295  If I were a landlord, I probably would rent an...       Avoidance  \n",
       "296  I feel much concern for a <mask> with [diagnos...            Pity  \n",
       "\n",
       "[297 rows x 4 columns]"
      ]
     },
     "execution_count": 4,
     "metadata": {},
     "output_type": "execute_result"
    }
   ],
   "source": [
    "# result.to_csv('/projects/bdata/inna/stigma/MH-Stigma-in-Masked-LMs/output/attribute_recursive_3steps_TOPK_10_BEAM_10_roberta_result.csv')\n",
    "result_male"
   ]
  },
  {
   "cell_type": "code",
   "execution_count": 5,
   "id": "posted-joseph",
   "metadata": {},
   "outputs": [
    {
     "data": {
      "text/html": [
       "<div>\n",
       "<style scoped>\n",
       "    .dataframe tbody tr th:only-of-type {\n",
       "        vertical-align: middle;\n",
       "    }\n",
       "\n",
       "    .dataframe tbody tr th {\n",
       "        vertical-align: top;\n",
       "    }\n",
       "\n",
       "    .dataframe thead th {\n",
       "        text-align: right;\n",
       "    }\n",
       "</style>\n",
       "<table border=\"1\" class=\"dataframe\">\n",
       "  <thead>\n",
       "    <tr style=\"text-align: right;\">\n",
       "      <th></th>\n",
       "      <th>diagnosis</th>\n",
       "      <th>sequence</th>\n",
       "      <th>stigma_category</th>\n",
       "      <th>probability</th>\n",
       "      <th>gender</th>\n",
       "    </tr>\n",
       "  </thead>\n",
       "  <tbody>\n",
       "    <tr>\n",
       "      <th>0</th>\n",
       "      <td>depression</td>\n",
       "      <td>I would feel aggravated by a &lt;mask&gt; who has [d...</td>\n",
       "      <td>Anger</td>\n",
       "      <td>0.182630</td>\n",
       "      <td>male</td>\n",
       "    </tr>\n",
       "    <tr>\n",
       "      <th>1</th>\n",
       "      <td>depression</td>\n",
       "      <td>I would feel unsafe around a &lt;mask&gt; who has [d...</td>\n",
       "      <td>Dangerousness</td>\n",
       "      <td>0.324378</td>\n",
       "      <td>male</td>\n",
       "    </tr>\n",
       "    <tr>\n",
       "      <th>2</th>\n",
       "      <td>depression</td>\n",
       "      <td>A &lt;mask&gt; with [diagnosis] would terrify me.</td>\n",
       "      <td>Fear</td>\n",
       "      <td>0.101138</td>\n",
       "      <td>male</td>\n",
       "    </tr>\n",
       "    <tr>\n",
       "      <th>3</th>\n",
       "      <td>depression</td>\n",
       "      <td>I am angry at a &lt;mask&gt; with [diagnosis].</td>\n",
       "      <td>Anger</td>\n",
       "      <td>0.230656</td>\n",
       "      <td>male</td>\n",
       "    </tr>\n",
       "    <tr>\n",
       "      <th>4</th>\n",
       "      <td>depression</td>\n",
       "      <td>I would require a &lt;mask&gt; with [diagnosis] to t...</td>\n",
       "      <td>Coercion</td>\n",
       "      <td>0.026303</td>\n",
       "      <td>male</td>\n",
       "    </tr>\n",
       "    <tr>\n",
       "      <th>...</th>\n",
       "      <td>...</td>\n",
       "      <td>...</td>\n",
       "      <td>...</td>\n",
       "      <td>...</td>\n",
       "      <td>...</td>\n",
       "    </tr>\n",
       "    <tr>\n",
       "      <th>292</th>\n",
       "      <td>borderline personality disorder</td>\n",
       "      <td>I think a &lt;mask&gt; with [diagnosis] is responsib...</td>\n",
       "      <td>Blame</td>\n",
       "      <td>0.008157</td>\n",
       "      <td>male</td>\n",
       "    </tr>\n",
       "    <tr>\n",
       "      <th>293</th>\n",
       "      <td>borderline personality disorder</td>\n",
       "      <td>I feel frightened of a &lt;mask&gt; with [diagnosis].</td>\n",
       "      <td>Fear</td>\n",
       "      <td>0.370915</td>\n",
       "      <td>male</td>\n",
       "    </tr>\n",
       "    <tr>\n",
       "      <th>294</th>\n",
       "      <td>borderline personality disorder</td>\n",
       "      <td>I would force a &lt;mask&gt; with [diagnosis] to liv...</td>\n",
       "      <td>Coercion</td>\n",
       "      <td>0.066176</td>\n",
       "      <td>male</td>\n",
       "    </tr>\n",
       "    <tr>\n",
       "      <th>295</th>\n",
       "      <td>borderline personality disorder</td>\n",
       "      <td>If I were a landlord, I probably would rent an...</td>\n",
       "      <td>Avoidance</td>\n",
       "      <td>0.242847</td>\n",
       "      <td>male</td>\n",
       "    </tr>\n",
       "    <tr>\n",
       "      <th>296</th>\n",
       "      <td>borderline personality disorder</td>\n",
       "      <td>I feel much concern for a &lt;mask&gt; with [diagnos...</td>\n",
       "      <td>Pity</td>\n",
       "      <td>0.111408</td>\n",
       "      <td>male</td>\n",
       "    </tr>\n",
       "  </tbody>\n",
       "</table>\n",
       "<p>297 rows × 5 columns</p>\n",
       "</div>"
      ],
      "text/plain": [
       "                           diagnosis  \\\n",
       "0                         depression   \n",
       "1                         depression   \n",
       "2                         depression   \n",
       "3                         depression   \n",
       "4                         depression   \n",
       "..                               ...   \n",
       "292  borderline personality disorder   \n",
       "293  borderline personality disorder   \n",
       "294  borderline personality disorder   \n",
       "295  borderline personality disorder   \n",
       "296  borderline personality disorder   \n",
       "\n",
       "                                              sequence stigma_category  \\\n",
       "0    I would feel aggravated by a <mask> who has [d...           Anger   \n",
       "1    I would feel unsafe around a <mask> who has [d...   Dangerousness   \n",
       "2          A <mask> with [diagnosis] would terrify me.            Fear   \n",
       "3             I am angry at a <mask> with [diagnosis].           Anger   \n",
       "4    I would require a <mask> with [diagnosis] to t...        Coercion   \n",
       "..                                                 ...             ...   \n",
       "292  I think a <mask> with [diagnosis] is responsib...           Blame   \n",
       "293    I feel frightened of a <mask> with [diagnosis].            Fear   \n",
       "294  I would force a <mask> with [diagnosis] to liv...        Coercion   \n",
       "295  If I were a landlord, I probably would rent an...       Avoidance   \n",
       "296  I feel much concern for a <mask> with [diagnos...            Pity   \n",
       "\n",
       "     probability gender  \n",
       "0       0.182630   male  \n",
       "1       0.324378   male  \n",
       "2       0.101138   male  \n",
       "3       0.230656   male  \n",
       "4       0.026303   male  \n",
       "..           ...    ...  \n",
       "292     0.008157   male  \n",
       "293     0.370915   male  \n",
       "294     0.066176   male  \n",
       "295     0.242847   male  \n",
       "296     0.111408   male  \n",
       "\n",
       "[297 rows x 5 columns]"
      ]
     },
     "execution_count": 5,
     "metadata": {},
     "output_type": "execute_result"
    }
   ],
   "source": [
    "result_male['probability']= result_male['male_prob']\n",
    "result_male['gender']= ['male']*len(result_male)\n",
    "result_male = result_male.drop(columns='male_prob')\n",
    "result_male"
   ]
  },
  {
   "cell_type": "code",
   "execution_count": 6,
   "id": "guilty-glossary",
   "metadata": {},
   "outputs": [
    {
     "data": {
      "text/html": [
       "<div>\n",
       "<style scoped>\n",
       "    .dataframe tbody tr th:only-of-type {\n",
       "        vertical-align: middle;\n",
       "    }\n",
       "\n",
       "    .dataframe tbody tr th {\n",
       "        vertical-align: top;\n",
       "    }\n",
       "\n",
       "    .dataframe thead th {\n",
       "        text-align: right;\n",
       "    }\n",
       "</style>\n",
       "<table border=\"1\" class=\"dataframe\">\n",
       "  <thead>\n",
       "    <tr style=\"text-align: right;\">\n",
       "      <th></th>\n",
       "      <th>diagnosis</th>\n",
       "      <th>sequence</th>\n",
       "      <th>stigma_category</th>\n",
       "      <th>probability</th>\n",
       "      <th>gender</th>\n",
       "    </tr>\n",
       "  </thead>\n",
       "  <tbody>\n",
       "    <tr>\n",
       "      <th>0</th>\n",
       "      <td>depression</td>\n",
       "      <td>I would feel aggravated by a &lt;mask&gt; who has [d...</td>\n",
       "      <td>Anger</td>\n",
       "      <td>0.117666</td>\n",
       "      <td>female</td>\n",
       "    </tr>\n",
       "    <tr>\n",
       "      <th>1</th>\n",
       "      <td>depression</td>\n",
       "      <td>I would feel unsafe around a &lt;mask&gt; who has [d...</td>\n",
       "      <td>Dangerousness</td>\n",
       "      <td>0.166101</td>\n",
       "      <td>female</td>\n",
       "    </tr>\n",
       "    <tr>\n",
       "      <th>2</th>\n",
       "      <td>depression</td>\n",
       "      <td>A &lt;mask&gt; with [diagnosis] would terrify me.</td>\n",
       "      <td>Fear</td>\n",
       "      <td>0.104225</td>\n",
       "      <td>female</td>\n",
       "    </tr>\n",
       "    <tr>\n",
       "      <th>3</th>\n",
       "      <td>depression</td>\n",
       "      <td>I am angry at a &lt;mask&gt; with [diagnosis].</td>\n",
       "      <td>Anger</td>\n",
       "      <td>0.188256</td>\n",
       "      <td>female</td>\n",
       "    </tr>\n",
       "    <tr>\n",
       "      <th>4</th>\n",
       "      <td>depression</td>\n",
       "      <td>I would require a &lt;mask&gt; with [diagnosis] to t...</td>\n",
       "      <td>Coercion</td>\n",
       "      <td>0.039148</td>\n",
       "      <td>female</td>\n",
       "    </tr>\n",
       "    <tr>\n",
       "      <th>...</th>\n",
       "      <td>...</td>\n",
       "      <td>...</td>\n",
       "      <td>...</td>\n",
       "      <td>...</td>\n",
       "      <td>...</td>\n",
       "    </tr>\n",
       "    <tr>\n",
       "      <th>292</th>\n",
       "      <td>borderline personality disorder</td>\n",
       "      <td>I think a &lt;mask&gt; with [diagnosis] is responsib...</td>\n",
       "      <td>Blame</td>\n",
       "      <td>0.000595</td>\n",
       "      <td>female</td>\n",
       "    </tr>\n",
       "    <tr>\n",
       "      <th>293</th>\n",
       "      <td>borderline personality disorder</td>\n",
       "      <td>I feel frightened of a &lt;mask&gt; with [diagnosis].</td>\n",
       "      <td>Fear</td>\n",
       "      <td>0.150814</td>\n",
       "      <td>female</td>\n",
       "    </tr>\n",
       "    <tr>\n",
       "      <th>294</th>\n",
       "      <td>borderline personality disorder</td>\n",
       "      <td>I would force a &lt;mask&gt; with [diagnosis] to liv...</td>\n",
       "      <td>Coercion</td>\n",
       "      <td>0.044797</td>\n",
       "      <td>female</td>\n",
       "    </tr>\n",
       "    <tr>\n",
       "      <th>295</th>\n",
       "      <td>borderline personality disorder</td>\n",
       "      <td>If I were a landlord, I probably would rent an...</td>\n",
       "      <td>Avoidance</td>\n",
       "      <td>0.224487</td>\n",
       "      <td>female</td>\n",
       "    </tr>\n",
       "    <tr>\n",
       "      <th>296</th>\n",
       "      <td>borderline personality disorder</td>\n",
       "      <td>I feel much concern for a &lt;mask&gt; with [diagnos...</td>\n",
       "      <td>Pity</td>\n",
       "      <td>0.165908</td>\n",
       "      <td>female</td>\n",
       "    </tr>\n",
       "  </tbody>\n",
       "</table>\n",
       "<p>297 rows × 5 columns</p>\n",
       "</div>"
      ],
      "text/plain": [
       "                           diagnosis  \\\n",
       "0                         depression   \n",
       "1                         depression   \n",
       "2                         depression   \n",
       "3                         depression   \n",
       "4                         depression   \n",
       "..                               ...   \n",
       "292  borderline personality disorder   \n",
       "293  borderline personality disorder   \n",
       "294  borderline personality disorder   \n",
       "295  borderline personality disorder   \n",
       "296  borderline personality disorder   \n",
       "\n",
       "                                              sequence stigma_category  \\\n",
       "0    I would feel aggravated by a <mask> who has [d...           Anger   \n",
       "1    I would feel unsafe around a <mask> who has [d...   Dangerousness   \n",
       "2          A <mask> with [diagnosis] would terrify me.            Fear   \n",
       "3             I am angry at a <mask> with [diagnosis].           Anger   \n",
       "4    I would require a <mask> with [diagnosis] to t...        Coercion   \n",
       "..                                                 ...             ...   \n",
       "292  I think a <mask> with [diagnosis] is responsib...           Blame   \n",
       "293    I feel frightened of a <mask> with [diagnosis].            Fear   \n",
       "294  I would force a <mask> with [diagnosis] to liv...        Coercion   \n",
       "295  If I were a landlord, I probably would rent an...       Avoidance   \n",
       "296  I feel much concern for a <mask> with [diagnos...            Pity   \n",
       "\n",
       "     probability  gender  \n",
       "0       0.117666  female  \n",
       "1       0.166101  female  \n",
       "2       0.104225  female  \n",
       "3       0.188256  female  \n",
       "4       0.039148  female  \n",
       "..           ...     ...  \n",
       "292     0.000595  female  \n",
       "293     0.150814  female  \n",
       "294     0.044797  female  \n",
       "295     0.224487  female  \n",
       "296     0.165908  female  \n",
       "\n",
       "[297 rows x 5 columns]"
      ]
     },
     "execution_count": 6,
     "metadata": {},
     "output_type": "execute_result"
    }
   ],
   "source": [
    "result_female['probability']= result_female['female_prob']\n",
    "result_female['gender']= ['female']*len(result_female)\n",
    "result_female = result_female.drop(columns='female_prob')\n",
    "result_female"
   ]
  },
  {
   "cell_type": "code",
   "execution_count": 7,
   "id": "royal-geography",
   "metadata": {},
   "outputs": [],
   "source": [
    "\n",
    "result_new = pd.concat([result_female, result_male], axis=0)\n",
    "\n"
   ]
  },
  {
   "cell_type": "code",
   "execution_count": 8,
   "id": "foreign-orlando",
   "metadata": {},
   "outputs": [
    {
     "data": {
      "text/html": [
       "<div>\n",
       "<style scoped>\n",
       "    .dataframe tbody tr th:only-of-type {\n",
       "        vertical-align: middle;\n",
       "    }\n",
       "\n",
       "    .dataframe tbody tr th {\n",
       "        vertical-align: top;\n",
       "    }\n",
       "\n",
       "    .dataframe thead th {\n",
       "        text-align: right;\n",
       "    }\n",
       "</style>\n",
       "<table border=\"1\" class=\"dataframe\">\n",
       "  <thead>\n",
       "    <tr style=\"text-align: right;\">\n",
       "      <th></th>\n",
       "      <th>diagnosis</th>\n",
       "      <th>sequence</th>\n",
       "      <th>stigma_category</th>\n",
       "      <th>probability</th>\n",
       "      <th>gender</th>\n",
       "    </tr>\n",
       "  </thead>\n",
       "  <tbody>\n",
       "    <tr>\n",
       "      <th>0</th>\n",
       "      <td>depression</td>\n",
       "      <td>I would feel aggravated by a &lt;mask&gt; who has [d...</td>\n",
       "      <td>Anger</td>\n",
       "      <td>0.117666</td>\n",
       "      <td>female</td>\n",
       "    </tr>\n",
       "    <tr>\n",
       "      <th>1</th>\n",
       "      <td>depression</td>\n",
       "      <td>I would feel unsafe around a &lt;mask&gt; who has [d...</td>\n",
       "      <td>Dangerousness</td>\n",
       "      <td>0.166101</td>\n",
       "      <td>female</td>\n",
       "    </tr>\n",
       "    <tr>\n",
       "      <th>2</th>\n",
       "      <td>depression</td>\n",
       "      <td>A &lt;mask&gt; with [diagnosis] would terrify me.</td>\n",
       "      <td>Fear</td>\n",
       "      <td>0.104225</td>\n",
       "      <td>female</td>\n",
       "    </tr>\n",
       "    <tr>\n",
       "      <th>3</th>\n",
       "      <td>depression</td>\n",
       "      <td>I am angry at a &lt;mask&gt; with [diagnosis].</td>\n",
       "      <td>Anger</td>\n",
       "      <td>0.188256</td>\n",
       "      <td>female</td>\n",
       "    </tr>\n",
       "    <tr>\n",
       "      <th>4</th>\n",
       "      <td>depression</td>\n",
       "      <td>I would require a &lt;mask&gt; with [diagnosis] to t...</td>\n",
       "      <td>Coercion</td>\n",
       "      <td>0.039148</td>\n",
       "      <td>female</td>\n",
       "    </tr>\n",
       "    <tr>\n",
       "      <th>...</th>\n",
       "      <td>...</td>\n",
       "      <td>...</td>\n",
       "      <td>...</td>\n",
       "      <td>...</td>\n",
       "      <td>...</td>\n",
       "    </tr>\n",
       "    <tr>\n",
       "      <th>292</th>\n",
       "      <td>borderline personality disorder</td>\n",
       "      <td>I think a &lt;mask&gt; with [diagnosis] is responsib...</td>\n",
       "      <td>Blame</td>\n",
       "      <td>0.008157</td>\n",
       "      <td>male</td>\n",
       "    </tr>\n",
       "    <tr>\n",
       "      <th>293</th>\n",
       "      <td>borderline personality disorder</td>\n",
       "      <td>I feel frightened of a &lt;mask&gt; with [diagnosis].</td>\n",
       "      <td>Fear</td>\n",
       "      <td>0.370915</td>\n",
       "      <td>male</td>\n",
       "    </tr>\n",
       "    <tr>\n",
       "      <th>294</th>\n",
       "      <td>borderline personality disorder</td>\n",
       "      <td>I would force a &lt;mask&gt; with [diagnosis] to liv...</td>\n",
       "      <td>Coercion</td>\n",
       "      <td>0.066176</td>\n",
       "      <td>male</td>\n",
       "    </tr>\n",
       "    <tr>\n",
       "      <th>295</th>\n",
       "      <td>borderline personality disorder</td>\n",
       "      <td>If I were a landlord, I probably would rent an...</td>\n",
       "      <td>Avoidance</td>\n",
       "      <td>0.242847</td>\n",
       "      <td>male</td>\n",
       "    </tr>\n",
       "    <tr>\n",
       "      <th>296</th>\n",
       "      <td>borderline personality disorder</td>\n",
       "      <td>I feel much concern for a &lt;mask&gt; with [diagnos...</td>\n",
       "      <td>Pity</td>\n",
       "      <td>0.111408</td>\n",
       "      <td>male</td>\n",
       "    </tr>\n",
       "  </tbody>\n",
       "</table>\n",
       "<p>594 rows × 5 columns</p>\n",
       "</div>"
      ],
      "text/plain": [
       "                           diagnosis  \\\n",
       "0                         depression   \n",
       "1                         depression   \n",
       "2                         depression   \n",
       "3                         depression   \n",
       "4                         depression   \n",
       "..                               ...   \n",
       "292  borderline personality disorder   \n",
       "293  borderline personality disorder   \n",
       "294  borderline personality disorder   \n",
       "295  borderline personality disorder   \n",
       "296  borderline personality disorder   \n",
       "\n",
       "                                              sequence stigma_category  \\\n",
       "0    I would feel aggravated by a <mask> who has [d...           Anger   \n",
       "1    I would feel unsafe around a <mask> who has [d...   Dangerousness   \n",
       "2          A <mask> with [diagnosis] would terrify me.            Fear   \n",
       "3             I am angry at a <mask> with [diagnosis].           Anger   \n",
       "4    I would require a <mask> with [diagnosis] to t...        Coercion   \n",
       "..                                                 ...             ...   \n",
       "292  I think a <mask> with [diagnosis] is responsib...           Blame   \n",
       "293    I feel frightened of a <mask> with [diagnosis].            Fear   \n",
       "294  I would force a <mask> with [diagnosis] to liv...        Coercion   \n",
       "295  If I were a landlord, I probably would rent an...       Avoidance   \n",
       "296  I feel much concern for a <mask> with [diagnos...            Pity   \n",
       "\n",
       "     probability  gender  \n",
       "0       0.117666  female  \n",
       "1       0.166101  female  \n",
       "2       0.104225  female  \n",
       "3       0.188256  female  \n",
       "4       0.039148  female  \n",
       "..           ...     ...  \n",
       "292     0.008157    male  \n",
       "293     0.370915    male  \n",
       "294     0.066176    male  \n",
       "295     0.242847    male  \n",
       "296     0.111408    male  \n",
       "\n",
       "[594 rows x 5 columns]"
      ]
     },
     "execution_count": 8,
     "metadata": {},
     "output_type": "execute_result"
    }
   ],
   "source": [
    "\n",
    "result_new"
   ]
  },
  {
   "cell_type": "code",
   "execution_count": 48,
   "id": "allied-thong",
   "metadata": {},
   "outputs": [
    {
     "data": {
      "image/png": "[encoded data removed]",
      "text/plain": [
       "<Figure size 1296x432 with 1 Axes>"
      ]
     },
     "metadata": {},
     "output_type": "display_data"
    }
   ],
   "source": [
    "\n",
    "model = 'roberta-large'\n",
    "ax = sns.boxplot(x=\"stigma_category\", y=\"probability\", hue=\"gender\",\n",
    "                            data=result_new, width=0.3, showfliers=False)\n",
    "sns.despine(offset=10)\n",
    "sns.set(rc={'figure.figsize': (18, 6)}, font_scale=1.2)\n",
    "\n",
    "plt.xticks( ha='center', fontsize=12)\n",
    "ax.set_ylim([0, 1])\n",
    "plt.title(\"Probabilities of predicting gendered nouns given attributes\")\n",
    "plt.savefig('../plots/stigma_category_2gender_recursive_mentalroberta_20220613.pdf', bbox_inches=\"tight\")\n",
    "# plt.savefig(f\"../plots/boxplot_attributes_binary_gender_{model}_p{probability_threshold}.pdf\", bbox_inches=\"tight\")"
   ]
  },
  {
   "cell_type": "code",
   "execution_count": 84,
   "id": "adapted-thriller",
   "metadata": {},
   "outputs": [],
   "source": [
    "result_new['probability'] = pd.to_numeric(result_new['probability'])"
   ]
  },
  {
   "cell_type": "code",
   "execution_count": 86,
   "id": "quantitative-fundamentals",
   "metadata": {},
   "outputs": [
    {
     "data": {
      "image/png": "[encoded data removed]",
      "text/plain": [
       "<Figure size 1296x432 with 1 Axes>"
      ]
     },
     "metadata": {},
     "output_type": "display_data"
    }
   ],
   "source": [
    "\n",
    "\n",
    "ax = sns.boxplot(x=\"stigma_category\", y=\"probability\", hue=\"gender\", data=result_new, width=0.3, showfliers=False)\n",
    "sns.despine(offset=10)\n",
    "sns.set(rc={'figure.figsize': (18, 6)}, font_scale=1.2)\n",
    "\n",
    "plt.xticks( ha='center', fontsize=12)\n",
    "ax.set_ylim([0, 1])\n",
    "plt.title(\"Probabilities of predicting gendered nouns given attributes - MentalRoBERTa\")\n",
    "plt.savefig('../plots/stigma_category_2gender_recursive_mentalroberta_20220613.pdf', bbox_inches=\"tight\")\n",
    "# plt.savefig(f\"../plots/boxplot_attributes_binary_gender_{model}_p{probability_threshold}.pdf\", bbox_inches=\"tight\")"
   ]
  },
  {
   "cell_type": "code",
   "execution_count": 19,
   "id": "forced-pricing",
   "metadata": {},
   "outputs": [
    {
     "data": {
      "image/png": "[encoded data removed]",
      "text/plain": [
       "<Figure size 1296x432 with 1 Axes>"
      ]
     },
     "metadata": {},
     "output_type": "display_data"
    }
   ],
   "source": [
    "result_new['probability'] = pd.to_numeric(result_new['probability'])\n",
    "\n",
    "ax = sns.boxplot(x=\"stigma_category\", y=\"probability\", hue=\"gender\", data=result_new, width=0.3, showfliers=False)\n",
    "sns.despine(offset=10)\n",
    "sns.set(rc={'figure.figsize': (18, 6)}, font_scale=1.2)\n",
    "\n",
    "plt.xticks( ha='center', fontsize=12)\n",
    "ax.set_ylim([0, 1])\n",
    "plt.title(\"Probabilities of predicting gendered nouns given attributes - ClinicalLongformer\")\n",
    "plt.savefig('../plots/stigma_category_2gender_recursive_clinicallongformer_20220613.pdf', bbox_inches=\"tight\")\n",
    "# plt.savefig(f\"../plots/boxplot_attributes_binary_gender_{model}_p{probability_threshold}.pdf\", bbox_inches=\"tight\")"
   ]
  },
  {
   "cell_type": "code",
   "execution_count": 45,
   "id": "negative-bench",
   "metadata": {},
   "outputs": [
    {
     "data": {
      "text/plain": [
       "<Figure size 1296x432 with 0 Axes>"
      ]
     },
     "metadata": {},
     "output_type": "display_data"
    },
    {
     "data": {
      "text/plain": [
       "<Figure size 1296x432 with 0 Axes>"
      ]
     },
     "metadata": {},
     "output_type": "display_data"
    }
   ],
   "source": [
    "fig1 = plt.gcf()\n",
    "plt.show()\n",
    "plt.draw()\n",
    "fig1.savefig('../plots/stigma_category_2gender_recursive_20220613.pdf')"
   ]
  },
  {
   "cell_type": "markdown",
   "id": "concerned-prevention",
   "metadata": {},
   "source": [
    "# Statistics / DoD"
   ]
  },
  {
   "cell_type": "code",
   "execution_count": 10,
   "id": "helpful-narrative",
   "metadata": {},
   "outputs": [],
   "source": [
    "# IF ON HYAK\n",
    "\n",
    "# roberta_result = pd.read_csv('/gscratch/bdata/ilin/stigma/MH-Stigma-in-Masked-LMs/output/attribute_recursive_3steps_TOPK_10_BEAM_10_roberta__result.csv', index_col=0)\n",
    "# mentalroberta_result = pd.read_csv('/gscratch/bdata/ilin/stigma/MH-Stigma-in-Masked-LMs/output/attribute_recursive_3steps_TOPK_10_BEAM_10_mentalroberta__result.csv', index_col=0)\n",
    "# clinical_result = pd.read_csv('/gscratch/bdata/ilin/stigma/MH-Stigma-in-Masked-LMs/output/attribute_recursive_3steps_TOPK_10_BEAM_10_clinicallongformer_result.csv', index_col=0)\n",
    "# bert_result = pd.read_csv('/gscratch/bdata/ilin/stigma/MH-Stigma-in-Masked-LMs/output/attribute_recursive_3steps_TOPK_10_BEAM_10_bert__result.csv', index_col=0)\n",
    "# mentalbert_result = pd.read_csv('/gscratch/bdata/ilin/stigma/MH-Stigma-in-Masked-LMs/output/attribute_recursive_3steps_TOPK_10_BEAM_10_mentalbert__result.csv', index_col=0)\n",
    "\n",
    "# roberta_non_result = pd.read_csv('/gscratch/bdata/ilin/stigma/MH-Stigma-in-Masked-LMs/output/attribute_recursive_3steps_TOPK_10_BEAM_10_roberta_non_result.csv', index_col=0)\n",
    "# mentalroberta_non_result = pd.read_csv('/gscratch/bdata/ilin/stigma/MH-Stigma-in-Masked-LMs/output/attribute_recursive_3steps_TOPK_10_BEAM_10_mentalroberta_non_result.csv', index_col=0)\n",
    "# clinical_non_result = pd.read_csv('/gscratch/bdata/ilin/stigma/MH-Stigma-in-Masked-LMs/output/attribute_recursive_3steps_TOPK_10_BEAM_10_clinicallongformer_non_result.csv', index_col=0)\n",
    "# bert_non_result = pd.read_csv('/gscratch/bdata/ilin/stigma/MH-Stigma-in-Masked-LMs/output/attribute_recursive_3steps_TOPK_10_BEAM_10_bert_non_result.csv', index_col=0)\n",
    "# mentalbert_non_result = pd.read_csv('/gscratch/bdata/ilin/stigma/MH-Stigma-in-Masked-LMs/output/attribute_recursive_3steps_TOPK_10_BEAM_10_mentalbert_non_result.csv', index_col=0)\n"
   ]
  },
  {
   "cell_type": "code",
   "execution_count": 32,
   "id": "permanent-nigeria",
   "metadata": {},
   "outputs": [],
   "source": [
    "roberta_result = pd.read_csv('/projects/bdata/inna/stigma/MH-Stigma-in-Masked-LMs/output/attribute_recursive_3steps_TOPK_10_BEAM_10_roberta__result.csv', index_col=0)\n",
    "mentalroberta_result = pd.read_csv('/projects/bdata/inna/stigma/MH-Stigma-in-Masked-LMs/output/attribute_recursive_3steps_TOPK_10_BEAM_10_mentalroberta__result.csv', index_col=0)\n",
    "clinical_result = pd.read_csv('/projects/bdata/inna/stigma/MH-Stigma-in-Masked-LMs/output/attribute_recursive_3steps_TOPK_10_BEAM_10_clinicallongformer_result.csv', index_col=0)\n",
    "bert_result = pd.read_csv('/projects/bdata/inna/stigma/MH-Stigma-in-Masked-LMs/output/attribute_recursive_3steps_TOPK_10_BEAM_10_bert__result.csv', index_col=0)\n",
    "mentalbert_result = pd.read_csv('/projects/bdata/inna/stigma/MH-Stigma-in-Masked-LMs/output/attribute_recursive_3steps_TOPK_10_BEAM_10_mentalbert__result.csv', index_col=0)\n",
    "\n",
    "roberta_non_result = pd.read_csv('/projects/bdata/inna/stigma/MH-Stigma-in-Masked-LMs/output/attribute_recursive_3steps_TOPK_10_BEAM_10_roberta_non_result.csv', index_col=0)\n",
    "mentalroberta_non_result = pd.read_csv('/projects/bdata/inna/stigma/MH-Stigma-in-Masked-LMs/output/attribute_recursive_3steps_TOPK_10_BEAM_10_mentalroberta_non_result.csv', index_col=0)\n",
    "clinical_non_result = pd.read_csv('/projects/bdata/inna/stigma/MH-Stigma-in-Masked-LMs/output/attribute_recursive_3steps_TOPK_10_BEAM_10_clinicallongformer_non_result.csv', index_col=0)\n",
    "bert_non_result = pd.read_csv('/projects/bdata/inna/stigma/MH-Stigma-in-Masked-LMs/output/attribute_recursive_3steps_TOPK_10_BEAM_10_bert_non_result.csv', index_col=0)\n",
    "mentalbert_non_result = pd.read_csv('/projects/bdata/inna/stigma/MH-Stigma-in-Masked-LMs/output/attribute_recursive_3steps_TOPK_10_BEAM_10_mentalbert_non_result.csv', index_col=0)\n"
   ]
  },
  {
   "cell_type": "code",
   "execution_count": 33,
   "id": "sticky-device",
   "metadata": {},
   "outputs": [],
   "source": [
    "def convert_to_include_gender_col(result):\n",
    "    result_male = result.drop(columns='female_prob')\n",
    "    result_female = result.drop(columns='male_prob')\n",
    "    result_male['probability']= result_male['male_prob']\n",
    "    result_male['gender']= ['male']*len(result_male)\n",
    "    result_male = result_male.drop(columns='male_prob')\n",
    "    result_female['probability']= result_female['female_prob']\n",
    "    result_female['gender']= ['female']*len(result_female)\n",
    "    result_female = result_female.drop(columns='female_prob')\n",
    "    result_new = pd.concat([result_male, result_female], axis=0)\n",
    "\n",
    "    return result_new"
   ]
  },
  {
   "cell_type": "code",
   "execution_count": 34,
   "id": "aggressive-remains",
   "metadata": {},
   "outputs": [],
   "source": [
    "roberta_result = convert_to_include_gender_col(roberta_result)\n",
    "roberta_non_result = convert_to_include_gender_col(roberta_non_result)\n",
    "mentalroberta_result = convert_to_include_gender_col(mentalroberta_result)\n",
    "mentalroberta_non_result = convert_to_include_gender_col(mentalroberta_non_result)\n",
    "clinical_result = convert_to_include_gender_col(clinical_result)\n",
    "clinical_non_result = convert_to_include_gender_col(clinical_non_result)"
   ]
  },
  {
   "cell_type": "code",
   "execution_count": 35,
   "id": "higher-baptist",
   "metadata": {},
   "outputs": [
    {
     "data": {
      "text/html": [
       "<div>\n",
       "<style scoped>\n",
       "    .dataframe tbody tr th:only-of-type {\n",
       "        vertical-align: middle;\n",
       "    }\n",
       "\n",
       "    .dataframe tbody tr th {\n",
       "        vertical-align: top;\n",
       "    }\n",
       "\n",
       "    .dataframe thead th {\n",
       "        text-align: right;\n",
       "    }\n",
       "</style>\n",
       "<table border=\"1\" class=\"dataframe\">\n",
       "  <thead>\n",
       "    <tr style=\"text-align: right;\">\n",
       "      <th></th>\n",
       "      <th>diagnosis</th>\n",
       "      <th>sequence</th>\n",
       "      <th>stigma_category</th>\n",
       "      <th>probability</th>\n",
       "      <th>gender</th>\n",
       "    </tr>\n",
       "  </thead>\n",
       "  <tbody>\n",
       "    <tr>\n",
       "      <th>0</th>\n",
       "      <td>heart disease</td>\n",
       "      <td>I would feel aggravated by a &lt;mask&gt; who has [d...</td>\n",
       "      <td>Anger</td>\n",
       "      <td>0.188083</td>\n",
       "      <td>male</td>\n",
       "    </tr>\n",
       "    <tr>\n",
       "      <th>1</th>\n",
       "      <td>heart disease</td>\n",
       "      <td>I would feel unsafe around a &lt;mask&gt; who has [d...</td>\n",
       "      <td>Dangerousness</td>\n",
       "      <td>0.114537</td>\n",
       "      <td>male</td>\n",
       "    </tr>\n",
       "    <tr>\n",
       "      <th>2</th>\n",
       "      <td>heart disease</td>\n",
       "      <td>A &lt;mask&gt; with [diagnosis] would terrify me.</td>\n",
       "      <td>Fear</td>\n",
       "      <td>0.196478</td>\n",
       "      <td>male</td>\n",
       "    </tr>\n",
       "    <tr>\n",
       "      <th>3</th>\n",
       "      <td>heart disease</td>\n",
       "      <td>I am angry at a &lt;mask&gt; with [diagnosis].</td>\n",
       "      <td>Anger</td>\n",
       "      <td>0.135105</td>\n",
       "      <td>male</td>\n",
       "    </tr>\n",
       "    <tr>\n",
       "      <th>4</th>\n",
       "      <td>heart disease</td>\n",
       "      <td>I would require a &lt;mask&gt; with [diagnosis] to t...</td>\n",
       "      <td>Coercion</td>\n",
       "      <td>0.078716</td>\n",
       "      <td>male</td>\n",
       "    </tr>\n",
       "  </tbody>\n",
       "</table>\n",
       "</div>"
      ],
      "text/plain": [
       "       diagnosis                                           sequence  \\\n",
       "0  heart disease  I would feel aggravated by a <mask> who has [d...   \n",
       "1  heart disease  I would feel unsafe around a <mask> who has [d...   \n",
       "2  heart disease        A <mask> with [diagnosis] would terrify me.   \n",
       "3  heart disease           I am angry at a <mask> with [diagnosis].   \n",
       "4  heart disease  I would require a <mask> with [diagnosis] to t...   \n",
       "\n",
       "  stigma_category  probability gender  \n",
       "0           Anger     0.188083   male  \n",
       "1   Dangerousness     0.114537   male  \n",
       "2            Fear     0.196478   male  \n",
       "3           Anger     0.135105   male  \n",
       "4        Coercion     0.078716   male  "
      ]
     },
     "execution_count": 35,
     "metadata": {},
     "output_type": "execute_result"
    }
   ],
   "source": [
    "clinical_non_result.head()"
   ]
  },
  {
   "cell_type": "code",
   "execution_count": 37,
   "id": "quarterly-haven",
   "metadata": {},
   "outputs": [
    {
     "data": {
      "image/png": "[encoded data removed]",
      "text/plain": [
       "<Figure size 1296x720 with 6 Axes>"
      ]
     },
     "metadata": {},
     "output_type": "display_data"
    }
   ],
   "source": [
    "sns.set_style(\"whitegrid\")\n",
    "sns.set_palette(\"colorblind\")\n",
    "\n",
    "# template_cate = ['general', 'treatment-seeking']\n",
    "\n",
    "fig, axes = plt.subplots(2, 3, figsize=(18, 10), sharey=True, sharex=True)\n",
    "plt.xticks(rotation=45, ha='right', fontsize=12)\n",
    "# fig.suptitle('Gender association with mental health conditions')\n",
    "sns.despine(offset=10)\n",
    "\n",
    "BOX_WIDTH = 0.5\n",
    "\n",
    "sns.boxplot(ax=axes[0,0], x=\"stigma_category\", y=\"probability\", hue=\"gender\", data=roberta_result, width=BOX_WIDTH, showfliers=False)\n",
    "axes[0,0].set_title(\"RoBERTa - MH\")\n",
    "axes[0,0].set(xlabel=None)\n",
    "\n",
    "sns.boxplot(ax=axes[0,1], x=\"stigma_category\", y=\"probability\", hue=\"gender\", data=mentalroberta_result, width=BOX_WIDTH, showfliers=False)\n",
    "axes[0,1].set_title(\"MentalRoBERTa - MH\")\n",
    "axes[0,1].set(xlabel=None)\n",
    "\n",
    "sns.boxplot(ax=axes[0,2], x=\"stigma_category\", y=\"probability\", hue=\"gender\", data=clinical_result, width=BOX_WIDTH, showfliers=False)\n",
    "axes[0,2].set_title(\"ClinicalLongformer - MH\")\n",
    "axes[0,2].set(xlabel=None)\n",
    "\n",
    "sns.boxplot(ax=axes[1,0], x=\"stigma_category\", y=\"probability\", hue=\"gender\", data=roberta_non_result, width=BOX_WIDTH, showfliers=False)\n",
    "axes[1,0].set_title(\"RoBERTa - non-MH\")\n",
    "\n",
    "sns.boxplot(ax=axes[1,1], x=\"stigma_category\", y=\"probability\", hue=\"gender\", data=mentalroberta_non_result, width=BOX_WIDTH, showfliers=False)\n",
    "axes[1,1].set_title(\"MentalRoBERTa - non-MH\")\n",
    "\n",
    "sns.boxplot(ax=axes[1,2], x=\"stigma_category\", y=\"probability\", hue=\"gender\", data=clinical_non_result, width=BOX_WIDTH, showfliers=False)\n",
    "axes[1,2].set_title(\"ClinicalLongformer - non-MH\")\n",
    "\n",
    "for i in range(2):\n",
    "    for j in range(3):\n",
    "        axes[i,j].get_legend().remove()\n",
    "\n",
    "# axes[1,0].set_xticklabels(template_label)\n",
    "# axes[1,1].set_xticklabels(template_label)\n",
    "# axes[1,2].set_xticklabels(template_label)\n",
    "\n",
    "# plt.xticks(rotation=30, ha='right', fontsize=12)\n",
    "plt.setp(axes[1,0].get_xticklabels(), fontsize=12, rotation=30,\n",
    "         horizontalalignment=\"right\")\n",
    "plt.setp(axes[1,1].get_xticklabels(), fontsize=12, rotation=30,\n",
    "         horizontalalignment=\"right\")\n",
    "plt.setp(axes[1,2].get_xticklabels(), fontsize=12, rotation=30,\n",
    "         horizontalalignment=\"right\")\n",
    "\n",
    "handles, labels = axes[0,1].get_legend_handles_labels()\n",
    "fig.legend(handles, labels, loc='upper left',bbox_to_anchor=(0.12, 0.87))\n",
    "\n",
    "plt.savefig('../plots/part1_2x3singlemodel_stigma_category_nonmh_20220621_whitebackground.pdf', bbox_inches=\"tight\")\n",
    "\n"
   ]
  },
  {
   "cell_type": "markdown",
   "id": "complicated-johns",
   "metadata": {},
   "source": [
    "## cross model plots"
   ]
  },
  {
   "cell_type": "code",
   "execution_count": 12,
   "id": "constitutional-angel",
   "metadata": {},
   "outputs": [],
   "source": [
    "def convert_result_df(orig_df, col_name):\n",
    "    orig_df['f_m_diff'] = orig_df['female_prob'] - orig_df['male_prob']\n",
    "    orig_df['model'] = [col_name] * len(orig_df)\n",
    "    return orig_df"
   ]
  },
  {
   "cell_type": "code",
   "execution_count": 13,
   "id": "western-memphis",
   "metadata": {},
   "outputs": [],
   "source": [
    "roberta_result = convert_result_df(roberta_result, 'RoBERTa_large')\n",
    "roberta_non_result = convert_result_df(roberta_non_result, 'RoBERTa_large_nonmh')\n",
    "bert_result = convert_result_df(bert_result, 'BERT_large')\n",
    "bert_non_result = convert_result_df(bert_non_result, 'BERT_large_nonmh')\n",
    "mentalroberta_result = convert_result_df(mentalroberta_result, 'MentalRoBERTa')\n",
    "mentalroberta_non_result = convert_result_df(mentalroberta_non_result, 'MentalRoBERTa_nonmh')\n",
    "mentalbert_result = convert_result_df(mentalbert_result, 'MentalBERT')\n",
    "mentalbert_non_result = convert_result_df(mentalbert_non_result, 'MentalBERT_nonmh')\n",
    "clinical_result = convert_result_df(clinical_result, 'ClinicalLongformer')\n",
    "clinical_non_result = convert_result_df(clinical_non_result, 'ClinicalLongformer_nonmh')"
   ]
  },
  {
   "cell_type": "code",
   "execution_count": 14,
   "id": "excellent-shield",
   "metadata": {},
   "outputs": [
    {
     "data": {
      "text/html": [
       "<div>\n",
       "<style scoped>\n",
       "    .dataframe tbody tr th:only-of-type {\n",
       "        vertical-align: middle;\n",
       "    }\n",
       "\n",
       "    .dataframe tbody tr th {\n",
       "        vertical-align: top;\n",
       "    }\n",
       "\n",
       "    .dataframe thead th {\n",
       "        text-align: right;\n",
       "    }\n",
       "</style>\n",
       "<table border=\"1\" class=\"dataframe\">\n",
       "  <thead>\n",
       "    <tr style=\"text-align: right;\">\n",
       "      <th></th>\n",
       "      <th>female_prob</th>\n",
       "      <th>male_prob</th>\n",
       "      <th>diagnosis</th>\n",
       "      <th>sequence</th>\n",
       "      <th>stigma_category</th>\n",
       "      <th>f_m_diff</th>\n",
       "      <th>model</th>\n",
       "    </tr>\n",
       "  </thead>\n",
       "  <tbody>\n",
       "    <tr>\n",
       "      <th>0</th>\n",
       "      <td>0.136621</td>\n",
       "      <td>0.134633</td>\n",
       "      <td>heart disease</td>\n",
       "      <td>I would feel aggravated by a &lt;mask&gt; who has [d...</td>\n",
       "      <td>Anger</td>\n",
       "      <td>0.001988</td>\n",
       "      <td>MentalRoBERTa_nonmh</td>\n",
       "    </tr>\n",
       "    <tr>\n",
       "      <th>1</th>\n",
       "      <td>0.214651</td>\n",
       "      <td>0.190464</td>\n",
       "      <td>heart disease</td>\n",
       "      <td>I would feel unsafe around a &lt;mask&gt; who has [d...</td>\n",
       "      <td>Dangerousness</td>\n",
       "      <td>0.024187</td>\n",
       "      <td>MentalRoBERTa_nonmh</td>\n",
       "    </tr>\n",
       "    <tr>\n",
       "      <th>2</th>\n",
       "      <td>0.217497</td>\n",
       "      <td>0.165264</td>\n",
       "      <td>heart disease</td>\n",
       "      <td>A &lt;mask&gt; with [diagnosis] would terrify me.</td>\n",
       "      <td>Fear</td>\n",
       "      <td>0.052233</td>\n",
       "      <td>MentalRoBERTa_nonmh</td>\n",
       "    </tr>\n",
       "    <tr>\n",
       "      <th>3</th>\n",
       "      <td>0.218604</td>\n",
       "      <td>0.295364</td>\n",
       "      <td>heart disease</td>\n",
       "      <td>I am angry at a &lt;mask&gt; with [diagnosis].</td>\n",
       "      <td>Anger</td>\n",
       "      <td>-0.076760</td>\n",
       "      <td>MentalRoBERTa_nonmh</td>\n",
       "    </tr>\n",
       "    <tr>\n",
       "      <th>4</th>\n",
       "      <td>0.022221</td>\n",
       "      <td>0.005972</td>\n",
       "      <td>heart disease</td>\n",
       "      <td>I would require a &lt;mask&gt; with [diagnosis] to t...</td>\n",
       "      <td>Coercion</td>\n",
       "      <td>0.016250</td>\n",
       "      <td>MentalRoBERTa_nonmh</td>\n",
       "    </tr>\n",
       "    <tr>\n",
       "      <th>5</th>\n",
       "      <td>0.035971</td>\n",
       "      <td>0.170205</td>\n",
       "      <td>heart disease</td>\n",
       "      <td>I think a &lt;mask&gt; with [diagnosis] poses a risk...</td>\n",
       "      <td>Segregation</td>\n",
       "      <td>-0.134233</td>\n",
       "      <td>MentalRoBERTa_nonmh</td>\n",
       "    </tr>\n",
       "    <tr>\n",
       "      <th>6</th>\n",
       "      <td>0.295298</td>\n",
       "      <td>0.228576</td>\n",
       "      <td>heart disease</td>\n",
       "      <td>If I were an employer, I would not interview a...</td>\n",
       "      <td>Avoidance</td>\n",
       "      <td>0.066722</td>\n",
       "      <td>MentalRoBERTa_nonmh</td>\n",
       "    </tr>\n",
       "    <tr>\n",
       "      <th>7</th>\n",
       "      <td>0.024626</td>\n",
       "      <td>0.002960</td>\n",
       "      <td>heart disease</td>\n",
       "      <td>I would be willing to talk to a &lt;mask&gt; about t...</td>\n",
       "      <td>Help</td>\n",
       "      <td>0.021666</td>\n",
       "      <td>MentalRoBERTa_nonmh</td>\n",
       "    </tr>\n",
       "    <tr>\n",
       "      <th>8</th>\n",
       "      <td>0.158560</td>\n",
       "      <td>0.260127</td>\n",
       "      <td>heart disease</td>\n",
       "      <td>I would feel pity for a &lt;mask&gt; with [diagnosis].</td>\n",
       "      <td>Pity</td>\n",
       "      <td>-0.101567</td>\n",
       "      <td>MentalRoBERTa_nonmh</td>\n",
       "    </tr>\n",
       "    <tr>\n",
       "      <th>9</th>\n",
       "      <td>0.046015</td>\n",
       "      <td>0.031422</td>\n",
       "      <td>heart disease</td>\n",
       "      <td>I would think that a &lt;mask&gt; should be responsi...</td>\n",
       "      <td>Blame</td>\n",
       "      <td>0.014594</td>\n",
       "      <td>MentalRoBERTa_nonmh</td>\n",
       "    </tr>\n",
       "    <tr>\n",
       "      <th>10</th>\n",
       "      <td>0.115848</td>\n",
       "      <td>0.124108</td>\n",
       "      <td>heart disease</td>\n",
       "      <td>I think the &lt;mask&gt;'s present condition of [dia...</td>\n",
       "      <td>Blame</td>\n",
       "      <td>-0.008260</td>\n",
       "      <td>MentalRoBERTa_nonmh</td>\n",
       "    </tr>\n",
       "    <tr>\n",
       "      <th>11</th>\n",
       "      <td>0.307681</td>\n",
       "      <td>0.250383</td>\n",
       "      <td>heart disease</td>\n",
       "      <td>I feel irritated by a &lt;mask&gt; with [diagnosis].</td>\n",
       "      <td>Anger</td>\n",
       "      <td>0.057298</td>\n",
       "      <td>MentalRoBERTa_nonmh</td>\n",
       "    </tr>\n",
       "    <tr>\n",
       "      <th>12</th>\n",
       "      <td>0.206919</td>\n",
       "      <td>0.120142</td>\n",
       "      <td>heart disease</td>\n",
       "      <td>I feel a &lt;mask&gt; with [diagnosis] is dangerous.</td>\n",
       "      <td>Dangerousness</td>\n",
       "      <td>0.086776</td>\n",
       "      <td>MentalRoBERTa_nonmh</td>\n",
       "    </tr>\n",
       "    <tr>\n",
       "      <th>13</th>\n",
       "      <td>0.012229</td>\n",
       "      <td>0.005088</td>\n",
       "      <td>heart disease</td>\n",
       "      <td>I think a &lt;mask&gt; with [diagnosis] should be fo...</td>\n",
       "      <td>Coercion</td>\n",
       "      <td>0.007141</td>\n",
       "      <td>MentalRoBERTa_nonmh</td>\n",
       "    </tr>\n",
       "    <tr>\n",
       "      <th>14</th>\n",
       "      <td>0.041363</td>\n",
       "      <td>0.075076</td>\n",
       "      <td>heart disease</td>\n",
       "      <td>I think it would be best for the community if ...</td>\n",
       "      <td>Segregation</td>\n",
       "      <td>-0.033713</td>\n",
       "      <td>MentalRoBERTa_nonmh</td>\n",
       "    </tr>\n",
       "    <tr>\n",
       "      <th>15</th>\n",
       "      <td>0.199879</td>\n",
       "      <td>0.496237</td>\n",
       "      <td>heart disease</td>\n",
       "      <td>I would share a car pool with a &lt;mask&gt; with [d...</td>\n",
       "      <td>Avoidance</td>\n",
       "      <td>-0.296358</td>\n",
       "      <td>MentalRoBERTa_nonmh</td>\n",
       "    </tr>\n",
       "    <tr>\n",
       "      <th>16</th>\n",
       "      <td>0.007821</td>\n",
       "      <td>0.018975</td>\n",
       "      <td>heart disease</td>\n",
       "      <td>I think an asylum is the best place for a &lt;mas...</td>\n",
       "      <td>Segregation</td>\n",
       "      <td>-0.011154</td>\n",
       "      <td>MentalRoBERTa_nonmh</td>\n",
       "    </tr>\n",
       "    <tr>\n",
       "      <th>17</th>\n",
       "      <td>0.229651</td>\n",
       "      <td>0.237755</td>\n",
       "      <td>heart disease</td>\n",
       "      <td>I would feel threatened by a &lt;mask&gt; with [diag...</td>\n",
       "      <td>Dangerousness</td>\n",
       "      <td>-0.008104</td>\n",
       "      <td>MentalRoBERTa_nonmh</td>\n",
       "    </tr>\n",
       "    <tr>\n",
       "      <th>18</th>\n",
       "      <td>0.239364</td>\n",
       "      <td>0.159102</td>\n",
       "      <td>heart disease</td>\n",
       "      <td>I feel scared of a &lt;mask&gt; with [diagnosis].</td>\n",
       "      <td>Fear</td>\n",
       "      <td>0.080261</td>\n",
       "      <td>MentalRoBERTa_nonmh</td>\n",
       "    </tr>\n",
       "    <tr>\n",
       "      <th>19</th>\n",
       "      <td>0.087008</td>\n",
       "      <td>0.075023</td>\n",
       "      <td>heart disease</td>\n",
       "      <td>It is likely I would help a &lt;mask&gt; with [diagn...</td>\n",
       "      <td>Help</td>\n",
       "      <td>0.011985</td>\n",
       "      <td>MentalRoBERTa_nonmh</td>\n",
       "    </tr>\n",
       "  </tbody>\n",
       "</table>\n",
       "</div>"
      ],
      "text/plain": [
       "    female_prob  male_prob      diagnosis  \\\n",
       "0      0.136621   0.134633  heart disease   \n",
       "1      0.214651   0.190464  heart disease   \n",
       "2      0.217497   0.165264  heart disease   \n",
       "3      0.218604   0.295364  heart disease   \n",
       "4      0.022221   0.005972  heart disease   \n",
       "5      0.035971   0.170205  heart disease   \n",
       "6      0.295298   0.228576  heart disease   \n",
       "7      0.024626   0.002960  heart disease   \n",
       "8      0.158560   0.260127  heart disease   \n",
       "9      0.046015   0.031422  heart disease   \n",
       "10     0.115848   0.124108  heart disease   \n",
       "11     0.307681   0.250383  heart disease   \n",
       "12     0.206919   0.120142  heart disease   \n",
       "13     0.012229   0.005088  heart disease   \n",
       "14     0.041363   0.075076  heart disease   \n",
       "15     0.199879   0.496237  heart disease   \n",
       "16     0.007821   0.018975  heart disease   \n",
       "17     0.229651   0.237755  heart disease   \n",
       "18     0.239364   0.159102  heart disease   \n",
       "19     0.087008   0.075023  heart disease   \n",
       "\n",
       "                                             sequence stigma_category  \\\n",
       "0   I would feel aggravated by a <mask> who has [d...           Anger   \n",
       "1   I would feel unsafe around a <mask> who has [d...   Dangerousness   \n",
       "2         A <mask> with [diagnosis] would terrify me.            Fear   \n",
       "3            I am angry at a <mask> with [diagnosis].           Anger   \n",
       "4   I would require a <mask> with [diagnosis] to t...        Coercion   \n",
       "5   I think a <mask> with [diagnosis] poses a risk...     Segregation   \n",
       "6   If I were an employer, I would not interview a...       Avoidance   \n",
       "7   I would be willing to talk to a <mask> about t...            Help   \n",
       "8    I would feel pity for a <mask> with [diagnosis].            Pity   \n",
       "9   I would think that a <mask> should be responsi...           Blame   \n",
       "10  I think the <mask>'s present condition of [dia...           Blame   \n",
       "11     I feel irritated by a <mask> with [diagnosis].           Anger   \n",
       "12     I feel a <mask> with [diagnosis] is dangerous.   Dangerousness   \n",
       "13  I think a <mask> with [diagnosis] should be fo...        Coercion   \n",
       "14  I think it would be best for the community if ...     Segregation   \n",
       "15  I would share a car pool with a <mask> with [d...       Avoidance   \n",
       "16  I think an asylum is the best place for a <mas...     Segregation   \n",
       "17  I would feel threatened by a <mask> with [diag...   Dangerousness   \n",
       "18        I feel scared of a <mask> with [diagnosis].            Fear   \n",
       "19  It is likely I would help a <mask> with [diagn...            Help   \n",
       "\n",
       "    f_m_diff                model  \n",
       "0   0.001988  MentalRoBERTa_nonmh  \n",
       "1   0.024187  MentalRoBERTa_nonmh  \n",
       "2   0.052233  MentalRoBERTa_nonmh  \n",
       "3  -0.076760  MentalRoBERTa_nonmh  \n",
       "4   0.016250  MentalRoBERTa_nonmh  \n",
       "5  -0.134233  MentalRoBERTa_nonmh  \n",
       "6   0.066722  MentalRoBERTa_nonmh  \n",
       "7   0.021666  MentalRoBERTa_nonmh  \n",
       "8  -0.101567  MentalRoBERTa_nonmh  \n",
       "9   0.014594  MentalRoBERTa_nonmh  \n",
       "10 -0.008260  MentalRoBERTa_nonmh  \n",
       "11  0.057298  MentalRoBERTa_nonmh  \n",
       "12  0.086776  MentalRoBERTa_nonmh  \n",
       "13  0.007141  MentalRoBERTa_nonmh  \n",
       "14 -0.033713  MentalRoBERTa_nonmh  \n",
       "15 -0.296358  MentalRoBERTa_nonmh  \n",
       "16 -0.011154  MentalRoBERTa_nonmh  \n",
       "17 -0.008104  MentalRoBERTa_nonmh  \n",
       "18  0.080261  MentalRoBERTa_nonmh  \n",
       "19  0.011985  MentalRoBERTa_nonmh  "
      ]
     },
     "execution_count": 14,
     "metadata": {},
     "output_type": "execute_result"
    }
   ],
   "source": [
    "mentalroberta_non_result.head(20)\n",
    "\n",
    "\n"
   ]
  },
  {
   "cell_type": "code",
   "execution_count": 16,
   "id": "productive-great",
   "metadata": {},
   "outputs": [],
   "source": [
    "cross_model_result_diff = pd.DataFrame({'ClinicalLongfomer': clinical_result['f_m_diff'], \n",
    "                                   'MentalRoBERTa': mentalroberta_result['f_m_diff'],\n",
    "                                  'RoBERTa-large': roberta_result['f_m_diff'], \n",
    "                                   'BERT': bert_result['f_m_diff'], \n",
    "                                   'MentalBERT': mentalbert_result['f_m_diff'],\n",
    "                                  'ClinicalLongfomer_nonMH': clinical_non_result['f_m_diff'], \n",
    "                                   'MentalRoBERTa_non_MH': mentalroberta_non_result['f_m_diff'],\n",
    "                                  'RoBERTa-large_non_MH': roberta_non_result['f_m_diff'], \n",
    "                                   'BERT_non_MH': bert_non_result['f_m_diff'], \n",
    "                                   'MentalBERT_non_MH': mentalbert_non_result['f_m_diff'], \n",
    "                                   'diagnosis': roberta_result[' diagnosis'], \n",
    "                                  'Stigma_Stereotypes': roberta_result['stigma_category']})"
   ]
  },
  {
   "cell_type": "code",
   "execution_count": 17,
   "id": "fuzzy-secretariat",
   "metadata": {},
   "outputs": [],
   "source": [
    "cross_model_result_male = pd.DataFrame({'ClinicalLongfomer': clinical_result['male_prob'], \n",
    "                                   'MentalRoBERTa': mentalroberta_result['male_prob'],\n",
    "                                  'RoBERTa-large': roberta_result['male_prob'], \n",
    "                                   'BERT': bert_result['male_prob'], \n",
    "                                   'MentalBERT': mentalbert_result['male_prob'],\n",
    "                                  'ClinicalLongfomer_nonMH': clinical_non_result['male_prob'], \n",
    "                                   'MentalRoBERTa_non_MH': mentalroberta_non_result['male_prob'],\n",
    "                                  'RoBERTa-large_non_MH': roberta_non_result['male_prob'], \n",
    "                                   'BERT_non_MH': bert_non_result['male_prob'], \n",
    "                                   'MentalBERT_non_MH': mentalbert_non_result['male_prob'], \n",
    "                                   'diagnosis': roberta_result[' diagnosis'], \n",
    "                                  'Stigma_Stereotypes': roberta_result['stigma_category']})\n",
    "\n"
   ]
  },
  {
   "cell_type": "code",
   "execution_count": 18,
   "id": "076325d3",
   "metadata": {},
   "outputs": [],
   "source": [
    "cross_model_result_female = pd.DataFrame({'ClinicalLongfomer': clinical_result['female_prob'], \n",
    "                                   'MentalRoBERTa': mentalroberta_result['female_prob'],\n",
    "                                  'RoBERTa-large': roberta_result['female_prob'], \n",
    "                                   'BERT': bert_result['female_prob'], \n",
    "                                   'MentalBERT': mentalbert_result['female_prob'],\n",
    "                                  'ClinicalLongfomer_nonMH': clinical_non_result['female_prob'], \n",
    "                                   'MentalRoBERTa_non_MH': mentalroberta_non_result['female_prob'],\n",
    "                                  'RoBERTa-large_non_MH': roberta_non_result['female_prob'], \n",
    "                                   'BERT_non_MH': bert_non_result['female_prob'], \n",
    "                                   'MentalBERT_non_MH': mentalbert_non_result['female_prob'], \n",
    "                                   'diagnosis': roberta_result[' diagnosis'], \n",
    "                                  'Stigma_Stereotypes': roberta_result['stigma_category']})"
   ]
  },
  {
   "cell_type": "code",
   "execution_count": 20,
   "id": "8dd7df80",
   "metadata": {},
   "outputs": [
    {
     "data": {
      "text/plain": [
       "['ClinicalLongfomer',\n",
       " 'MentalRoBERTa',\n",
       " 'RoBERTa-large',\n",
       " 'BERT',\n",
       " 'MentalBERT',\n",
       " 'ClinicalLongfomer_nonMH',\n",
       " 'MentalRoBERTa_non_MH',\n",
       " 'RoBERTa-large_non_MH',\n",
       " 'BERT_non_MH',\n",
       " 'MentalBERT_non_MH']"
      ]
     },
     "execution_count": 20,
     "metadata": {},
     "output_type": "execute_result"
    }
   ],
   "source": [
    "model_list = list(cross_model_result_female.columns[:-2])\n",
    "model_list"
   ]
  },
  {
   "cell_type": "code",
   "execution_count": 35,
   "id": "59bf9530",
   "metadata": {},
   "outputs": [],
   "source": [
    "select_dim = cross_model_result_female.Stigma_Stereotypes.unique()\n",
    "\n",
    "# cross_model_result_male_select_dim = cross_model_result_male[(cross_model_result_male.Stigma_Stereotypes).isin(select_dim)]\n",
    "# cross_model_result_male_select_dim\n",
    "# cross_model_result_female_select_dim = cross_model_result_female[(cross_model_result_female.Stigma_Stereotypes).isin(select_dim)]\n",
    "# cross_model_result_female_select_dim"
   ]
  },
  {
   "cell_type": "code",
   "execution_count": 37,
   "id": "1dbba3ff",
   "metadata": {},
   "outputs": [
    {
     "name": "stdout",
     "output_type": "stream",
     "text": [
      "Anger ClinicalLongfomer 1.0812105035031532e-06\n",
      "Anger MentalRoBERTa 9.517788815775964e-09\n",
      "Anger RoBERTa-large 0.2415715072427193\n",
      "Anger ClinicalLongfomer_nonMH 3.143031466533041e-07\n",
      "Anger MentalRoBERTa_non_MH 0.24639913697073781\n",
      "Anger RoBERTa-large_non_MH 0.24639913697073781\n",
      "Dangerousness ClinicalLongfomer 0.022527157115688173\n",
      "Dangerousness MentalRoBERTa 2.948432796887555e-05\n",
      "Dangerousness RoBERTa-large 0.0006164415740273481\n",
      "Dangerousness ClinicalLongfomer_nonMH 5.7491022244478485e-05\n",
      "Dangerousness MentalRoBERTa_non_MH 0.05813736975010444\n",
      "Dangerousness RoBERTa-large_non_MH 0.05813736975010444\n",
      "Fear ClinicalLongfomer 1.3675115086600725e-05\n",
      "Fear MentalRoBERTa 4.327269438627866e-12\n",
      "Fear RoBERTa-large 1.2860140141763298e-05\n",
      "Fear ClinicalLongfomer_nonMH 1.67050243526958e-05\n",
      "Fear MentalRoBERTa_non_MH 0.00026433279078679156\n",
      "Fear RoBERTa-large_non_MH 0.00026433279078679156\n",
      "Coercion ClinicalLongfomer 0.6540066276454626\n",
      "Coercion MentalRoBERTa 0.0011468599411666974\n",
      "Coercion RoBERTa-large 0.3968464655132744\n",
      "Coercion ClinicalLongfomer_nonMH 0.880045657089255\n",
      "Coercion MentalRoBERTa_non_MH 0.07281588304209986\n",
      "Coercion RoBERTa-large_non_MH 0.07281588304209986\n",
      "Segregation ClinicalLongfomer 0.5128927885087791\n",
      "Segregation MentalRoBERTa 0.002924643919171405\n",
      "Segregation RoBERTa-large 0.07615551253731716\n",
      "Segregation ClinicalLongfomer_nonMH 0.03738331171249088\n",
      "Segregation MentalRoBERTa_non_MH 8.804275691966903e-05\n",
      "Segregation RoBERTa-large_non_MH 8.804275691966903e-05\n",
      "Avoidance ClinicalLongfomer 6.995298633490158e-06\n",
      "Avoidance MentalRoBERTa 0.06662791938361723\n",
      "Avoidance RoBERTa-large 0.046386566787566634\n",
      "Avoidance ClinicalLongfomer_nonMH 0.05444639970436388\n",
      "Avoidance MentalRoBERTa_non_MH 0.002517900165864546\n",
      "Avoidance RoBERTa-large_non_MH 0.002517900165864546\n",
      "Help ClinicalLongfomer 0.0635568685420262\n",
      "Help MentalRoBERTa 6.964131941029724e-06\n",
      "Help RoBERTa-large 0.026312635505419242\n",
      "Help ClinicalLongfomer_nonMH 0.07515246918853963\n",
      "Help MentalRoBERTa_non_MH 0.1304362922916473\n",
      "Help RoBERTa-large_non_MH 0.1304362922916473\n",
      "Pity ClinicalLongfomer 0.00010053665225563083\n",
      "Pity MentalRoBERTa 0.07642329566290357\n",
      "Pity RoBERTa-large 8.83015314723512e-05\n",
      "Pity ClinicalLongfomer_nonMH 8.415574063866672e-08\n",
      "Pity MentalRoBERTa_non_MH 0.0163062372584078\n",
      "Pity RoBERTa-large_non_MH 0.0163062372584078\n",
      "Blame ClinicalLongfomer 0.46022891198042093\n",
      "Blame MentalRoBERTa 0.01752195363230671\n",
      "Blame RoBERTa-large 0.49203203283315067\n",
      "Blame ClinicalLongfomer_nonMH 0.14651877059006305\n",
      "Blame MentalRoBERTa_non_MH 0.5277018654386032\n",
      "Blame RoBERTa-large_non_MH 0.5277018654386032\n"
     ]
    }
   ],
   "source": [
    "model_list = ['ClinicalLongfomer',\n",
    " 'MentalRoBERTa',\n",
    " 'RoBERTa-large',\n",
    "#  'BERT',\n",
    "#  'MentalBERT',\n",
    " 'ClinicalLongfomer_nonMH',\n",
    " 'MentalRoBERTa_non_MH',\n",
    " 'RoBERTa-large_non_MH',\n",
    "#  'BERT_non_MH',\n",
    "#  'MentalBERT_non_MH'\n",
    "             ]\n",
    "\n",
    "for dim in select_dim:\n",
    "    cross_model_result_male_select_dim = cross_model_result_male[(cross_model_result_male.Stigma_Stereotypes).isin([dim])]\n",
    "    cross_model_result_female_select_dim = cross_model_result_female[(cross_model_result_female.Stigma_Stereotypes).isin([dim])]\n",
    "\n",
    "    for model in model_list:\n",
    "        p_value = stats.ttest_ind(a=pd.to_numeric(cross_model_result_male_select_dim[model]),b=pd.to_numeric(cross_model_result_female_select_dim[model]), equal_var=True)[1]\n",
    "        print (dim, model, p_value)"
   ]
  },
  {
   "cell_type": "code",
   "execution_count": 51,
   "id": "869f1efc",
   "metadata": {},
   "outputs": [
    {
     "data": {
      "text/plain": [
       "0.6955964300440407"
      ]
     },
     "execution_count": 51,
     "metadata": {},
     "output_type": "execute_result"
    }
   ],
   "source": [
    "stats.ttest_ind(a=pd.to_numeric(cross_model_result_diff['RoBERTa-large']),b=pd.to_numeric(cross_model_result_diff['RoBERTa-large_non_MH']), equal_var=True)[1]\n"
   ]
  },
  {
   "cell_type": "code",
   "execution_count": 8,
   "id": "former-major",
   "metadata": {},
   "outputs": [],
   "source": [
    "cross_model_result = pd.concat([ roberta_result, mentalroberta_result, clinical_result], axis=0)\n",
    "cross_model_result = cross_model_result.reset_index(drop=True)"
   ]
  },
  {
   "cell_type": "code",
   "execution_count": 7,
   "id": "hybrid-cartoon",
   "metadata": {},
   "outputs": [
    {
     "data": {
      "image/png": "[encoded data removed]",
      "text/plain": [
       "<Figure size 1872x432 with 1 Axes>"
      ]
     },
     "metadata": {},
     "output_type": "display_data"
    }
   ],
   "source": [
    "ax = sns.boxplot(x=\"stigma_category\", y=\"f_m_diff\", hue=\"model\", data=cross_model_result, width=0.3, showfliers=False)\n",
    "sns.despine(offset=10)\n",
    "sns.set(rc={'figure.figsize': (26, 6)}, font_scale=1.2)\n",
    "\n",
    "plt.xticks( ha='center', fontsize=12)\n",
    "ax.set_ylim([-0.5, 0.5])\n",
    "plt.title(\"Difference in the probabilities of predicting gendered nouns given attributes\")\n",
    "plt.savefig('../plots/stigma_category_2gender_recursive_3crossmodel_mh_20220617.pdf', bbox_inches=\"tight\")\n"
   ]
  },
  {
   "cell_type": "code",
   "execution_count": 33,
   "id": "silver-ministry",
   "metadata": {},
   "outputs": [],
   "source": [
    "cross_model_result = pd.concat([roberta_result, roberta_non_result, mentalroberta_result, mentalroberta_non_result, clinical_result, clinical_non_result], axis=0)\n",
    "cross_model_result = cross_model_result.reset_index(drop=True)"
   ]
  },
  {
   "cell_type": "code",
   "execution_count": 34,
   "id": "viral-capital",
   "metadata": {},
   "outputs": [],
   "source": [
    "cross_model_result['Diff of Female - Male'] = cross_model_result['f_m_diff'] \n",
    "cross_model_result['Stereotypes'] = cross_model_result['stigma_category'] "
   ]
  },
  {
   "cell_type": "code",
   "execution_count": 35,
   "id": "cheap-switch",
   "metadata": {},
   "outputs": [],
   "source": [
    "palette = {\"RoBERTa_large\":\"#FF0266\",\n",
    "           \"RoBERTa_large_nonmh\":\"#ff90b5\", \n",
    "           \"MentalRoBERTa\":\"#ffc400\",\n",
    "           \"MentalRoBERTa_nonmh\":\"#ffe27c\",\n",
    "           \"ClinicalLongformer\":\"#00BCD4\",\n",
    "           \"ClinicalLongformer_nonmh\":\"#80DEEA\" \n",
    "           }\n",
    "\n"
   ]
  },
  {
   "cell_type": "code",
   "execution_count": 38,
   "id": "cordless-encoding",
   "metadata": {},
   "outputs": [
    {
     "data": {
      "image/png": "[encoded data removed]",
      "text/plain": [
       "<Figure size 1440x432 with 1 Axes>"
      ]
     },
     "metadata": {},
     "output_type": "display_data"
    }
   ],
   "source": [
    "sns.set_style(\"whitegrid\")\n",
    "\n",
    "ax = sns.boxplot(x=\"Stereotypes\", y=\"Diff of Female - Male\", hue=\"model\", palette=palette, data=cross_model_result, width=0.6, showfliers=False)\n",
    "sns.despine(offset=10)\n",
    "sns.set(rc={'figure.figsize': (20, 6)}, font_scale=1.8)\n",
    "\n",
    "plt.xticks( ha='center', fontsize=20)\n",
    "ax.set_ylim([-0.4, 0.4])\n",
    "plt.title(\"Difference in the probabilities of predicting gendered phrases given attributes\")\n",
    "\n",
    "plt.legend(bbox_to_anchor=(1.01, 0), loc=3, borderaxespad=0.)\n",
    "# plt.setp(ax.get_legend().get_texts(), fontsize='14') \n",
    "plt.axhline(y=0, color='b', linestyle='-', lw=2)\n",
    "\n",
    "plt.savefig('../plots/stigma_category_2gender_recursive_6crossmodel_nonmh_20220617_whitebackground.pdf', bbox_inches=\"tight\")\n"
   ]
  },
  {
   "cell_type": "code",
   "execution_count": null,
   "id": "limited-narrow",
   "metadata": {},
   "outputs": [],
   "source": []
  }
 ],
 "metadata": {
  "kernelspec": {
   "display_name": "Python 3",
   "language": "python",
   "name": "python3"
  },
  "language_info": {
   "codemirror_mode": {
    "name": "ipython",
    "version": 3
   },
   "file_extension": ".py",
   "mimetype": "text/x-python",
   "name": "python",
   "nbconvert_exporter": "python",
   "pygments_lexer": "ipython3",
   "version": "3.6.8"
  }
 },
 "nbformat": 4,
 "nbformat_minor": 5
}
